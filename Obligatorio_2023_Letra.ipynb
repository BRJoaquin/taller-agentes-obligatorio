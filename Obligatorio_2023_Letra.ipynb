{
  "cells": [
    {
      "attachments": {},
      "cell_type": "markdown",
      "metadata": {
        "id": "FvK9xJR6t9Iw",
        "pycharm": {
          "name": "#%% md\n"
        }
      },
      "source": [
        "# Obligatorio - Taller Agentes Inteligentes 2023\n",
        "\n",
        "Vamos a usar el juego Super Mario Bros:\n",
        "PyPi: https://pypi.org/project/gym-super-mario-bros/ \n",
        "Repo: https://github.com/Kautenja/gym-super-mario-bros\n",
        "\n",
        "En este caso, el juego está programado como un ambiente de OpenAI Gym, cumpliendo con las interfaces que hemos trabajado en el curso.\n",
        "\n",
        "\n",
        "El objetivo del juego consta de lograr que nuestro personaje llegue al final de la pantalla, sin ser comido por enemigos o caer al vacío."
      ]
    },
    {
      "attachments": {},
      "cell_type": "markdown",
      "metadata": {
        "id": "BgqA_LYAt9I0"
      },
      "source": [
        "![](./assets/images/mario.gif)"
      ]
    },
    {
      "attachments": {},
      "cell_type": "markdown",
      "metadata": {
        "id": "QkZeuZ7Rt9I0"
      },
      "source": [
        "Si bien el juego podría considerarse de múltiples agentes (mario, y sus enemigos), utilizaremos unicamente las heramientas del curso para solucionarlo, esto es, todo lo que no conforma a nuestros agentes será considerado ambiente y tratado como tal.\n",
        "\n",
        "El objetivo es resolver el juego utilizando Deep Q Learning y Double Deep Q Learning, comparando sus resultados.\n",
        "\n",
        "\n",
        "## Tareas:\n",
        "\n",
        "\n",
        "1. Completar el código faltante en este notebook (y archivos asociados).\n",
        "\n",
        "\n",
        "2. Entrenar un agente de Deep Q Learning (DQN) para cada ambiente tal que éste sea capaz de resolverlo.\n",
        "\n",
        "\n",
        "3. Entrenar un agente de Double Deep Q Learning (DDQN) para cada ambiente tal que éste sea capaz de resolverlo.\n",
        "\n",
        "\n",
        "4. Graficar las recompensas obtenidas para cada ambiente por cada agente (Ambos agentes resolviendo el ambiente 1 en una misma gráfica, idem para el ambiente 2). Escribir al menos 2 conclusiones de cada grafica. \n",
        "\n",
        "\n",
        "5. Grabar un video de cada agente resolviendo cada problema (pueden descargar el video desde colab y entregarlos dentro de un zip).\n",
        "\n",
        "\n",
        "Recuerden que pueden usar la GPU en google colab para agilizar el entrenamiento. \n",
        "***\n",
        "\n",
        "\n",
        "Fecha de entrega: **04/07** 21hs por gestión (gestion.ort.edu.uy). Pueden trabajar en grupos de hasta 3 estudiantes. \n",
        "***"
      ]
    },
    {
      "attachments": {},
      "cell_type": "markdown",
      "metadata": {
        "id": "YWf2qc2Hykps",
        "pycharm": {
          "name": "#%% md\n"
        }
      },
      "source": [
        "Instalación de librerías. Se fija la versión de gym, dado que para dicha versión las ROMS de los juegos ya estan includias y se evita su instalación separada lo que puede originar problemas."
      ]
    },
    {
      "cell_type": "code",
      "execution_count": 1,
      "metadata": {
        "id": "r9wotKEgOaUW",
        "pycharm": {
          "name": "#%%\n"
        }
      },
      "outputs": [],
      "source": [
        "# %pip install pyvirtualdisplay > /dev/null 2>&1\n",
        "# # !apt-get install -y xvfb python-opengl ffmpeg > /dev/null 2>&1\n",
        "# %pip install opencv-python\n",
        "# %pip install torchsummary\n",
        "# %pip install nes-py\n",
        "# %pip install --force-reinstall gym-super-mario-bros==7.4.0  > /dev/null 2>&1\n",
        "# %pip install --force-reinstall gym==0.15.3 > /dev/null 2>&1\n",
        "# %pip install pillow==8.4.0\n",
        "# %pip install torchvision==0.11.1\n",
        "# %pip install pyglet==1.4.9\n",
        "# %pip install matplotlib\n"
      ]
    },
    {
      "attachments": {},
      "cell_type": "markdown",
      "metadata": {
        "id": "gc6t9etEt9I2",
        "pycharm": {
          "name": "#%%\n"
        }
      },
      "source": [
        "Imports y configuraciones de ambiente"
      ]
    },
    {
      "cell_type": "code",
      "execution_count": 2,
      "metadata": {},
      "outputs": [],
      "source": [
        "# %pip install matplotlib\n",
        "# %pip install torch torchvision torchaudio --index-url https://download.pytorch.org/whl/cu118\n",
        "# %pip install tensorboard\n"
      ]
    },
    {
      "cell_type": "code",
      "execution_count": 3,
      "metadata": {
        "id": "cwHCw6PMt9I3",
        "pycharm": {
          "name": "#%%\n"
        }
      },
      "outputs": [],
      "source": [
        "import os\n",
        "import torch\n",
        "import gym\n",
        "import numpy as np\n",
        "import matplotlib.pyplot as plt\n",
        "\n",
        "import math\n",
        "import random\n",
        "import numpy as np\n",
        "from PIL import Image\n",
        "from torchvision import transforms\n",
        "import torch.nn as nn\n",
        "import torch.nn.functional as F\n",
        "import mario_utils"
      ]
    },
    {
      "attachments": {},
      "cell_type": "markdown",
      "metadata": {
        "id": "ySRyzNz8t9I3"
      },
      "source": [
        "Checkeo de devices"
      ]
    },
    {
      "cell_type": "code",
      "execution_count": 4,
      "metadata": {
        "colab": {
          "base_uri": "https://localhost:8080/"
        },
        "id": "8zcyB176t9I3",
        "outputId": "4239691d-04a7-47de-9898-ee53cf047a8c"
      },
      "outputs": [
        {
          "name": "stdout",
          "output_type": "stream",
          "text": [
            "Running on cuda:0\n",
            "Cuda Available: True\n"
          ]
        }
      ],
      "source": [
        "torch.zeros(1).cuda()\n",
        "\n",
        "DEVICE = torch.device('cuda:0' if torch.cuda.is_available() else 'cpu')\n",
        "print(f\"Running on {DEVICE}\")\n",
        "\n",
        "random.seed(42)\n",
        "np.random.seed(42)\n",
        "torch.manual_seed(42)\n",
        "torch.backends.cudnn.deterministic = True\n",
        "\n",
        "print(\"Cuda Available:\", torch.cuda.is_available())"
      ]
    },
    {
      "attachments": {},
      "cell_type": "markdown",
      "metadata": {
        "id": "xcfjdDuQt9I4"
      },
      "source": [
        "Setting de seeds"
      ]
    },
    {
      "cell_type": "code",
      "execution_count": 5,
      "metadata": {
        "id": "bxW_5r15t9I5"
      },
      "outputs": [],
      "source": [
        "random.seed(42)\n",
        "np.random.seed(42)\n",
        "torch.manual_seed(42)\n",
        "torch.backends.cudnn.deterministic = True"
      ]
    },
    {
      "attachments": {},
      "cell_type": "markdown",
      "metadata": {
        "id": "2bYVG_TKt9I5"
      },
      "source": [
        "Validacion del ambiente"
      ]
    },
    {
      "cell_type": "code",
      "execution_count": 6,
      "metadata": {
        "colab": {
          "base_uri": "https://localhost:8080/"
        },
        "id": "loVxQPrwt9I5",
        "outputId": "18b7ed97-88dd-4b1e-a2cc-b2636686bfc7"
      },
      "outputs": [
        {
          "name": "stdout",
          "output_type": "stream",
          "text": [
            "Actions # 4\n",
            "(4, 84, 84)\n",
            "(4, 84, 84),\n",
            " 0.0,\n",
            " False,\n",
            " {'coins': 0, 'flag_get': False, 'life': 2, 'score': 0, 'stage': 1, 'status': 'small', 'time': 400, 'world': 1, 'x_pos': 40, 'y_pos': 79}\n"
          ]
        }
      ],
      "source": [
        "ENV_NAME = \"SuperMarioBros-1-1-v0\"\n",
        "\n",
        "env = mario_utils.make_env(ENV_NAME)\n",
        "print(\"Actions #\",env.action_space.n)\n",
        "print(env.observation_space.shape)\n",
        "env.reset()\n",
        "next_state, reward, done, info = env.step(action=0)\n",
        "\n",
        "print(f\"{next_state.shape},\\n {reward},\\n {done},\\n {info}\")"
      ]
    },
    {
      "cell_type": "code",
      "execution_count": 7,
      "metadata": {
        "colab": {
          "base_uri": "https://localhost:8080/"
        },
        "id": "f5LX5VNcvK-3",
        "outputId": "bf549ab5-c66d-4460-8e3e-106fb9f0971f"
      },
      "outputs": [
        {
          "data": {
            "text/plain": [
              "tensor([[[0.5476, 0.5476, 0.5476,  ..., 0.5476, 0.5476, 0.5476],\n",
              "         [0.5476, 0.5476, 0.5476,  ..., 0.5476, 0.5476, 0.5476],\n",
              "         [0.5476, 0.5476, 0.5476,  ..., 0.5476, 0.5476, 0.5476],\n",
              "         ...,\n",
              "         [0.5139, 0.4821, 0.4289,  ..., 0.4179, 0.5244, 0.3834],\n",
              "         [0.5105, 0.4104, 0.3936,  ..., 0.4269, 0.5088, 0.3655],\n",
              "         [0.4673, 0.3894, 0.4081,  ..., 0.4608, 0.3637, 0.2334]],\n",
              "\n",
              "        [[0.5476, 0.5476, 0.5476,  ..., 0.5476, 0.5476, 0.5476],\n",
              "         [0.5476, 0.5476, 0.5476,  ..., 0.5476, 0.5476, 0.5476],\n",
              "         [0.5476, 0.5476, 0.5476,  ..., 0.5476, 0.5476, 0.5476],\n",
              "         ...,\n",
              "         [0.5139, 0.4821, 0.4289,  ..., 0.4179, 0.5244, 0.3834],\n",
              "         [0.5105, 0.4104, 0.3936,  ..., 0.4269, 0.5088, 0.3655],\n",
              "         [0.4673, 0.3894, 0.4081,  ..., 0.4608, 0.3637, 0.2334]],\n",
              "\n",
              "        [[0.5476, 0.5476, 0.5476,  ..., 0.5476, 0.5476, 0.5476],\n",
              "         [0.5476, 0.5476, 0.5476,  ..., 0.5476, 0.5476, 0.5476],\n",
              "         [0.5476, 0.5476, 0.5476,  ..., 0.5476, 0.5476, 0.5476],\n",
              "         ...,\n",
              "         [0.5139, 0.4821, 0.4289,  ..., 0.4179, 0.5244, 0.3834],\n",
              "         [0.5105, 0.4104, 0.3936,  ..., 0.4269, 0.5088, 0.3655],\n",
              "         [0.4673, 0.3894, 0.4081,  ..., 0.4608, 0.3637, 0.2334]],\n",
              "\n",
              "        [[0.5476, 0.5476, 0.5476,  ..., 0.5476, 0.5476, 0.5476],\n",
              "         [0.5476, 0.5476, 0.5476,  ..., 0.5476, 0.5476, 0.5476],\n",
              "         [0.5476, 0.5476, 0.5476,  ..., 0.5476, 0.5476, 0.5476],\n",
              "         ...,\n",
              "         [0.5139, 0.4821, 0.4289,  ..., 0.4179, 0.5244, 0.3834],\n",
              "         [0.5105, 0.4104, 0.3936,  ..., 0.4269, 0.5088, 0.3655],\n",
              "         [0.4673, 0.3894, 0.4081,  ..., 0.4608, 0.3637, 0.2334]]])"
            ]
          },
          "execution_count": 7,
          "metadata": {},
          "output_type": "execute_result"
        }
      ],
      "source": [
        "next_state, reward, done, info = env.step(action=0)\n",
        "torch.Tensor(next_state[:])"
      ]
    },
    {
      "cell_type": "code",
      "execution_count": 8,
      "metadata": {
        "colab": {
          "base_uri": "https://localhost:8080/",
          "height": 1000
        },
        "id": "bndnjRMRoglD",
        "outputId": "1b7de51a-f72b-42cc-ef7a-2906be2c5c24",
        "pycharm": {
          "name": "#%%\n"
        }
      },
      "outputs": [
        {
          "data": {
            "image/png": "[encoded data removed]",
            "text/plain": [
              "<Figure size 640x480 with 1 Axes>"
            ]
          },
          "metadata": {},
          "output_type": "display_data"
        }
      ],
      "source": [
        "mario_utils.show_state(env)"
      ]
    },
    {
      "cell_type": "code",
      "execution_count": 9,
      "metadata": {},
      "outputs": [
        {
          "data": {
            "image/png": "[encoded data removed]",
            "text/plain": [
              "<Figure size 640x480 with 1 Axes>"
            ]
          },
          "metadata": {},
          "output_type": "display_data"
        },
        {
          "data": {
            "image/png": "[encoded data removed]",
            "text/plain": [
              "<Figure size 640x480 with 1 Axes>"
            ]
          },
          "metadata": {},
          "output_type": "display_data"
        },
        {
          "data": {
            "image/png": "[encoded data removed]",
            "text/plain": [
              "<Figure size 640x480 with 1 Axes>"
            ]
          },
          "metadata": {},
          "output_type": "display_data"
        },
        {
          "data": {
            "image/png": "[encoded data removed]",
            "text/plain": [
              "<Figure size 640x480 with 1 Axes>"
            ]
          },
          "metadata": {},
          "output_type": "display_data"
        }
      ],
      "source": [
        "obs = env.reset()\n",
        "mario_utils.show_obs(obs)"
      ]
    },
    {
      "cell_type": "code",
      "execution_count": 10,
      "metadata": {
        "colab": {
          "base_uri": "https://localhost:8080/"
        },
        "id": "z2iyQui5t9I7",
        "outputId": "aaecf9cb-a514-4a8b-bffe-771c1ce9108e"
      },
      "outputs": [],
      "source": [
        "from IPython.display import HTML\n",
        "from pyvirtualdisplay import Display\n",
        "\n",
        "display = Display(visible=0, size=(1400, 900),color_depth=16)\n",
        "display.start()\n",
        "\n",
        "wrapped_env = mario_utils.wrap_env(env)\n",
        "state = wrapped_env.reset()\n",
        "\n",
        "while True:        \n",
        "  wrapped_env.render()\n",
        "  state, reward, done, info = wrapped_env.step(wrapped_env.action_space.sample())\n",
        "  if done:\n",
        "    break\n",
        "\n",
        "wrapped_env.close()"
      ]
    },
    {
      "cell_type": "code",
      "execution_count": 11,
      "metadata": {
        "colab": {
          "base_uri": "https://localhost:8080/",
          "height": 421
        },
        "id": "OrSwWgmyt9I7",
        "outputId": "cb44ee02-4bb4-4b5a-a1b1-bf090edb2b10"
      },
      "outputs": [
        {
          "data": {
            "text/html": [
              "<video alt=\"test\" autoplay \n",
              "                    loop controls style=\"height: 400px;\">\n",
              "                    <source src=\"data:video/mp4;base64,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\" type=\"video/mp4\" />\n",
              "                 </video>"
            ],
            "text/plain": [
              "<IPython.core.display.HTML object>"
            ]
          },
          "metadata": {},
          "output_type": "display_data"
        }
      ],
      "source": [
        "mario_utils.show_video()"
      ]
    },
    {
      "attachments": {},
      "cell_type": "markdown",
      "metadata": {
        "id": "XIHpwiaat9I7"
      },
      "source": [
        "# Deep Q Learning\n",
        "\n",
        "\n",
        "Recomendamos empezar implementando Deep Q Learning (paper presentado por DeepMind, pueden encontrar el mismo en arxiv: https://arxiv.org/pdf/1312.5602.pdf0).\n",
        "\n",
        "***\n",
        "\n",
        "En las celdas siguientes dejamos el código que deben implementar asi como una explicación del mismo."
      ]
    },
    {
      "attachments": {},
      "cell_type": "markdown",
      "metadata": {
        "id": "ajTGajUftSgY",
        "pycharm": {
          "name": "#%% md\n"
        }
      },
      "source": [
        "# Memoria\n",
        "\n",
        "El algoritmo de Deep Q Learning presentado en el paper utiliza una memoria (llamada Replay Memory) para almacenar transiciones pasadas. Tuplas que contienen un estado base, la accion tomada, la recompensa obtenida, una bandera que indica si el siguiente estado es final o no; y el estado siguiente.\n",
        "\n",
        "Esta memoria es circular, es decir, tiene un límite maximo de elementos y una vez esté llena comienza a reemplazar los elementos más viejos.\n",
        "\n",
        "Vamos a necesitar crear una función **sample** que obtiene una mustra aleatoria de elementos de la memoria.  Esto puede ser una lista de Transiciones o listas separadas (pero alineadas) de los elementos que las componen.\n",
        "\n",
        "***\n",
        "\n",
        "Para implementar esta funcionalidad se debe modificar el archivo **replay_memory.py**\n"
      ]
    },
    {
      "cell_type": "code",
      "execution_count": 12,
      "metadata": {
        "id": "scPtpbz4tTAh",
        "outputId": "0890f48a-e673-4416-bd69-7dcf2730ba64",
        "pycharm": {
          "name": "#%%\n"
        }
      },
      "outputs": [],
      "source": [
        "from replay_memory import ReplayMemory"
      ]
    },
    {
      "attachments": {},
      "cell_type": "markdown",
      "metadata": {
        "id": "j7Ygv5Mjtb-F",
        "pycharm": {
          "name": "#%% md\n"
        }
      },
      "source": [
        "# Modelo\n",
        "\n",
        "Vamos a usar un mismo modelo FeedForward para estos dos problemas (entrenado en cada problema particular). Recomendamos simplicidad en la creación del mismo, pero tienen total libertad al momento de implementarlo.\n",
        "\n",
        "***\n",
        "Para implementar esta funcionalidad se debe modificar el archivo **dqn_cnn_model.py**\n"
      ]
    },
    {
      "cell_type": "code",
      "execution_count": 13,
      "metadata": {
        "id": "bkNBvJB6ryp7",
        "pycharm": {
          "name": "#%%\n"
        }
      },
      "outputs": [
        {
          "name": "stdout",
          "output_type": "stream",
          "text": [
            "----------------------------------------------------------------\n",
            "        Layer (type)               Output Shape         Param #\n",
            "================================================================\n",
            "            Conv2d-1           [-1, 32, 20, 20]           8,224\n",
            "            Conv2d-2             [-1, 64, 9, 9]          32,832\n",
            "            Conv2d-3             [-1, 64, 7, 7]          36,928\n",
            "            Linear-4                  [-1, 512]       1,606,144\n",
            "            Linear-5                    [-1, 4]           2,052\n",
            "================================================================\n",
            "Total params: 1,686,180\n",
            "Trainable params: 1,686,180\n",
            "Non-trainable params: 0\n",
            "----------------------------------------------------------------\n",
            "Input size (MB): 0.11\n",
            "Forward/backward pass size (MB): 0.17\n",
            "Params size (MB): 6.43\n",
            "Estimated Total Size (MB): 6.71\n",
            "----------------------------------------------------------------\n"
          ]
        }
      ],
      "source": [
        "from dqn_cnn_model import DQN_CNN_Model\n",
        "from mario_utils import make_env\n",
        "\n",
        "test_env = make_env(ENV_NAME)\n",
        "\n",
        "test_net = DQN_CNN_Model(test_env.observation_space.shape, test_env.action_space.n).to(DEVICE)\n",
        "\n",
        "from torchsummary import summary\n",
        "summary(test_net, test_env.observation_space.shape)"
      ]
    },
    {
      "attachments": {},
      "cell_type": "markdown",
      "metadata": {
        "id": "z9B7ZY9Htj_F",
        "pycharm": {
          "name": "#%% md\n"
        }
      },
      "source": [
        "# Agente\n",
        "\n",
        "Vamos a definir una clase agente, encargado de interactuar con el ambiente y entrenar los modelos. Los métdos definidos deben funcionar para ambos problemas simplemente cambiando el modelo a utilizar para cada ambiente.\n",
        "\n",
        "Abajo dejamos un esqueleto del mismo y las funciones a completar. Recomendamos no alterar la estructura del mismo, pero pueden definir las funciones auxiliares que consideren necesarias.\n",
        "\n",
        "Una aclaracion particular es sobre los últimos tres parametros del agente, representan los valores de epsilon_inicial, epsilon_final y el tiempo (numero de steps) que tardamos en llegar del epsilon final al inicial (puede decrementarlo de forma lineal o exponencial en el número de steps).\n",
        "\n",
        "***\n",
        "\n",
        "Para implementar esta funcionalidad se debe modificar los archivos **abstract_agent.py**, **dqn_agent.py** y **double_dqn_agent.py**.\n",
        "\n",
        "Funciones a completar:\n",
        "\n",
        "\n",
        "1. init: que inicializa los parametros del agente.\n",
        "\n",
        "2. compute_epsilon: que computa el valor actual de epsilon en base al número de pasos actuales.\n",
        "\n",
        "3. select_action: Seleccionando acciones \"epsilongreedy-mente\" si estamos entranando y completamente greedy en otro caso.\n",
        "\n",
        "4. train: que entrena el agente por un número dado de episodios de largo determinado.\n",
        "\n",
        "5. record_test_episode: para grabar un episodio con el agente siempre seleccionando la mejor accion conocida."
      ]
    },
    {
      "attachments": {},
      "cell_type": "markdown",
      "metadata": {
        "id": "BOD-ENZRtyMt",
        "pycharm": {
          "name": "#%% md\n"
        }
      },
      "source": [
        "# Entrenamiento\n",
        "\n",
        "Para entrenar van a necesitar definir:\n",
        "\n",
        "1. El ambiente.\n",
        "2. Una instancia del modelo a utilizar para el problema (ej: `mario_model = DQNModel(espacio_obs, num_acciones)`.\n",
        "3. La función para procesar los estados (phi en el paper) que es necesaria para poder usar el modelo de Pytorch con las representaciones de gym.\n",
        "\n",
        "Una vez definido pueden llamar a la función train del agente para entrenarlo y problar las demás funciones.\n",
        "\n",
        "***\n",
        "\n",
        "Una de las cosas que recomendamos hacer para probar los algoritmos es entrenar el agente por una cantidad X de episodios, grabar un video para observar progreso, volver a entrenar el mismo agente y volver a grabar un video, todas las veces que considere necesario.\n",
        "\n",
        "***"
      ]
    },
    {
      "cell_type": "code",
      "execution_count": 14,
      "metadata": {
        "id": "D7pZCrhMt9I9",
        "pycharm": {
          "name": "#%%\n"
        }
      },
      "outputs": [],
      "source": [
        "%load_ext tensorboard"
      ]
    },
    {
      "cell_type": "code",
      "execution_count": 18,
      "metadata": {
        "id": "oegpMg25t9I9",
        "pycharm": {
          "name": "#%%\n"
        }
      },
      "outputs": [],
      "source": [
        "def process_state(obs):\n",
        "    obs_array = np.array(obs)\n",
        "    return torch.tensor(obs_array, dtype=torch.float32, device=DEVICE).unsqueeze(dim=0)\n",
        "    # Transform the observation into a tensor\n",
        "    # return torch.tensor(obs, dtype=torch.float32, device=DEVICE).unsqueeze(dim=0)\n",
        "\n",
        "#Hiperparámetros de entrenamiento del agente DQN\n",
        "TOTAL_STEPS =1000000\n",
        "EPISODES = 10000\n",
        "STEPS = 10000\n",
        "\n",
        "EPSILON_INI = 1\n",
        "EPSILON_MIN = 0.02\n",
        "EPSILON_DECAY = 0.99998599985\n",
        "EPSILON_TIME = None\n",
        "EPISODE_BLOCK = 10\n",
        "\n",
        "BATCH_SIZE = 32\n",
        "BUFFER_SIZE = 10000\n",
        "\n",
        "GAMMA = 0.99\n",
        "LEARNING_RATE = 1e-4"
      ]
    },
    {
      "cell_type": "code",
      "execution_count": 16,
      "metadata": {},
      "outputs": [
        {
          "data": {
            "text/plain": [
              "device(type='cuda', index=0)"
            ]
          },
          "execution_count": 16,
          "metadata": {},
          "output_type": "execute_result"
        }
      ],
      "source": [
        "torch.device('cuda:0' if torch.cuda.is_available() else 'cpu')"
      ]
    },
    {
      "cell_type": "code",
      "execution_count": 20,
      "metadata": {
        "id": "BsTl-pFqt10b",
        "pycharm": {
          "name": "#%%\n"
        }
      },
      "outputs": [
        {
          "name": "stderr",
          "output_type": "stream",
          "text": [
            "  0%|          | 1/10000 [00:01<4:12:26,  1.51s/ episodes]"
          ]
        },
        {
          "name": "stdout",
          "output_type": "stream",
          "text": [
            "Episode 0 - Avg. Reward over the last 10 episodes 632.0 epsilon 0.9975250239196638 steps 178.0 total steps 178\n"
          ]
        },
        {
          "name": "stderr",
          "output_type": "stream",
          "text": [
            "  0%|          | 11/10000 [00:25<7:08:10,  2.57s/ episodes]"
          ]
        },
        {
          "name": "stdout",
          "output_type": "stream",
          "text": [
            "Episode 10 - Avg. Reward over the last 10 episodes 690.5 epsilon 0.9625005156807334 steps 255.3 total steps 2731\n"
          ]
        },
        {
          "name": "stderr",
          "output_type": "stream",
          "text": [
            "  0%|          | 21/10000 [00:48<7:21:51,  2.66s/ episodes]"
          ]
        },
        {
          "name": "stdout",
          "output_type": "stream",
          "text": [
            "Episode 20 - Avg. Reward over the last 10 episodes 579.5 epsilon 0.9287447743976287 steps 255.0 total steps 5281\n"
          ]
        },
        {
          "name": "stderr",
          "output_type": "stream",
          "text": [
            "  0%|          | 31/10000 [01:09<4:40:01,  1.69s/ episodes] "
          ]
        },
        {
          "name": "stdout",
          "output_type": "stream",
          "text": [
            "Episode 30 - Avg. Reward over the last 10 episodes 584.5 epsilon 0.8994661332976728 steps 228.8 total steps 7569\n"
          ]
        },
        {
          "name": "stderr",
          "output_type": "stream",
          "text": [
            "  0%|          | 41/10000 [01:47<13:22:11,  4.83s/ episodes]"
          ]
        },
        {
          "name": "stdout",
          "output_type": "stream",
          "text": [
            "Episode 40 - Avg. Reward over the last 10 episodes 550.3 epsilon 0.8500153434265338 steps 403.9 total steps 11608\n"
          ]
        },
        {
          "name": "stderr",
          "output_type": "stream",
          "text": [
            "  1%|          | 51/10000 [02:26<9:51:18,  3.57s/ episodes] "
          ]
        },
        {
          "name": "stdout",
          "output_type": "stream",
          "text": [
            "Episode 50 - Avg. Reward over the last 10 episodes 610.6 epsilon 0.7994350683568833 steps 438.2 total steps 15990\n"
          ]
        },
        {
          "name": "stderr",
          "output_type": "stream",
          "text": [
            "  1%|          | 61/10000 [02:53<5:43:51,  2.08s/ episodes] "
          ]
        },
        {
          "name": "stdout",
          "output_type": "stream",
          "text": [
            "Episode 60 - Avg. Reward over the last 10 episodes 723.2 epsilon 0.7683801608746966 steps 283.0 total steps 18820\n"
          ]
        },
        {
          "name": "stderr",
          "output_type": "stream",
          "text": [
            "  1%|          | 71/10000 [03:09<4:24:43,  1.60s/ episodes]"
          ]
        },
        {
          "name": "stdout",
          "output_type": "stream",
          "text": [
            "Episode 70 - Avg. Reward over the last 10 episodes 628.7 epsilon 0.7490488191124645 steps 182.0 total steps 20640\n"
          ]
        },
        {
          "name": "stderr",
          "output_type": "stream",
          "text": [
            "  1%|          | 81/10000 [03:33<4:36:31,  1.67s/ episodes]"
          ]
        },
        {
          "name": "stdout",
          "output_type": "stream",
          "text": [
            "Episode 80 - Avg. Reward over the last 10 episodes 503.6 epsilon 0.7227284232745075 steps 255.5 total steps 23195\n"
          ]
        },
        {
          "name": "stderr",
          "output_type": "stream",
          "text": [
            "  1%|          | 91/10000 [03:47<1:50:41,  1.49 episodes/s]"
          ]
        },
        {
          "name": "stdout",
          "output_type": "stream",
          "text": [
            "Episode 90 - Avg. Reward over the last 10 episodes 420.4 epsilon 0.7083732693873216 steps 143.3 total steps 24628\n"
          ]
        },
        {
          "name": "stderr",
          "output_type": "stream",
          "text": [
            "  1%|          | 101/10000 [04:06<4:07:02,  1.50s/ episodes]"
          ]
        },
        {
          "name": "stdout",
          "output_type": "stream",
          "text": [
            "Episode 100 - Avg. Reward over the last 10 episodes 594.1 epsilon 0.6873878154525053 steps 214.8 total steps 26776\n"
          ]
        },
        {
          "name": "stderr",
          "output_type": "stream",
          "text": [
            "  1%|          | 111/10000 [04:21<3:42:10,  1.35s/ episodes]"
          ]
        },
        {
          "name": "stdout",
          "output_type": "stream",
          "text": [
            "Episode 110 - Avg. Reward over the last 10 episodes 527.4 epsilon 0.6725000937125678 steps 156.4 total steps 28340\n"
          ]
        },
        {
          "name": "stderr",
          "output_type": "stream",
          "text": [
            "  1%|          | 121/10000 [04:51<7:07:24,  2.60s/ episodes]"
          ]
        },
        {
          "name": "stdout",
          "output_type": "stream",
          "text": [
            "Episode 120 - Avg. Reward over the last 10 episodes 825.7 epsilon 0.6425415240649036 steps 325.5 total steps 31595\n"
          ]
        },
        {
          "name": "stderr",
          "output_type": "stream",
          "text": [
            "  1%|▏         | 131/10000 [05:06<2:42:12,  1.01 episodes/s]"
          ]
        },
        {
          "name": "stdout",
          "output_type": "stream",
          "text": [
            "Episode 130 - Avg. Reward over the last 10 episodes 608.4 epsilon 0.6281148559055784 steps 162.2 total steps 33217\n"
          ]
        },
        {
          "name": "stderr",
          "output_type": "stream",
          "text": [
            "  1%|▏         | 141/10000 [05:29<7:20:55,  2.68s/ episodes]"
          ]
        },
        {
          "name": "stdout",
          "output_type": "stream",
          "text": [
            "Episode 140 - Avg. Reward over the last 10 episodes 627.1 epsilon 0.6060863143862757 steps 255.0 total steps 35767\n"
          ]
        },
        {
          "name": "stderr",
          "output_type": "stream",
          "text": [
            "  2%|▏         | 151/10000 [05:58<6:55:06,  2.53s/ episodes] "
          ]
        },
        {
          "name": "stdout",
          "output_type": "stream",
          "text": [
            "Episode 150 - Avg. Reward over the last 10 episodes 545.7 epsilon 0.5800194457757318 steps 314.0 total steps 38907\n"
          ]
        },
        {
          "name": "stderr",
          "output_type": "stream",
          "text": [
            "  2%|▏         | 161/10000 [06:11<3:53:45,  1.43s/ episodes]"
          ]
        },
        {
          "name": "stdout",
          "output_type": "stream",
          "text": [
            "Episode 160 - Avg. Reward over the last 10 episodes 442.7 epsilon 0.5679578782299798 steps 150.1 total steps 40408\n"
          ]
        },
        {
          "name": "stderr",
          "output_type": "stream",
          "text": [
            "  2%|▏         | 171/10000 [06:25<3:13:40,  1.18s/ episodes]"
          ]
        },
        {
          "name": "stdout",
          "output_type": "stream",
          "text": [
            "Episode 170 - Avg. Reward over the last 10 episodes 525.0 epsilon 0.5557657394388749 steps 155.0 total steps 41958\n"
          ]
        },
        {
          "name": "stderr",
          "output_type": "stream",
          "text": [
            "  2%|▏         | 181/10000 [06:47<5:04:07,  1.86s/ episodes]"
          ]
        },
        {
          "name": "stdout",
          "output_type": "stream",
          "text": [
            "Episode 180 - Avg. Reward over the last 10 episodes 654.8 epsilon 0.5378836614854562 steps 233.6 total steps 44294\n"
          ]
        },
        {
          "name": "stderr",
          "output_type": "stream",
          "text": [
            "  2%|▏         | 191/10000 [07:06<3:54:47,  1.44s/ episodes]"
          ]
        },
        {
          "name": "stdout",
          "output_type": "stream",
          "text": [
            "Episode 190 - Avg. Reward over the last 10 episodes 644.6 epsilon 0.5224607068633276 steps 207.8 total steps 46372\n"
          ]
        },
        {
          "name": "stderr",
          "output_type": "stream",
          "text": [
            "  2%|▏         | 201/10000 [07:32<4:39:56,  1.71s/ episodes]"
          ]
        },
        {
          "name": "stdout",
          "output_type": "stream",
          "text": [
            "Episode 200 - Avg. Reward over the last 10 episodes 651.8 epsilon 0.5026012400433575 steps 276.8 total steps 49140\n"
          ]
        },
        {
          "name": "stderr",
          "output_type": "stream",
          "text": [
            "  2%|▏         | 211/10000 [07:50<5:32:32,  2.04s/ episodes]"
          ]
        },
        {
          "name": "stdout",
          "output_type": "stream",
          "text": [
            "Episode 210 - Avg. Reward over the last 10 episodes 615.7 epsilon 0.48883968861083105 steps 198.3 total steps 51123\n"
          ]
        },
        {
          "name": "stderr",
          "output_type": "stream",
          "text": [
            "  2%|▏         | 221/10000 [08:04<4:56:10,  1.82s/ episodes]"
          ]
        },
        {
          "name": "stdout",
          "output_type": "stream",
          "text": [
            "Episode 220 - Avg. Reward over the last 10 episodes 462.1 epsilon 0.4791770948449446 steps 142.6 total steps 52549\n"
          ]
        },
        {
          "name": "stderr",
          "output_type": "stream",
          "text": [
            "  2%|▏         | 231/10000 [08:26<8:05:17,  2.98s/ episodes]"
          ]
        },
        {
          "name": "stdout",
          "output_type": "stream",
          "text": [
            "Episode 230 - Avg. Reward over the last 10 episodes 652.8 epsilon 0.46357104858732767 steps 236.5 total steps 54914\n"
          ]
        },
        {
          "name": "stderr",
          "output_type": "stream",
          "text": [
            "  2%|▏         | 241/10000 [08:41<5:04:34,  1.87s/ episodes]"
          ]
        },
        {
          "name": "stdout",
          "output_type": "stream",
          "text": [
            "Episode 240 - Avg. Reward over the last 10 episodes 570.2 epsilon 0.4529851081897013 steps 165.0 total steps 56564\n"
          ]
        },
        {
          "name": "stderr",
          "output_type": "stream",
          "text": [
            "  3%|▎         | 251/10000 [08:56<3:27:19,  1.28s/ episodes]"
          ]
        },
        {
          "name": "stdout",
          "output_type": "stream",
          "text": [
            "Episode 250 - Avg. Reward over the last 10 episodes 532.5 epsilon 0.4425107848866935 steps 167.1 total steps 58235\n"
          ]
        },
        {
          "name": "stderr",
          "output_type": "stream",
          "text": [
            "  3%|▎         | 261/10000 [09:11<4:48:38,  1.78s/ episodes]"
          ]
        },
        {
          "name": "stdout",
          "output_type": "stream",
          "text": [
            "Episode 260 - Avg. Reward over the last 10 episodes 540.6 epsilon 0.4323089192752253 steps 166.6 total steps 59901\n"
          ]
        },
        {
          "name": "stderr",
          "output_type": "stream",
          "text": [
            "  3%|▎         | 271/10000 [09:28<4:09:18,  1.54s/ episodes]"
          ]
        },
        {
          "name": "stdout",
          "output_type": "stream",
          "text": [
            "Episode 270 - Avg. Reward over the last 10 episodes 565.8 epsilon 0.42134415435682687 steps 183.5 total steps 61736\n"
          ]
        },
        {
          "name": "stderr",
          "output_type": "stream",
          "text": [
            "  3%|▎         | 281/10000 [09:44<6:04:15,  2.25s/ episodes]"
          ]
        },
        {
          "name": "stdout",
          "output_type": "stream",
          "text": [
            "Episode 280 - Avg. Reward over the last 10 episodes 562.3 epsilon 0.41141710182143 steps 170.3 total steps 63439\n"
          ]
        },
        {
          "name": "stderr",
          "output_type": "stream",
          "text": [
            "  3%|▎         | 291/10000 [09:52<1:40:06,  1.62 episodes/s]"
          ]
        },
        {
          "name": "stdout",
          "output_type": "stream",
          "text": [
            "Episode 290 - Avg. Reward over the last 10 episodes 361.6 epsilon 0.40611213509001726 steps 92.7 total steps 64366\n"
          ]
        },
        {
          "name": "stderr",
          "output_type": "stream",
          "text": [
            "  3%|▎         | 301/10000 [10:06<3:37:42,  1.35s/ episodes]"
          ]
        },
        {
          "name": "stdout",
          "output_type": "stream",
          "text": [
            "Episode 300 - Avg. Reward over the last 10 episodes 515.4 epsilon 0.397817338209866 steps 147.4 total steps 65840\n"
          ]
        },
        {
          "name": "stderr",
          "output_type": "stream",
          "text": [
            "  3%|▎         | 311/10000 [10:42<18:56:54,  7.04s/ episodes]"
          ]
        },
        {
          "name": "stdout",
          "output_type": "stream",
          "text": [
            "Episode 310 - Avg. Reward over the last 10 episodes 712.1 epsilon 0.376931696788373 steps 385.2 total steps 69692\n"
          ]
        },
        {
          "name": "stderr",
          "output_type": "stream",
          "text": [
            "  3%|▎         | 321/10000 [11:05<3:35:55,  1.34s/ episodes] "
          ]
        },
        {
          "name": "stdout",
          "output_type": "stream",
          "text": [
            "Episode 320 - Avg. Reward over the last 10 episodes 482.7 epsilon 0.36378875898449337 steps 253.5 total steps 72227\n"
          ]
        },
        {
          "name": "stderr",
          "output_type": "stream",
          "text": [
            "  3%|▎         | 331/10000 [11:16<2:17:46,  1.17 episodes/s]"
          ]
        },
        {
          "name": "stdout",
          "output_type": "stream",
          "text": [
            "Episode 330 - Avg. Reward over the last 10 episodes 537.4 epsilon 0.3579534966276189 steps 115.5 total steps 73382\n"
          ]
        },
        {
          "name": "stderr",
          "output_type": "stream",
          "text": [
            "  3%|▎         | 341/10000 [11:30<3:16:06,  1.22s/ episodes]"
          ]
        },
        {
          "name": "stdout",
          "output_type": "stream",
          "text": [
            "Episode 340 - Avg. Reward over the last 10 episodes 720.7 epsilon 0.3502939632995362 steps 154.5 total steps 74927\n"
          ]
        },
        {
          "name": "stderr",
          "output_type": "stream",
          "text": [
            "  4%|▎         | 351/10000 [11:48<5:27:47,  2.04s/ episodes]"
          ]
        },
        {
          "name": "stdout",
          "output_type": "stream",
          "text": [
            "Episode 350 - Avg. Reward over the last 10 episodes 747.7 epsilon 0.3408458126670458 steps 195.3 total steps 76880\n"
          ]
        },
        {
          "name": "stderr",
          "output_type": "stream",
          "text": [
            "  4%|▎         | 361/10000 [11:57<3:31:57,  1.32s/ episodes]"
          ]
        },
        {
          "name": "stdout",
          "output_type": "stream",
          "text": [
            "Episode 360 - Avg. Reward over the last 10 episodes 409.3 epsilon 0.336215381329429 steps 97.7 total steps 77857\n"
          ]
        },
        {
          "name": "stderr",
          "output_type": "stream",
          "text": [
            "  4%|▎         | 371/10000 [12:03<1:50:19,  1.45 episodes/s]"
          ]
        },
        {
          "name": "stdout",
          "output_type": "stream",
          "text": [
            "Episode 370 - Avg. Reward over the last 10 episodes 312.4 epsilon 0.33303440470222373 steps 67.9 total steps 78536\n"
          ]
        },
        {
          "name": "stderr",
          "output_type": "stream",
          "text": [
            "  4%|▍         | 381/10000 [12:20<5:38:04,  2.11s/ episodes]"
          ]
        },
        {
          "name": "stdout",
          "output_type": "stream",
          "text": [
            "Episode 380 - Avg. Reward over the last 10 episodes 658.3 epsilon 0.3245784769438754 steps 183.7 total steps 80373\n"
          ]
        },
        {
          "name": "stderr",
          "output_type": "stream",
          "text": [
            "  4%|▍         | 391/10000 [12:30<1:46:07,  1.51 episodes/s]"
          ]
        },
        {
          "name": "stdout",
          "output_type": "stream",
          "text": [
            "Episode 390 - Avg. Reward over the last 10 episodes 430.3 epsilon 0.3196360723417162 steps 109.6 total steps 81469\n"
          ]
        },
        {
          "name": "stderr",
          "output_type": "stream",
          "text": [
            "  4%|▍         | 401/10000 [12:40<2:10:38,  1.22 episodes/s]"
          ]
        },
        {
          "name": "stdout",
          "output_type": "stream",
          "text": [
            "Episode 400 - Avg. Reward over the last 10 episodes 387.2 epsilon 0.31474248651968156 steps 110.2 total steps 82571\n"
          ]
        },
        {
          "name": "stderr",
          "output_type": "stream",
          "text": [
            "  4%|▍         | 411/10000 [12:53<3:11:03,  1.20s/ episodes]"
          ]
        },
        {
          "name": "stdout",
          "output_type": "stream",
          "text": [
            "Episode 410 - Avg. Reward over the last 10 episodes 524.0 epsilon 0.3087501768907458 steps 137.3 total steps 83944\n"
          ]
        },
        {
          "name": "stderr",
          "output_type": "stream",
          "text": [
            "  4%|▍         | 421/10000 [13:03<2:34:44,  1.03 episodes/s]"
          ]
        },
        {
          "name": "stdout",
          "output_type": "stream",
          "text": [
            "Episode 420 - Avg. Reward over the last 10 episodes 350.3 epsilon 0.3043043049727443 steps 103.6 total steps 84980\n"
          ]
        },
        {
          "name": "stderr",
          "output_type": "stream",
          "text": [
            "  4%|▍         | 431/10000 [13:12<2:15:58,  1.17 episodes/s]"
          ]
        },
        {
          "name": "stdout",
          "output_type": "stream",
          "text": [
            "Episode 430 - Avg. Reward over the last 10 episodes 404.1 epsilon 0.30004424712505706 steps 100.7 total steps 85987\n"
          ]
        },
        {
          "name": "stderr",
          "output_type": "stream",
          "text": [
            "  4%|▍         | 441/10000 [13:30<4:46:13,  1.80s/ episodes]"
          ]
        },
        {
          "name": "stdout",
          "output_type": "stream",
          "text": [
            "Episode 440 - Avg. Reward over the last 10 episodes 572.5 epsilon 0.29215996642764314 steps 190.2 total steps 87889\n"
          ]
        },
        {
          "name": "stderr",
          "output_type": "stream",
          "text": [
            "  5%|▍         | 451/10000 [13:54<9:39:35,  3.64s/ episodes]"
          ]
        },
        {
          "name": "stdout",
          "output_type": "stream",
          "text": [
            "Episode 450 - Avg. Reward over the last 10 episodes 721.4 epsilon 0.2819531303150805 steps 254.0 total steps 90429\n"
          ]
        },
        {
          "name": "stderr",
          "output_type": "stream",
          "text": [
            "  5%|▍         | 461/10000 [14:14<5:21:34,  2.02s/ episodes]"
          ]
        },
        {
          "name": "stdout",
          "output_type": "stream",
          "text": [
            "Episode 460 - Avg. Reward over the last 10 episodes 634.7 epsilon 0.27346627660708667 steps 218.3 total steps 92612\n"
          ]
        },
        {
          "name": "stderr",
          "output_type": "stream",
          "text": [
            "  5%|▍         | 471/10000 [14:26<2:22:45,  1.11 episodes/s]"
          ]
        },
        {
          "name": "stdout",
          "output_type": "stream",
          "text": [
            "Episode 470 - Avg. Reward over the last 10 episodes 436.2 epsilon 0.2687974188563525 steps 123.0 total steps 93842\n"
          ]
        },
        {
          "name": "stderr",
          "output_type": "stream",
          "text": [
            "  5%|▍         | 481/10000 [14:40<3:36:30,  1.36s/ episodes]"
          ]
        },
        {
          "name": "stdout",
          "output_type": "stream",
          "text": [
            "Episode 480 - Avg. Reward over the last 10 episodes 550.2 epsilon 0.2630161983552025 steps 155.3 total steps 95395\n"
          ]
        },
        {
          "name": "stderr",
          "output_type": "stream",
          "text": [
            "  5%|▍         | 491/10000 [14:53<2:58:56,  1.13s/ episodes]"
          ]
        },
        {
          "name": "stdout",
          "output_type": "stream",
          "text": [
            "Episode 490 - Avg. Reward over the last 10 episodes 541.7 epsilon 0.2579653510123904 steps 138.5 total steps 96780\n"
          ]
        },
        {
          "name": "stderr",
          "output_type": "stream",
          "text": [
            "  5%|▌         | 501/10000 [15:08<4:32:22,  1.72s/ episodes]"
          ]
        },
        {
          "name": "stdout",
          "output_type": "stream",
          "text": [
            "Episode 500 - Avg. Reward over the last 10 episodes 559.9 epsilon 0.25201808840698864 steps 166.6 total steps 98446\n"
          ]
        },
        {
          "name": "stderr",
          "output_type": "stream",
          "text": [
            "  5%|▌         | 511/10000 [15:20<4:57:05,  1.88s/ episodes]"
          ]
        },
        {
          "name": "stdout",
          "output_type": "stream",
          "text": [
            "Episode 510 - Avg. Reward over the last 10 episodes 464.1 epsilon 0.2472857445562768 steps 135.4 total steps 99800\n"
          ]
        },
        {
          "name": "stderr",
          "output_type": "stream",
          "text": [
            "  5%|▌         | 521/10000 [15:37<5:21:50,  2.04s/ episodes]"
          ]
        },
        {
          "name": "stdout",
          "output_type": "stream",
          "text": [
            "Episode 520 - Avg. Reward over the last 10 episodes 640.0 epsilon 0.2411183956547298 steps 180.4 total steps 101604\n"
          ]
        },
        {
          "name": "stderr",
          "output_type": "stream",
          "text": [
            "  5%|▌         | 531/10000 [15:57<6:02:37,  2.30s/ episodes]"
          ]
        },
        {
          "name": "stdout",
          "output_type": "stream",
          "text": [
            "Episode 530 - Avg. Reward over the last 10 episodes 671.7 epsilon 0.23373302146156197 steps 222.2 total steps 103826\n"
          ]
        },
        {
          "name": "stderr",
          "output_type": "stream",
          "text": [
            "  5%|▌         | 541/10000 [16:12<4:48:11,  1.83s/ episodes]"
          ]
        },
        {
          "name": "stdout",
          "output_type": "stream",
          "text": [
            "Episode 540 - Avg. Reward over the last 10 episodes 517.1 epsilon 0.22849472587438105 steps 161.9 total steps 105445\n"
          ]
        },
        {
          "name": "stderr",
          "output_type": "stream",
          "text": [
            "  6%|▌         | 551/10000 [16:30<3:30:09,  1.33s/ episodes]"
          ]
        },
        {
          "name": "stdout",
          "output_type": "stream",
          "text": [
            "Episode 550 - Avg. Reward over the last 10 episodes 618.5 epsilon 0.222372220650874 steps 194.0 total steps 107385\n"
          ]
        },
        {
          "name": "stderr",
          "output_type": "stream",
          "text": [
            "  6%|▌         | 561/10000 [16:49<4:54:47,  1.87s/ episodes]"
          ]
        },
        {
          "name": "stdout",
          "output_type": "stream",
          "text": [
            "Episode 560 - Avg. Reward over the last 10 episodes 560.4 epsilon 0.21602931904825975 steps 206.7 total steps 109452\n"
          ]
        },
        {
          "name": "stderr",
          "output_type": "stream",
          "text": [
            "  6%|▌         | 571/10000 [16:56<1:30:18,  1.74 episodes/s]"
          ]
        },
        {
          "name": "stdout",
          "output_type": "stream",
          "text": [
            "Episode 570 - Avg. Reward over the last 10 episodes 299.1 epsilon 0.2140004178635478 steps 67.4 total steps 110126\n"
          ]
        },
        {
          "name": "stderr",
          "output_type": "stream",
          "text": [
            "  6%|▌         | 581/10000 [17:12<5:02:12,  1.93s/ episodes]"
          ]
        },
        {
          "name": "stdout",
          "output_type": "stream",
          "text": [
            "Episode 580 - Avg. Reward over the last 10 episodes 508.3 epsilon 0.20890289788710084 steps 172.2 total steps 111848\n"
          ]
        },
        {
          "name": "stderr",
          "output_type": "stream",
          "text": [
            "  6%|▌         | 591/10000 [17:32<7:11:54,  2.75s/ episodes]"
          ]
        },
        {
          "name": "stdout",
          "output_type": "stream",
          "text": [
            "Episode 590 - Avg. Reward over the last 10 episodes 635.3 epsilon 0.20254396882992695 steps 220.8 total steps 114056\n"
          ]
        },
        {
          "name": "stderr",
          "output_type": "stream",
          "text": [
            "  6%|▌         | 601/10000 [17:49<5:02:33,  1.93s/ episodes]"
          ]
        },
        {
          "name": "stdout",
          "output_type": "stream",
          "text": [
            "Episode 600 - Avg. Reward over the last 10 episodes 559.8 epsilon 0.19751737355438573 steps 179.5 total steps 115851\n"
          ]
        },
        {
          "name": "stderr",
          "output_type": "stream",
          "text": [
            "  6%|▌         | 611/10000 [18:05<3:22:05,  1.29s/ episodes]"
          ]
        },
        {
          "name": "stdout",
          "output_type": "stream",
          "text": [
            "Episode 610 - Avg. Reward over the last 10 episodes 607.0 epsilon 0.19263170549286168 steps 178.9 total steps 117640\n"
          ]
        },
        {
          "name": "stderr",
          "output_type": "stream",
          "text": [
            "  6%|▌         | 621/10000 [18:24<3:59:40,  1.53s/ episodes]"
          ]
        },
        {
          "name": "stdout",
          "output_type": "stream",
          "text": [
            "Episode 620 - Avg. Reward over the last 10 episodes 601.7 epsilon 0.18721573200053054 steps 203.7 total steps 119677\n"
          ]
        },
        {
          "name": "stderr",
          "output_type": "stream",
          "text": [
            "  6%|▋         | 631/10000 [18:43<4:59:30,  1.92s/ episodes]"
          ]
        },
        {
          "name": "stdout",
          "output_type": "stream",
          "text": [
            "Episode 630 - Avg. Reward over the last 10 episodes 628.8 epsilon 0.18205140704174658 steps 199.8 total steps 121675\n"
          ]
        },
        {
          "name": "stderr",
          "output_type": "stream",
          "text": [
            "  6%|▋         | 641/10000 [19:04<7:03:24,  2.71s/ episodes]"
          ]
        },
        {
          "name": "stdout",
          "output_type": "stream",
          "text": [
            "Episode 640 - Avg. Reward over the last 10 episodes 623.9 epsilon 0.1761222783122586 steps 236.5 total steps 124040\n"
          ]
        },
        {
          "name": "stderr",
          "output_type": "stream",
          "text": [
            "  7%|▋         | 651/10000 [19:18<4:09:06,  1.60s/ episodes]"
          ]
        },
        {
          "name": "stdout",
          "output_type": "stream",
          "text": [
            "Episode 650 - Avg. Reward over the last 10 episodes 587.9 epsilon 0.17240185856919363 steps 152.5 total steps 125565\n"
          ]
        },
        {
          "name": "stderr",
          "output_type": "stream",
          "text": [
            "  7%|▋         | 661/10000 [19:36<4:15:25,  1.64s/ episodes]"
          ]
        },
        {
          "name": "stdout",
          "output_type": "stream",
          "text": [
            "Episode 660 - Avg. Reward over the last 10 episodes 567.1 epsilon 0.1678199471594619 steps 192.4 total steps 127489\n"
          ]
        },
        {
          "name": "stderr",
          "output_type": "stream",
          "text": [
            "  7%|▋         | 671/10000 [19:55<4:20:39,  1.68s/ episodes]"
          ]
        },
        {
          "name": "stdout",
          "output_type": "stream",
          "text": [
            "Episode 670 - Avg. Reward over the last 10 episodes 524.6 epsilon 0.16298744022364203 steps 208.7 total steps 129576\n"
          ]
        },
        {
          "name": "stderr",
          "output_type": "stream",
          "text": [
            "  7%|▋         | 681/10000 [20:13<3:54:17,  1.51s/ episodes]"
          ]
        },
        {
          "name": "stdout",
          "output_type": "stream",
          "text": [
            "Episode 680 - Avg. Reward over the last 10 episodes 603.6 epsilon 0.1585891125149118 steps 195.4 total steps 131530\n"
          ]
        },
        {
          "name": "stderr",
          "output_type": "stream",
          "text": [
            "  7%|▋         | 691/10000 [20:26<5:24:54,  2.09s/ episodes]"
          ]
        },
        {
          "name": "stdout",
          "output_type": "stream",
          "text": [
            "Episode 690 - Avg. Reward over the last 10 episodes 364.4 epsilon 0.1555392817413477 steps 138.7 total steps 132917\n"
          ]
        },
        {
          "name": "stderr",
          "output_type": "stream",
          "text": [
            "  7%|▋         | 701/10000 [20:47<6:29:38,  2.51s/ episodes]"
          ]
        },
        {
          "name": "stdout",
          "output_type": "stream",
          "text": [
            "Episode 700 - Avg. Reward over the last 10 episodes 772.3 epsilon 0.15050100051609056 steps 235.2 total steps 135269\n"
          ]
        },
        {
          "name": "stderr",
          "output_type": "stream",
          "text": [
            "  7%|▋         | 711/10000 [21:00<2:05:58,  1.23 episodes/s]"
          ]
        },
        {
          "name": "stdout",
          "output_type": "stream",
          "text": [
            "Episode 710 - Avg. Reward over the last 10 episodes 502.8 epsilon 0.14767699117052274 steps 135.3 total steps 136622\n"
          ]
        },
        {
          "name": "stderr",
          "output_type": "stream",
          "text": [
            "  7%|▋         | 721/10000 [21:30<7:55:19,  3.07s/ episodes]"
          ]
        },
        {
          "name": "stdout",
          "output_type": "stream",
          "text": [
            "Episode 720 - Avg. Reward over the last 10 episodes 679.4 epsilon 0.1411397585028777 steps 323.4 total steps 139856\n"
          ]
        },
        {
          "name": "stderr",
          "output_type": "stream",
          "text": [
            "  7%|▋         | 731/10000 [21:39<3:25:52,  1.33s/ episodes]"
          ]
        },
        {
          "name": "stdout",
          "output_type": "stream",
          "text": [
            "Episode 730 - Avg. Reward over the last 10 episodes 413.9 epsilon 0.13905288531318463 steps 106.4 total steps 140920\n"
          ]
        },
        {
          "name": "stderr",
          "output_type": "stream",
          "text": [
            "  7%|▋         | 741/10000 [22:00<5:33:42,  2.16s/ episodes]"
          ]
        },
        {
          "name": "stdout",
          "output_type": "stream",
          "text": [
            "Episode 740 - Avg. Reward over the last 10 episodes 713.0 epsilon 0.1343679219370943 steps 244.8 total steps 143368\n"
          ]
        },
        {
          "name": "stderr",
          "output_type": "stream",
          "text": [
            "  8%|▊         | 751/10000 [22:09<2:24:25,  1.07 episodes/s]"
          ]
        },
        {
          "name": "stdout",
          "output_type": "stream",
          "text": [
            "Episode 750 - Avg. Reward over the last 10 episodes 400.9 epsilon 0.13229780084590023 steps 110.9 total steps 144477\n"
          ]
        },
        {
          "name": "stderr",
          "output_type": "stream",
          "text": [
            "  8%|▊         | 761/10000 [22:28<5:41:11,  2.22s/ episodes]"
          ]
        },
        {
          "name": "stdout",
          "output_type": "stream",
          "text": [
            "Episode 760 - Avg. Reward over the last 10 episodes 609.6 epsilon 0.12822581569782662 steps 223.3 total steps 146710\n"
          ]
        },
        {
          "name": "stderr",
          "output_type": "stream",
          "text": [
            "  8%|▊         | 771/10000 [22:47<3:46:49,  1.47s/ episodes]"
          ]
        },
        {
          "name": "stdout",
          "output_type": "stream",
          "text": [
            "Episode 770 - Avg. Reward over the last 10 episodes 757.8 epsilon 0.12418871800136366 steps 228.5 total steps 148995\n"
          ]
        },
        {
          "name": "stderr",
          "output_type": "stream",
          "text": [
            "  8%|▊         | 781/10000 [23:03<4:41:40,  1.83s/ episodes]"
          ]
        },
        {
          "name": "stdout",
          "output_type": "stream",
          "text": [
            "Episode 780 - Avg. Reward over the last 10 episodes 662.0 epsilon 0.1209914480705054 steps 186.3 total steps 150858\n"
          ]
        },
        {
          "name": "stderr",
          "output_type": "stream",
          "text": [
            "  8%|▊         | 791/10000 [23:15<3:14:15,  1.27s/ episodes]"
          ]
        },
        {
          "name": "stdout",
          "output_type": "stream",
          "text": [
            "Episode 790 - Avg. Reward over the last 10 episodes 554.5 epsilon 0.1186314367820094 steps 140.7 total steps 152265\n"
          ]
        },
        {
          "name": "stderr",
          "output_type": "stream",
          "text": [
            "  8%|▊         | 801/10000 [23:32<3:10:42,  1.24s/ episodes]"
          ]
        },
        {
          "name": "stdout",
          "output_type": "stream",
          "text": [
            "Episode 800 - Avg. Reward over the last 10 episodes 689.4 epsilon 0.11537838419435659 steps 198.6 total steps 154251\n"
          ]
        },
        {
          "name": "stderr",
          "output_type": "stream",
          "text": [
            "  8%|▊         | 811/10000 [23:42<3:08:12,  1.23s/ episodes]"
          ]
        },
        {
          "name": "stdout",
          "output_type": "stream",
          "text": [
            "Episode 810 - Avg. Reward over the last 10 episodes 419.8 epsilon 0.11339266617201978 steps 124.0 total steps 155491\n"
          ]
        },
        {
          "name": "stderr",
          "output_type": "stream",
          "text": [
            "  8%|▊         | 821/10000 [23:56<4:10:00,  1.63s/ episodes]"
          ]
        },
        {
          "name": "stdout",
          "output_type": "stream",
          "text": [
            "Episode 820 - Avg. Reward over the last 10 episodes 527.2 epsilon 0.11084982033122281 steps 162.0 total steps 157111\n"
          ]
        },
        {
          "name": "stderr",
          "output_type": "stream",
          "text": [
            "  8%|▊         | 831/10000 [24:06<2:26:37,  1.04 episodes/s]"
          ]
        },
        {
          "name": "stdout",
          "output_type": "stream",
          "text": [
            "Episode 830 - Avg. Reward over the last 10 episodes 431.2 epsilon 0.1091404996649823 steps 111.0 total steps 158221\n"
          ]
        },
        {
          "name": "stderr",
          "output_type": "stream",
          "text": [
            "  8%|▊         | 841/10000 [24:21<2:56:57,  1.16s/ episodes]"
          ]
        },
        {
          "name": "stdout",
          "output_type": "stream",
          "text": [
            "Episode 840 - Avg. Reward over the last 10 episodes 606.1 epsilon 0.10674081925561578 steps 158.8 total steps 159809\n"
          ]
        },
        {
          "name": "stderr",
          "output_type": "stream",
          "text": [
            "  9%|▊         | 851/10000 [24:36<2:55:56,  1.15s/ episodes]"
          ]
        },
        {
          "name": "stdout",
          "output_type": "stream",
          "text": [
            "Episode 850 - Avg. Reward over the last 10 episodes 563.4 epsilon 0.10434860287565202 steps 161.9 total steps 161428\n"
          ]
        },
        {
          "name": "stderr",
          "output_type": "stream",
          "text": [
            "  9%|▊         | 861/10000 [25:01<5:52:51,  2.32s/ episodes]"
          ]
        },
        {
          "name": "stdout",
          "output_type": "stream",
          "text": [
            "Episode 860 - Avg. Reward over the last 10 episodes 798.8 epsilon 0.10040887129277705 steps 274.9 total steps 164177\n"
          ]
        },
        {
          "name": "stderr",
          "output_type": "stream",
          "text": [
            "  9%|▊         | 871/10000 [25:17<3:36:57,  1.43s/ episodes]"
          ]
        },
        {
          "name": "stdout",
          "output_type": "stream",
          "text": [
            "Episode 870 - Avg. Reward over the last 10 episodes 565.5 epsilon 0.0980816355222611 steps 167.5 total steps 165852\n"
          ]
        },
        {
          "name": "stderr",
          "output_type": "stream",
          "text": [
            "  9%|▉         | 881/10000 [25:36<4:44:26,  1.87s/ episodes]"
          ]
        },
        {
          "name": "stdout",
          "output_type": "stream",
          "text": [
            "Episode 880 - Avg. Reward over the last 10 episodes 650.3 epsilon 0.09528664222563453 steps 206.5 total steps 167917\n"
          ]
        },
        {
          "name": "stderr",
          "output_type": "stream",
          "text": [
            "  9%|▉         | 891/10000 [25:54<4:59:25,  1.97s/ episodes]"
          ]
        },
        {
          "name": "stdout",
          "output_type": "stream",
          "text": [
            "Episode 890 - Avg. Reward over the last 10 episodes 613.0 epsilon 0.09257000072755539 steps 206.6 total steps 169983\n"
          ]
        },
        {
          "name": "stderr",
          "output_type": "stream",
          "text": [
            "  9%|▉         | 901/10000 [26:14<4:33:38,  1.80s/ episodes]"
          ]
        },
        {
          "name": "stdout",
          "output_type": "stream",
          "text": [
            "Episode 900 - Avg. Reward over the last 10 episodes 682.2 epsilon 0.08982008273149875 steps 215.4 total steps 172137\n"
          ]
        },
        {
          "name": "stderr",
          "output_type": "stream",
          "text": [
            "  9%|▉         | 911/10000 [26:34<3:27:11,  1.37s/ episodes]"
          ]
        },
        {
          "name": "stdout",
          "output_type": "stream",
          "text": [
            "Episode 910 - Avg. Reward over the last 10 episodes 709.6 epsilon 0.0872837304095737 steps 204.6 total steps 174183\n"
          ]
        },
        {
          "name": "stderr",
          "output_type": "stream",
          "text": [
            "  9%|▉         | 921/10000 [26:54<4:41:22,  1.86s/ episodes]"
          ]
        },
        {
          "name": "stdout",
          "output_type": "stream",
          "text": [
            "Episode 920 - Avg. Reward over the last 10 episodes 629.0 epsilon 0.08468729127179205 steps 215.7 total steps 176340\n"
          ]
        },
        {
          "name": "stderr",
          "output_type": "stream",
          "text": [
            "  9%|▉         | 931/10000 [27:10<3:33:46,  1.41s/ episodes]"
          ]
        },
        {
          "name": "stdout",
          "output_type": "stream",
          "text": [
            "Episode 930 - Avg. Reward over the last 10 episodes 615.6 epsilon 0.08267813031587436 steps 171.5 total steps 178055\n"
          ]
        },
        {
          "name": "stderr",
          "output_type": "stream",
          "text": [
            "  9%|▉         | 941/10000 [27:32<5:06:17,  2.03s/ episodes]"
          ]
        },
        {
          "name": "stdout",
          "output_type": "stream",
          "text": [
            "Episode 940 - Avg. Reward over the last 10 episodes 667.7 epsilon 0.0799372957222408 steps 240.8 total steps 180463\n"
          ]
        },
        {
          "name": "stderr",
          "output_type": "stream",
          "text": [
            " 10%|▉         | 951/10000 [27:42<2:03:37,  1.22 episodes/s]"
          ]
        },
        {
          "name": "stdout",
          "output_type": "stream",
          "text": [
            "Episode 950 - Avg. Reward over the last 10 episodes 405.5 epsilon 0.0787024470307516 steps 111.2 total steps 181575\n"
          ]
        },
        {
          "name": "stderr",
          "output_type": "stream",
          "text": [
            " 10%|▉         | 961/10000 [27:52<1:53:24,  1.33 episodes/s]"
          ]
        },
        {
          "name": "stdout",
          "output_type": "stream",
          "text": [
            "Episode 960 - Avg. Reward over the last 10 episodes 450.4 epsilon 0.07746606485270419 steps 113.1 total steps 182706\n"
          ]
        },
        {
          "name": "stderr",
          "output_type": "stream",
          "text": [
            " 10%|▉         | 971/10000 [28:05<2:36:20,  1.04s/ episodes]"
          ]
        },
        {
          "name": "stdout",
          "output_type": "stream",
          "text": [
            "Episode 970 - Avg. Reward over the last 10 episodes 511.5 epsilon 0.0760433550820357 steps 132.4 total steps 184030\n"
          ]
        },
        {
          "name": "stderr",
          "output_type": "stream",
          "text": [
            " 10%|▉         | 981/10000 [28:17<3:25:04,  1.36s/ episodes]"
          ]
        },
        {
          "name": "stdout",
          "output_type": "stream",
          "text": [
            "Episode 980 - Avg. Reward over the last 10 episodes 516.1 epsilon 0.07457678712684923 steps 139.1 total steps 185421\n"
          ]
        },
        {
          "name": "stderr",
          "output_type": "stream",
          "text": [
            " 10%|▉         | 991/10000 [28:26<2:30:11,  1.00s/ episodes]"
          ]
        },
        {
          "name": "stdout",
          "output_type": "stream",
          "text": [
            "Episode 990 - Avg. Reward over the last 10 episodes 396.9 epsilon 0.07353379119934224 steps 100.6 total steps 186427\n"
          ]
        },
        {
          "name": "stderr",
          "output_type": "stream",
          "text": [
            " 10%|█         | 1001/10000 [28:35<2:50:58,  1.14s/ episodes]"
          ]
        },
        {
          "name": "stdout",
          "output_type": "stream",
          "text": [
            "Episode 1000 - Avg. Reward over the last 10 episodes 342.6 epsilon 0.07249827681799544 steps 101.3 total steps 187440\n"
          ]
        },
        {
          "name": "stderr",
          "output_type": "stream",
          "text": [
            " 10%|█         | 1011/10000 [28:52<6:25:20,  2.57s/ episodes]"
          ]
        },
        {
          "name": "stdout",
          "output_type": "stream",
          "text": [
            "Episode 1010 - Avg. Reward over the last 10 episodes 573.4 epsilon 0.07069807523528886 steps 179.6 total steps 189236\n"
          ]
        },
        {
          "name": "stderr",
          "output_type": "stream",
          "text": [
            " 10%|█         | 1021/10000 [29:03<2:27:15,  1.02 episodes/s]"
          ]
        },
        {
          "name": "stdout",
          "output_type": "stream",
          "text": [
            "Episode 1020 - Avg. Reward over the last 10 episodes 459.1 epsilon 0.06951246218770332 steps 120.8 total steps 190444\n"
          ]
        },
        {
          "name": "stderr",
          "output_type": "stream",
          "text": [
            " 10%|█         | 1031/10000 [29:14<2:57:34,  1.19s/ episodes]"
          ]
        },
        {
          "name": "stdout",
          "output_type": "stream",
          "text": [
            "Episode 1030 - Avg. Reward over the last 10 episodes 409.4 epsilon 0.06832855384209395 steps 122.7 total steps 191671\n"
          ]
        },
        {
          "name": "stderr",
          "output_type": "stream",
          "text": [
            " 10%|█         | 1041/10000 [29:31<4:25:43,  1.78s/ episodes]"
          ]
        },
        {
          "name": "stdout",
          "output_type": "stream",
          "text": [
            "Episode 1040 - Avg. Reward over the last 10 episodes 607.0 epsilon 0.0665740780598283 steps 185.8 total steps 193529\n"
          ]
        },
        {
          "name": "stderr",
          "output_type": "stream",
          "text": [
            " 11%|█         | 1051/10000 [29:46<3:56:25,  1.59s/ episodes]"
          ]
        },
        {
          "name": "stdout",
          "output_type": "stream",
          "text": [
            "Episode 1050 - Avg. Reward over the last 10 episodes 556.3 epsilon 0.06501739596600557 steps 169.0 total steps 195219\n"
          ]
        },
        {
          "name": "stderr",
          "output_type": "stream",
          "text": [
            " 11%|█         | 1061/10000 [29:55<2:33:08,  1.03s/ episodes]"
          ]
        },
        {
          "name": "stdout",
          "output_type": "stream",
          "text": [
            "Episode 1060 - Avg. Reward over the last 10 episodes 422.6 epsilon 0.06415298536558926 steps 95.6 total steps 196175\n"
          ]
        },
        {
          "name": "stderr",
          "output_type": "stream",
          "text": [
            " 11%|█         | 1071/10000 [30:12<5:04:22,  2.05s/ episodes]"
          ]
        },
        {
          "name": "stdout",
          "output_type": "stream",
          "text": [
            "Episode 1070 - Avg. Reward over the last 10 episodes 640.7 epsilon 0.0625241055799742 steps 183.7 total steps 198012\n"
          ]
        },
        {
          "name": "stderr",
          "output_type": "stream",
          "text": [
            " 11%|█         | 1081/10000 [30:28<2:58:23,  1.20s/ episodes]"
          ]
        },
        {
          "name": "stdout",
          "output_type": "stream",
          "text": [
            "Episode 1080 - Avg. Reward over the last 10 episodes 581.6 epsilon 0.06105613890109656 steps 169.7 total steps 199709\n"
          ]
        },
        {
          "name": "stderr",
          "output_type": "stream",
          "text": [
            " 11%|█         | 1091/10000 [30:41<3:12:52,  1.30s/ episodes]"
          ]
        },
        {
          "name": "stdout",
          "output_type": "stream",
          "text": [
            "Episode 1090 - Avg. Reward over the last 10 episodes 579.4 epsilon 0.059868554630904194 steps 140.3 total steps 201112\n"
          ]
        },
        {
          "name": "stderr",
          "output_type": "stream",
          "text": [
            " 11%|█         | 1101/10000 [30:56<3:35:38,  1.45s/ episodes]"
          ]
        },
        {
          "name": "stdout",
          "output_type": "stream",
          "text": [
            "Episode 1100 - Avg. Reward over the last 10 episodes 620.0 epsilon 0.05841957189331679 steps 175.0 total steps 202862\n"
          ]
        },
        {
          "name": "stderr",
          "output_type": "stream",
          "text": [
            " 11%|█         | 1111/10000 [31:02<2:11:22,  1.13 episodes/s]"
          ]
        },
        {
          "name": "stdout",
          "output_type": "stream",
          "text": [
            "Episode 1110 - Avg. Reward over the last 10 episodes 379.3 epsilon 0.05775678124857906 steps 81.5 total steps 203677\n"
          ]
        },
        {
          "name": "stderr",
          "output_type": "stream",
          "text": [
            " 11%|█         | 1121/10000 [31:15<2:09:51,  1.14 episodes/s]"
          ]
        },
        {
          "name": "stdout",
          "output_type": "stream",
          "text": [
            "Episode 1120 - Avg. Reward over the last 10 episodes 557.9 epsilon 0.05650981727225111 steps 155.9 total steps 205236\n"
          ]
        },
        {
          "name": "stderr",
          "output_type": "stream",
          "text": [
            " 11%|█▏        | 1131/10000 [31:26<2:06:51,  1.17 episodes/s]"
          ]
        },
        {
          "name": "stdout",
          "output_type": "stream",
          "text": [
            "Episode 1130 - Avg. Reward over the last 10 episodes 495.1 epsilon 0.055579258659089054 steps 118.6 total steps 206422\n"
          ]
        },
        {
          "name": "stderr",
          "output_type": "stream",
          "text": [
            " 11%|█▏        | 1141/10000 [31:38<2:05:57,  1.17 episodes/s]"
          ]
        },
        {
          "name": "stdout",
          "output_type": "stream",
          "text": [
            "Episode 1140 - Avg. Reward over the last 10 episodes 515.3 epsilon 0.05454858401486606 steps 133.7 total steps 207759\n"
          ]
        },
        {
          "name": "stderr",
          "output_type": "stream",
          "text": [
            " 12%|█▏        | 1151/10000 [31:51<3:35:13,  1.46s/ episodes]"
          ]
        },
        {
          "name": "stdout",
          "output_type": "stream",
          "text": [
            "Episode 1150 - Avg. Reward over the last 10 episodes 471.5 epsilon 0.05350105700950053 steps 138.5 total steps 209144\n"
          ]
        },
        {
          "name": "stderr",
          "output_type": "stream",
          "text": [
            " 12%|█▏        | 1161/10000 [32:05<3:18:42,  1.35s/ episodes]"
          ]
        },
        {
          "name": "stdout",
          "output_type": "stream",
          "text": [
            "Episode 1160 - Avg. Reward over the last 10 episodes 563.6 epsilon 0.05240316779492245 steps 148.1 total steps 210625\n"
          ]
        },
        {
          "name": "stderr",
          "output_type": "stream",
          "text": [
            " 12%|█▏        | 1171/10000 [32:27<4:12:53,  1.72s/ episodes]"
          ]
        },
        {
          "name": "stdout",
          "output_type": "stream",
          "text": [
            "Episode 1170 - Avg. Reward over the last 10 episodes 676.1 epsilon 0.05067802834173242 steps 239.1 total steps 213016\n"
          ]
        },
        {
          "name": "stderr",
          "output_type": "stream",
          "text": [
            " 12%|█▏        | 1181/10000 [32:42<2:12:54,  1.11 episodes/s]"
          ]
        },
        {
          "name": "stdout",
          "output_type": "stream",
          "text": [
            "Episode 1180 - Avg. Reward over the last 10 episodes 536.2 epsilon 0.04950897851189254 steps 166.7 total steps 214683\n"
          ]
        },
        {
          "name": "stderr",
          "output_type": "stream",
          "text": [
            " 12%|█▏        | 1191/10000 [32:56<3:52:51,  1.59s/ episodes]"
          ]
        },
        {
          "name": "stdout",
          "output_type": "stream",
          "text": [
            "Episode 1190 - Avg. Reward over the last 10 episodes 574.3 epsilon 0.0485133819971802 steps 145.1 total steps 216134\n"
          ]
        },
        {
          "name": "stderr",
          "output_type": "stream",
          "text": [
            " 12%|█▏        | 1201/10000 [33:07<2:42:19,  1.11s/ episodes]"
          ]
        },
        {
          "name": "stdout",
          "output_type": "stream",
          "text": [
            "Episode 1200 - Avg. Reward over the last 10 episodes 486.2 epsilon 0.04764908173696865 steps 128.4 total steps 217418\n"
          ]
        },
        {
          "name": "stderr",
          "output_type": "stream",
          "text": [
            " 12%|█▏        | 1211/10000 [33:30<5:52:03,  2.40s/ episodes]"
          ]
        },
        {
          "name": "stdout",
          "output_type": "stream",
          "text": [
            "Episode 1210 - Avg. Reward over the last 10 episodes 576.5 epsilon 0.046040468077800226 steps 245.3 total steps 219871\n"
          ]
        },
        {
          "name": "stderr",
          "output_type": "stream",
          "text": [
            " 12%|█▏        | 1221/10000 [33:44<3:27:15,  1.42s/ episodes]"
          ]
        },
        {
          "name": "stdout",
          "output_type": "stream",
          "text": [
            "Episode 1220 - Avg. Reward over the last 10 episodes 529.0 epsilon 0.04507421596108062 steps 151.5 total steps 221386\n"
          ]
        },
        {
          "name": "stderr",
          "output_type": "stream",
          "text": [
            " 12%|█▏        | 1231/10000 [34:01<2:47:37,  1.15s/ episodes]"
          ]
        },
        {
          "name": "stdout",
          "output_type": "stream",
          "text": [
            "Episode 1230 - Avg. Reward over the last 10 episodes 594.9 epsilon 0.043910080212664 steps 186.9 total steps 223255\n"
          ]
        },
        {
          "name": "stderr",
          "output_type": "stream",
          "text": [
            " 12%|█▏        | 1241/10000 [34:14<5:26:50,  2.24s/ episodes]"
          ]
        },
        {
          "name": "stdout",
          "output_type": "stream",
          "text": [
            "Episode 1240 - Avg. Reward over the last 10 episodes 500.9 epsilon 0.04303852118519974 steps 143.2 total steps 224687\n"
          ]
        },
        {
          "name": "stderr",
          "output_type": "stream",
          "text": [
            " 13%|█▎        | 1251/10000 [34:38<5:25:40,  2.23s/ episodes]"
          ]
        },
        {
          "name": "stdout",
          "output_type": "stream",
          "text": [
            "Episode 1250 - Avg. Reward over the last 10 episodes 777.7 epsilon 0.041542497087311454 steps 252.7 total steps 227214\n"
          ]
        },
        {
          "name": "stderr",
          "output_type": "stream",
          "text": [
            " 13%|█▎        | 1261/10000 [34:48<2:43:36,  1.12s/ episodes]"
          ]
        },
        {
          "name": "stdout",
          "output_type": "stream",
          "text": [
            "Episode 1260 - Avg. Reward over the last 10 episodes 447.9 epsilon 0.04093455894839092 steps 105.3 total steps 228267\n"
          ]
        },
        {
          "name": "stderr",
          "output_type": "stream",
          "text": [
            " 13%|█▎        | 1271/10000 [35:07<5:41:43,  2.35s/ episodes]"
          ]
        },
        {
          "name": "stdout",
          "output_type": "stream",
          "text": [
            "Episode 1270 - Avg. Reward over the last 10 episodes 689.5 epsilon 0.03971909817578933 steps 215.3 total steps 230420\n"
          ]
        },
        {
          "name": "stderr",
          "output_type": "stream",
          "text": [
            " 13%|█▎        | 1281/10000 [35:30<5:25:45,  2.24s/ episodes]"
          ]
        },
        {
          "name": "stdout",
          "output_type": "stream",
          "text": [
            "Episode 1280 - Avg. Reward over the last 10 episodes 797.6 epsilon 0.038402921500389854 steps 240.7 total steps 232827\n"
          ]
        },
        {
          "name": "stderr",
          "output_type": "stream",
          "text": [
            " 13%|█▎        | 1291/10000 [35:44<4:18:37,  1.78s/ episodes]"
          ]
        },
        {
          "name": "stdout",
          "output_type": "stream",
          "text": [
            "Episode 1290 - Avg. Reward over the last 10 episodes 601.2 epsilon 0.03756170867174292 steps 158.2 total steps 234409\n"
          ]
        },
        {
          "name": "stderr",
          "output_type": "stream",
          "text": [
            " 13%|█▎        | 1301/10000 [35:58<2:51:10,  1.18s/ episodes]"
          ]
        },
        {
          "name": "stdout",
          "output_type": "stream",
          "text": [
            "Episode 1300 - Avg. Reward over the last 10 episodes 590.6 epsilon 0.03676773766049786 steps 152.6 total steps 235935\n"
          ]
        },
        {
          "name": "stderr",
          "output_type": "stream",
          "text": [
            " 13%|█▎        | 1311/10000 [36:24<4:49:45,  2.00s/ episodes]"
          ]
        },
        {
          "name": "stdout",
          "output_type": "stream",
          "text": [
            "Episode 1310 - Avg. Reward over the last 10 episodes 688.3 epsilon 0.035359251682398084 steps 279.0 total steps 238725\n"
          ]
        },
        {
          "name": "stderr",
          "output_type": "stream",
          "text": [
            " 13%|█▎        | 1321/10000 [36:40<4:31:07,  1.87s/ episodes]"
          ]
        },
        {
          "name": "stdout",
          "output_type": "stream",
          "text": [
            "Episode 1320 - Avg. Reward over the last 10 episodes 634.5 epsilon 0.03453487409568409 steps 168.5 total steps 240410\n"
          ]
        },
        {
          "name": "stderr",
          "output_type": "stream",
          "text": [
            " 13%|█▎        | 1331/10000 [36:54<2:24:46,  1.00s/ episodes]"
          ]
        },
        {
          "name": "stdout",
          "output_type": "stream",
          "text": [
            "Episode 1330 - Avg. Reward over the last 10 episodes 485.8 epsilon 0.03378643088260463 steps 156.5 total steps 241975\n"
          ]
        },
        {
          "name": "stderr",
          "output_type": "stream",
          "text": [
            " 13%|█▎        | 1341/10000 [37:15<4:45:13,  1.98s/ episodes]"
          ]
        },
        {
          "name": "stdout",
          "output_type": "stream",
          "text": [
            "Episode 1340 - Avg. Reward over the last 10 episodes 759.4 epsilon 0.03274697905283215 steps 223.2 total steps 244207\n"
          ]
        },
        {
          "name": "stderr",
          "output_type": "stream",
          "text": [
            " 14%|█▎        | 1351/10000 [37:31<3:43:03,  1.55s/ episodes]"
          ]
        },
        {
          "name": "stdout",
          "output_type": "stream",
          "text": [
            "Episode 1350 - Avg. Reward over the last 10 episodes 623.9 epsilon 0.03196201880046752 steps 173.3 total steps 245940\n"
          ]
        },
        {
          "name": "stderr",
          "output_type": "stream",
          "text": [
            " 14%|█▎        | 1361/10000 [37:39<1:15:19,  1.91 episodes/s]"
          ]
        },
        {
          "name": "stdout",
          "output_type": "stream",
          "text": [
            "Episode 1360 - Avg. Reward over the last 10 episodes 353.4 epsilon 0.03156844563638321 steps 88.5 total steps 246825\n"
          ]
        },
        {
          "name": "stderr",
          "output_type": "stream",
          "text": [
            " 14%|█▎        | 1371/10000 [37:51<1:54:32,  1.26 episodes/s]"
          ]
        },
        {
          "name": "stdout",
          "output_type": "stream",
          "text": [
            "Episode 1370 - Avg. Reward over the last 10 episodes 497.9 epsilon 0.030993445302251055 steps 131.3 total steps 248138\n"
          ]
        },
        {
          "name": "stderr",
          "output_type": "stream",
          "text": [
            " 14%|█▍        | 1381/10000 [37:59<2:07:08,  1.13 episodes/s]"
          ]
        },
        {
          "name": "stdout",
          "output_type": "stream",
          "text": [
            "Episode 1380 - Avg. Reward over the last 10 episodes 375.0 epsilon 0.030606227996872494 steps 89.8 total steps 249036\n"
          ]
        },
        {
          "name": "stderr",
          "output_type": "stream",
          "text": [
            " 14%|█▍        | 1391/10000 [38:11<3:50:25,  1.61s/ episodes]"
          ]
        },
        {
          "name": "stdout",
          "output_type": "stream",
          "text": [
            "Episode 1390 - Avg. Reward over the last 10 episodes 466.7 epsilon 0.030044126647110467 steps 132.4 total steps 250360\n"
          ]
        },
        {
          "name": "stderr",
          "output_type": "stream",
          "text": [
            " 14%|█▍        | 1401/10000 [38:18<2:38:23,  1.11s/ episodes]"
          ]
        },
        {
          "name": "stdout",
          "output_type": "stream",
          "text": [
            "Episode 1400 - Avg. Reward over the last 10 episodes 445.3 epsilon 0.029690792462341804 steps 84.5 total steps 251205\n"
          ]
        },
        {
          "name": "stderr",
          "output_type": "stream",
          "text": [
            " 14%|█▍        | 1411/10000 [38:28<1:17:04,  1.86 episodes/s]"
          ]
        },
        {
          "name": "stdout",
          "output_type": "stream",
          "text": [
            "Episode 1410 - Avg. Reward over the last 10 episodes 395.1 epsilon 0.029264486717175655 steps 103.3 total steps 252238\n"
          ]
        },
        {
          "name": "stderr",
          "output_type": "stream",
          "text": [
            " 14%|█▍        | 1421/10000 [38:34<1:20:05,  1.79 episodes/s]"
          ]
        },
        {
          "name": "stdout",
          "output_type": "stream",
          "text": [
            "Episode 1420 - Avg. Reward over the last 10 episodes 348.0 epsilon 0.02895759552754587 steps 75.3 total steps 252991\n"
          ]
        },
        {
          "name": "stderr",
          "output_type": "stream",
          "text": [
            " 14%|█▍        | 1431/10000 [38:39<1:21:36,  1.75 episodes/s]"
          ]
        },
        {
          "name": "stdout",
          "output_type": "stream",
          "text": [
            "Episode 1430 - Avg. Reward over the last 10 episodes 264.8 epsilon 0.02875237609817363 steps 50.8 total steps 253499\n"
          ]
        },
        {
          "name": "stderr",
          "output_type": "stream",
          "text": [
            " 14%|█▍        | 1441/10000 [38:53<4:11:00,  1.76s/ episodes]"
          ]
        },
        {
          "name": "stdout",
          "output_type": "stream",
          "text": [
            "Episode 1440 - Avg. Reward over the last 10 episodes 573.8 epsilon 0.028143432722012036 steps 152.9 total steps 255028\n"
          ]
        },
        {
          "name": "stderr",
          "output_type": "stream",
          "text": [
            " 15%|█▍        | 1451/10000 [39:11<2:00:49,  1.18 episodes/s]"
          ]
        },
        {
          "name": "stdout",
          "output_type": "stream",
          "text": [
            "Episode 1450 - Avg. Reward over the last 10 episodes 599.5 epsilon 0.027393165634374904 steps 193.0 total steps 256958\n"
          ]
        },
        {
          "name": "stderr",
          "output_type": "stream",
          "text": [
            " 15%|█▍        | 1461/10000 [39:18<1:31:42,  1.55 episodes/s]"
          ]
        },
        {
          "name": "stdout",
          "output_type": "stream",
          "text": [
            "Episode 1460 - Avg. Reward over the last 10 episodes 325.9 epsilon 0.027104001258250503 steps 75.8 total steps 257716\n"
          ]
        },
        {
          "name": "stderr",
          "output_type": "stream",
          "text": [
            " 15%|█▍        | 1471/10000 [39:36<4:33:39,  1.93s/ episodes]"
          ]
        },
        {
          "name": "stdout",
          "output_type": "stream",
          "text": [
            "Episode 1470 - Avg. Reward over the last 10 episodes 722.1 epsilon 0.026356709422907992 steps 199.7 total steps 259713\n"
          ]
        },
        {
          "name": "stderr",
          "output_type": "stream",
          "text": [
            " 15%|█▍        | 1481/10000 [39:48<1:57:38,  1.21 episodes/s]"
          ]
        },
        {
          "name": "stdout",
          "output_type": "stream",
          "text": [
            "Episode 1480 - Avg. Reward over the last 10 episodes 525.8 epsilon 0.025891857950033834 steps 127.1 total steps 260984\n"
          ]
        },
        {
          "name": "stderr",
          "output_type": "stream",
          "text": [
            " 15%|█▍        | 1491/10000 [40:04<3:10:50,  1.35s/ episodes]"
          ]
        },
        {
          "name": "stdout",
          "output_type": "stream",
          "text": [
            "Episode 1490 - Avg. Reward over the last 10 episodes 548.4 epsilon 0.025282188408347336 steps 170.2 total steps 262686\n"
          ]
        },
        {
          "name": "stderr",
          "output_type": "stream",
          "text": [
            " 15%|█▌        | 1501/10000 [40:27<6:34:19,  2.78s/ episodes]"
          ]
        },
        {
          "name": "stdout",
          "output_type": "stream",
          "text": [
            "Episode 1500 - Avg. Reward over the last 10 episodes 554.8 epsilon 0.0243678704519954 steps 263.1 total steps 265317\n"
          ]
        },
        {
          "name": "stderr",
          "output_type": "stream",
          "text": [
            " 15%|█▌        | 1511/10000 [40:40<3:08:04,  1.33s/ episodes]"
          ]
        },
        {
          "name": "stdout",
          "output_type": "stream",
          "text": [
            "Episode 1510 - Avg. Reward over the last 10 episodes 533.8 epsilon 0.02382308525590381 steps 161.5 total steps 266932\n"
          ]
        },
        {
          "name": "stderr",
          "output_type": "stream",
          "text": [
            " 15%|█▌        | 1521/10000 [40:59<6:01:05,  2.56s/ episodes]"
          ]
        },
        {
          "name": "stdout",
          "output_type": "stream",
          "text": [
            "Episode 1520 - Avg. Reward over the last 10 episodes 708.1 epsilon 0.02308434128657611 steps 225.0 total steps 269182\n"
          ]
        },
        {
          "name": "stderr",
          "output_type": "stream",
          "text": [
            " 15%|█▌        | 1531/10000 [41:14<3:40:59,  1.57s/ episodes]"
          ]
        },
        {
          "name": "stdout",
          "output_type": "stream",
          "text": [
            "Episode 1530 - Avg. Reward over the last 10 episodes 416.2 epsilon 0.022531314377823092 steps 173.2 total steps 270914\n"
          ]
        },
        {
          "name": "stderr",
          "output_type": "stream",
          "text": [
            " 15%|█▌        | 1541/10000 [41:27<3:30:23,  1.49s/ episodes]"
          ]
        },
        {
          "name": "stdout",
          "output_type": "stream",
          "text": [
            "Episode 1540 - Avg. Reward over the last 10 episodes 470.3 epsilon 0.02203499116137973 steps 159.1 total steps 272505\n"
          ]
        },
        {
          "name": "stderr",
          "output_type": "stream",
          "text": [
            " 16%|█▌        | 1551/10000 [41:42<2:57:08,  1.26s/ episodes]"
          ]
        },
        {
          "name": "stdout",
          "output_type": "stream",
          "text": [
            "Episode 1550 - Avg. Reward over the last 10 episodes 542.2 epsilon 0.021497771099036625 steps 176.3 total steps 274268\n"
          ]
        },
        {
          "name": "stderr",
          "output_type": "stream",
          "text": [
            " 16%|█▌        | 1561/10000 [41:47<55:01,  2.56 episodes/s]  "
          ]
        },
        {
          "name": "stdout",
          "output_type": "stream",
          "text": [
            "Episode 1560 - Avg. Reward over the last 10 episodes 262.9 epsilon 0.021321524750565635 steps 58.8 total steps 274856\n"
          ]
        },
        {
          "name": "stderr",
          "output_type": "stream",
          "text": [
            " 16%|█▌        | 1571/10000 [42:05<3:03:04,  1.30s/ episodes]"
          ]
        },
        {
          "name": "stdout",
          "output_type": "stream",
          "text": [
            "Episode 1570 - Avg. Reward over the last 10 episodes 502.8 epsilon 0.020695671794826564 steps 212.8 total steps 276984\n"
          ]
        },
        {
          "name": "stderr",
          "output_type": "stream",
          "text": [
            " 16%|█▌        | 1581/10000 [42:10<1:05:08,  2.15 episodes/s]"
          ]
        },
        {
          "name": "stdout",
          "output_type": "stream",
          "text": [
            "Episode 1580 - Avg. Reward over the last 10 episodes 263.8 epsilon 0.02054123755562588 steps 53.5 total steps 277519\n"
          ]
        },
        {
          "name": "stderr",
          "output_type": "stream",
          "text": [
            " 16%|█▌        | 1591/10000 [42:21<1:58:40,  1.18 episodes/s]"
          ]
        },
        {
          "name": "stdout",
          "output_type": "stream",
          "text": [
            "Episode 1590 - Avg. Reward over the last 10 episodes 496.9 epsilon 0.020184038987514155 steps 125.3 total steps 278772\n"
          ]
        },
        {
          "name": "stderr",
          "output_type": "stream",
          "text": [
            " 16%|█▌        | 1601/10000 [42:33<1:45:22,  1.33 episodes/s]"
          ]
        },
        {
          "name": "stdout",
          "output_type": "stream",
          "text": [
            "Episode 1600 - Avg. Reward over the last 10 episodes 366.6 epsilon 0.02 steps 147.6 total steps 280248\n"
          ]
        },
        {
          "name": "stderr",
          "output_type": "stream",
          "text": [
            " 16%|█▌        | 1611/10000 [42:47<1:43:49,  1.35 episodes/s]"
          ]
        },
        {
          "name": "stdout",
          "output_type": "stream",
          "text": [
            "Episode 1610 - Avg. Reward over the last 10 episodes 444.8 epsilon 0.02 steps 165.8 total steps 281906\n"
          ]
        },
        {
          "name": "stderr",
          "output_type": "stream",
          "text": [
            " 16%|█▌        | 1621/10000 [42:54<1:47:23,  1.30 episodes/s]"
          ]
        },
        {
          "name": "stdout",
          "output_type": "stream",
          "text": [
            "Episode 1620 - Avg. Reward over the last 10 episodes 350.0 epsilon 0.02 steps 88.4 total steps 282790\n"
          ]
        },
        {
          "name": "stderr",
          "output_type": "stream",
          "text": [
            " 16%|█▋        | 1631/10000 [43:10<2:21:36,  1.02s/ episodes]"
          ]
        },
        {
          "name": "stdout",
          "output_type": "stream",
          "text": [
            "Episode 1630 - Avg. Reward over the last 10 episodes 613.8 epsilon 0.02 steps 187.6 total steps 284666\n"
          ]
        },
        {
          "name": "stderr",
          "output_type": "stream",
          "text": [
            " 16%|█▋        | 1641/10000 [43:25<2:20:31,  1.01s/ episodes]"
          ]
        },
        {
          "name": "stdout",
          "output_type": "stream",
          "text": [
            "Episode 1640 - Avg. Reward over the last 10 episodes 523.2 epsilon 0.02 steps 187.1 total steps 286537\n"
          ]
        },
        {
          "name": "stderr",
          "output_type": "stream",
          "text": [
            " 17%|█▋        | 1651/10000 [43:58<8:44:13,  3.77s/ episodes]"
          ]
        },
        {
          "name": "stdout",
          "output_type": "stream",
          "text": [
            "Episode 1650 - Avg. Reward over the last 10 episodes 878.0 epsilon 0.02 steps 385.2 total steps 290389\n"
          ]
        },
        {
          "name": "stderr",
          "output_type": "stream",
          "text": [
            " 17%|█▋        | 1661/10000 [44:14<3:21:12,  1.45s/ episodes]"
          ]
        },
        {
          "name": "stdout",
          "output_type": "stream",
          "text": [
            "Episode 1660 - Avg. Reward over the last 10 episodes 602.9 epsilon 0.02 steps 192.1 total steps 292310\n"
          ]
        },
        {
          "name": "stderr",
          "output_type": "stream",
          "text": [
            " 17%|█▋        | 1671/10000 [44:31<3:59:21,  1.72s/ episodes]"
          ]
        },
        {
          "name": "stdout",
          "output_type": "stream",
          "text": [
            "Episode 1670 - Avg. Reward over the last 10 episodes 553.1 epsilon 0.02 steps 197.7 total steps 294287\n"
          ]
        },
        {
          "name": "stderr",
          "output_type": "stream",
          "text": [
            " 17%|█▋        | 1681/10000 [44:51<4:29:46,  1.95s/ episodes]"
          ]
        },
        {
          "name": "stdout",
          "output_type": "stream",
          "text": [
            "Episode 1680 - Avg. Reward over the last 10 episodes 606.4 epsilon 0.02 steps 244.9 total steps 296736\n"
          ]
        },
        {
          "name": "stderr",
          "output_type": "stream",
          "text": [
            " 17%|█▋        | 1691/10000 [45:11<4:56:27,  2.14s/ episodes]"
          ]
        },
        {
          "name": "stdout",
          "output_type": "stream",
          "text": [
            "Episode 1690 - Avg. Reward over the last 10 episodes 651.9 epsilon 0.02 steps 233.0 total steps 299066\n"
          ]
        },
        {
          "name": "stderr",
          "output_type": "stream",
          "text": [
            " 17%|█▋        | 1701/10000 [45:37<2:40:32,  1.16s/ episodes] "
          ]
        },
        {
          "name": "stdout",
          "output_type": "stream",
          "text": [
            "Episode 1700 - Avg. Reward over the last 10 episodes 425.7 epsilon 0.02 steps 303.6 total steps 302102\n"
          ]
        },
        {
          "name": "stderr",
          "output_type": "stream",
          "text": [
            " 17%|█▋        | 1711/10000 [45:49<2:45:14,  1.20s/ episodes]"
          ]
        },
        {
          "name": "stdout",
          "output_type": "stream",
          "text": [
            "Episode 1710 - Avg. Reward over the last 10 episodes 499.7 epsilon 0.02 steps 140.7 total steps 303509\n"
          ]
        },
        {
          "name": "stderr",
          "output_type": "stream",
          "text": [
            " 17%|█▋        | 1721/10000 [46:09<4:33:25,  1.98s/ episodes]"
          ]
        },
        {
          "name": "stdout",
          "output_type": "stream",
          "text": [
            "Episode 1720 - Avg. Reward over the last 10 episodes 675.3 epsilon 0.02 steps 234.1 total steps 305850\n"
          ]
        },
        {
          "name": "stderr",
          "output_type": "stream",
          "text": [
            " 17%|█▋        | 1731/10000 [46:34<5:06:38,  2.22s/ episodes]"
          ]
        },
        {
          "name": "stdout",
          "output_type": "stream",
          "text": [
            "Episode 1730 - Avg. Reward over the last 10 episodes 740.3 epsilon 0.02 steps 276.4 total steps 308614\n"
          ]
        },
        {
          "name": "stderr",
          "output_type": "stream",
          "text": [
            " 17%|█▋        | 1741/10000 [47:00<6:10:53,  2.69s/ episodes]"
          ]
        },
        {
          "name": "stdout",
          "output_type": "stream",
          "text": [
            "Episode 1740 - Avg. Reward over the last 10 episodes 683.8 epsilon 0.02 steps 280.3 total steps 311417\n"
          ]
        },
        {
          "name": "stderr",
          "output_type": "stream",
          "text": [
            " 18%|█▊        | 1751/10000 [47:21<4:48:05,  2.10s/ episodes]"
          ]
        },
        {
          "name": "stdout",
          "output_type": "stream",
          "text": [
            "Episode 1750 - Avg. Reward over the last 10 episodes 744.7 epsilon 0.02 steps 225.4 total steps 313671\n"
          ]
        },
        {
          "name": "stderr",
          "output_type": "stream",
          "text": [
            " 18%|█▊        | 1761/10000 [47:31<3:05:50,  1.35s/ episodes]"
          ]
        },
        {
          "name": "stdout",
          "output_type": "stream",
          "text": [
            "Episode 1760 - Avg. Reward over the last 10 episodes 484.7 epsilon 0.02 steps 114.9 total steps 314820\n"
          ]
        },
        {
          "name": "stderr",
          "output_type": "stream",
          "text": [
            " 18%|█▊        | 1771/10000 [47:50<4:55:01,  2.15s/ episodes]"
          ]
        },
        {
          "name": "stdout",
          "output_type": "stream",
          "text": [
            "Episode 1770 - Avg. Reward over the last 10 episodes 506.0 epsilon 0.02 steps 199.8 total steps 316818\n"
          ]
        },
        {
          "name": "stderr",
          "output_type": "stream",
          "text": [
            " 18%|█▊        | 1781/10000 [48:10<6:09:33,  2.70s/ episodes]"
          ]
        },
        {
          "name": "stdout",
          "output_type": "stream",
          "text": [
            "Episode 1780 - Avg. Reward over the last 10 episodes 555.9 epsilon 0.02 steps 220.2 total steps 319020\n"
          ]
        },
        {
          "name": "stderr",
          "output_type": "stream",
          "text": [
            " 18%|█▊        | 1791/10000 [48:26<2:48:23,  1.23s/ episodes]"
          ]
        },
        {
          "name": "stdout",
          "output_type": "stream",
          "text": [
            "Episode 1790 - Avg. Reward over the last 10 episodes 474.1 epsilon 0.02 steps 167.3 total steps 320693\n"
          ]
        },
        {
          "name": "stderr",
          "output_type": "stream",
          "text": [
            " 18%|█▊        | 1801/10000 [48:48<4:53:18,  2.15s/ episodes]"
          ]
        },
        {
          "name": "stdout",
          "output_type": "stream",
          "text": [
            "Episode 1800 - Avg. Reward over the last 10 episodes 687.7 epsilon 0.02 steps 243.9 total steps 323132\n"
          ]
        },
        {
          "name": "stderr",
          "output_type": "stream",
          "text": [
            " 18%|█▊        | 1811/10000 [49:06<4:59:42,  2.20s/ episodes]"
          ]
        },
        {
          "name": "stdout",
          "output_type": "stream",
          "text": [
            "Episode 1810 - Avg. Reward over the last 10 episodes 444.0 epsilon 0.02 steps 200.6 total steps 325138\n"
          ]
        },
        {
          "name": "stderr",
          "output_type": "stream",
          "text": [
            " 18%|█▊        | 1821/10000 [49:20<2:58:30,  1.31s/ episodes]"
          ]
        },
        {
          "name": "stdout",
          "output_type": "stream",
          "text": [
            "Episode 1820 - Avg. Reward over the last 10 episodes 552.5 epsilon 0.02 steps 150.1 total steps 326639\n"
          ]
        },
        {
          "name": "stderr",
          "output_type": "stream",
          "text": [
            " 18%|█▊        | 1831/10000 [49:34<4:03:00,  1.78s/ episodes]"
          ]
        },
        {
          "name": "stdout",
          "output_type": "stream",
          "text": [
            "Episode 1830 - Avg. Reward over the last 10 episodes 511.9 epsilon 0.02 steps 149.4 total steps 328133\n"
          ]
        },
        {
          "name": "stderr",
          "output_type": "stream",
          "text": [
            " 18%|█▊        | 1841/10000 [49:55<5:35:43,  2.47s/ episodes]"
          ]
        },
        {
          "name": "stdout",
          "output_type": "stream",
          "text": [
            "Episode 1840 - Avg. Reward over the last 10 episodes 759.2 epsilon 0.02 steps 235.2 total steps 330485\n"
          ]
        },
        {
          "name": "stderr",
          "output_type": "stream",
          "text": [
            " 19%|█▊        | 1851/10000 [50:15<3:30:36,  1.55s/ episodes]"
          ]
        },
        {
          "name": "stdout",
          "output_type": "stream",
          "text": [
            "Episode 1850 - Avg. Reward over the last 10 episodes 705.4 epsilon 0.02 steps 213.9 total steps 332624\n"
          ]
        },
        {
          "name": "stderr",
          "output_type": "stream",
          "text": [
            " 19%|█▊        | 1861/10000 [50:33<4:09:07,  1.84s/ episodes]"
          ]
        },
        {
          "name": "stdout",
          "output_type": "stream",
          "text": [
            "Episode 1860 - Avg. Reward over the last 10 episodes 699.9 epsilon 0.02 steps 198.9 total steps 334613\n"
          ]
        },
        {
          "name": "stderr",
          "output_type": "stream",
          "text": [
            " 19%|█▊        | 1871/10000 [50:56<5:04:37,  2.25s/ episodes]"
          ]
        },
        {
          "name": "stdout",
          "output_type": "stream",
          "text": [
            "Episode 1870 - Avg. Reward over the last 10 episodes 1034.1 epsilon 0.02 steps 248.6 total steps 337099\n"
          ]
        },
        {
          "name": "stderr",
          "output_type": "stream",
          "text": [
            " 19%|█▉        | 1881/10000 [51:07<3:05:29,  1.37s/ episodes]"
          ]
        },
        {
          "name": "stdout",
          "output_type": "stream",
          "text": [
            "Episode 1880 - Avg. Reward over the last 10 episodes 508.2 epsilon 0.02 steps 130.7 total steps 338406\n"
          ]
        },
        {
          "name": "stderr",
          "output_type": "stream",
          "text": [
            " 19%|█▉        | 1891/10000 [51:31<8:43:12,  3.87s/ episodes]"
          ]
        },
        {
          "name": "stdout",
          "output_type": "stream",
          "text": [
            "Episode 1890 - Avg. Reward over the last 10 episodes 718.7 epsilon 0.02 steps 254.9 total steps 340955\n"
          ]
        },
        {
          "name": "stderr",
          "output_type": "stream",
          "text": [
            " 19%|█▉        | 1901/10000 [51:52<3:37:57,  1.61s/ episodes]"
          ]
        },
        {
          "name": "stdout",
          "output_type": "stream",
          "text": [
            "Episode 1900 - Avg. Reward over the last 10 episodes 684.1 epsilon 0.02 steps 226.2 total steps 343217\n"
          ]
        },
        {
          "name": "stderr",
          "output_type": "stream",
          "text": [
            " 19%|█▉        | 1911/10000 [52:14<4:13:08,  1.88s/ episodes]"
          ]
        },
        {
          "name": "stdout",
          "output_type": "stream",
          "text": [
            "Episode 1910 - Avg. Reward over the last 10 episodes 701.2 epsilon 0.02 steps 245.8 total steps 345675\n"
          ]
        },
        {
          "name": "stderr",
          "output_type": "stream",
          "text": [
            " 19%|█▉        | 1921/10000 [52:48<5:04:59,  2.27s/ episodes] "
          ]
        },
        {
          "name": "stdout",
          "output_type": "stream",
          "text": [
            "Episode 1920 - Avg. Reward over the last 10 episodes 712.7 epsilon 0.02 steps 407.4 total steps 349749\n"
          ]
        },
        {
          "name": "stderr",
          "output_type": "stream",
          "text": [
            " 19%|█▉        | 1931/10000 [53:14<6:06:57,  2.73s/ episodes]"
          ]
        },
        {
          "name": "stdout",
          "output_type": "stream",
          "text": [
            "Episode 1930 - Avg. Reward over the last 10 episodes 843.7 epsilon 0.02 steps 303.1 total steps 352780\n"
          ]
        },
        {
          "name": "stderr",
          "output_type": "stream",
          "text": [
            " 19%|█▉        | 1941/10000 [53:55<12:54:09,  5.76s/ episodes]"
          ]
        },
        {
          "name": "stdout",
          "output_type": "stream",
          "text": [
            "Episode 1940 - Avg. Reward over the last 10 episodes 857.4 epsilon 0.02 steps 483.2 total steps 357612\n"
          ]
        },
        {
          "name": "stderr",
          "output_type": "stream",
          "text": [
            " 20%|█▉        | 1951/10000 [54:12<6:09:52,  2.76s/ episodes] "
          ]
        },
        {
          "name": "stdout",
          "output_type": "stream",
          "text": [
            "Episode 1950 - Avg. Reward over the last 10 episodes 630.5 epsilon 0.02 steps 202.3 total steps 359635\n"
          ]
        },
        {
          "name": "stderr",
          "output_type": "stream",
          "text": [
            " 20%|█▉        | 1961/10000 [54:25<4:25:26,  1.98s/ episodes]"
          ]
        },
        {
          "name": "stdout",
          "output_type": "stream",
          "text": [
            "Episode 1960 - Avg. Reward over the last 10 episodes 485.8 epsilon 0.02 steps 161.8 total steps 361253\n"
          ]
        },
        {
          "name": "stderr",
          "output_type": "stream",
          "text": [
            " 20%|█▉        | 1971/10000 [54:52<7:20:44,  3.29s/ episodes]"
          ]
        },
        {
          "name": "stdout",
          "output_type": "stream",
          "text": [
            "Episode 1970 - Avg. Reward over the last 10 episodes 724.3 epsilon 0.02 steps 311.0 total steps 364363\n"
          ]
        },
        {
          "name": "stderr",
          "output_type": "stream",
          "text": [
            " 20%|█▉        | 1981/10000 [55:21<6:44:28,  3.03s/ episodes]"
          ]
        },
        {
          "name": "stdout",
          "output_type": "stream",
          "text": [
            "Episode 1980 - Avg. Reward over the last 10 episodes 864.6 epsilon 0.02 steps 342.6 total steps 367789\n"
          ]
        },
        {
          "name": "stderr",
          "output_type": "stream",
          "text": [
            " 20%|█▉        | 1991/10000 [55:33<3:11:27,  1.43s/ episodes]"
          ]
        },
        {
          "name": "stdout",
          "output_type": "stream",
          "text": [
            "Episode 1990 - Avg. Reward over the last 10 episodes 568.7 epsilon 0.02 steps 145.3 total steps 369242\n"
          ]
        },
        {
          "name": "stderr",
          "output_type": "stream",
          "text": [
            " 20%|██        | 2001/10000 [55:50<4:37:31,  2.08s/ episodes]"
          ]
        },
        {
          "name": "stdout",
          "output_type": "stream",
          "text": [
            "Episode 2000 - Avg. Reward over the last 10 episodes 758.4 epsilon 0.02 steps 195.6 total steps 371198\n"
          ]
        },
        {
          "name": "stderr",
          "output_type": "stream",
          "text": [
            " 20%|██        | 2011/10000 [56:15<4:26:20,  2.00s/ episodes]"
          ]
        },
        {
          "name": "stdout",
          "output_type": "stream",
          "text": [
            "Episode 2010 - Avg. Reward over the last 10 episodes 970.8 epsilon 0.02 steps 301.2 total steps 374210\n"
          ]
        },
        {
          "name": "stderr",
          "output_type": "stream",
          "text": [
            " 20%|██        | 2021/10000 [56:37<5:02:52,  2.28s/ episodes]"
          ]
        },
        {
          "name": "stdout",
          "output_type": "stream",
          "text": [
            "Episode 2020 - Avg. Reward over the last 10 episodes 858.1 epsilon 0.02 steps 261.6 total steps 376826\n"
          ]
        },
        {
          "name": "stderr",
          "output_type": "stream",
          "text": [
            " 20%|██        | 2031/10000 [56:51<2:33:29,  1.16s/ episodes]"
          ]
        },
        {
          "name": "stdout",
          "output_type": "stream",
          "text": [
            "Episode 2030 - Avg. Reward over the last 10 episodes 698.5 epsilon 0.02 steps 171.2 total steps 378538\n"
          ]
        },
        {
          "name": "stderr",
          "output_type": "stream",
          "text": [
            " 20%|██        | 2041/10000 [57:28<7:30:01,  3.39s/ episodes] "
          ]
        },
        {
          "name": "stdout",
          "output_type": "stream",
          "text": [
            "Episode 2040 - Avg. Reward over the last 10 episodes 906.3 epsilon 0.02 steps 435.1 total steps 382889\n"
          ]
        },
        {
          "name": "stderr",
          "output_type": "stream",
          "text": [
            " 21%|██        | 2051/10000 [57:47<4:21:52,  1.98s/ episodes]"
          ]
        },
        {
          "name": "stdout",
          "output_type": "stream",
          "text": [
            "Episode 2050 - Avg. Reward over the last 10 episodes 809.3 epsilon 0.02 steps 227.1 total steps 385160\n"
          ]
        },
        {
          "name": "stderr",
          "output_type": "stream",
          "text": [
            " 21%|██        | 2061/10000 [58:03<3:41:40,  1.68s/ episodes]"
          ]
        },
        {
          "name": "stdout",
          "output_type": "stream",
          "text": [
            "Episode 2060 - Avg. Reward over the last 10 episodes 606.0 epsilon 0.02 steps 195.4 total steps 387114\n"
          ]
        },
        {
          "name": "stderr",
          "output_type": "stream",
          "text": [
            " 21%|██        | 2071/10000 [58:18<2:46:12,  1.26s/ episodes]"
          ]
        },
        {
          "name": "stdout",
          "output_type": "stream",
          "text": [
            "Episode 2070 - Avg. Reward over the last 10 episodes 596.6 epsilon 0.02 steps 175.3 total steps 388867\n"
          ]
        },
        {
          "name": "stderr",
          "output_type": "stream",
          "text": [
            " 21%|██        | 2081/10000 [58:35<4:28:22,  2.03s/ episodes]"
          ]
        },
        {
          "name": "stdout",
          "output_type": "stream",
          "text": [
            "Episode 2080 - Avg. Reward over the last 10 episodes 607.9 epsilon 0.02 steps 198.7 total steps 390854\n"
          ]
        },
        {
          "name": "stderr",
          "output_type": "stream",
          "text": [
            " 21%|██        | 2091/10000 [58:54<4:54:08,  2.23s/ episodes]"
          ]
        },
        {
          "name": "stdout",
          "output_type": "stream",
          "text": [
            "Episode 2090 - Avg. Reward over the last 10 episodes 775.0 epsilon 0.02 steps 228.9 total steps 393143\n"
          ]
        },
        {
          "name": "stderr",
          "output_type": "stream",
          "text": [
            " 21%|██        | 2101/10000 [59:09<2:50:00,  1.29s/ episodes]"
          ]
        },
        {
          "name": "stdout",
          "output_type": "stream",
          "text": [
            "Episode 2100 - Avg. Reward over the last 10 episodes 703.7 epsilon 0.02 steps 181.6 total steps 394959\n"
          ]
        },
        {
          "name": "stderr",
          "output_type": "stream",
          "text": [
            " 21%|██        | 2111/10000 [59:25<3:22:01,  1.54s/ episodes]"
          ]
        },
        {
          "name": "stdout",
          "output_type": "stream",
          "text": [
            "Episode 2110 - Avg. Reward over the last 10 episodes 594.3 epsilon 0.02 steps 184.8 total steps 396807\n"
          ]
        },
        {
          "name": "stderr",
          "output_type": "stream",
          "text": [
            " 21%|██        | 2121/10000 [59:57<9:08:31,  4.18s/ episodes] "
          ]
        },
        {
          "name": "stdout",
          "output_type": "stream",
          "text": [
            "Episode 2120 - Avg. Reward over the last 10 episodes 776.3 epsilon 0.02 steps 376.1 total steps 400568\n"
          ]
        },
        {
          "name": "stderr",
          "output_type": "stream",
          "text": [
            " 21%|██▏       | 2131/10000 [1:00:24<5:29:18,  2.51s/ episodes]"
          ]
        },
        {
          "name": "stdout",
          "output_type": "stream",
          "text": [
            "Episode 2130 - Avg. Reward over the last 10 episodes 969.6 epsilon 0.02 steps 328.5 total steps 403853\n"
          ]
        },
        {
          "name": "stderr",
          "output_type": "stream",
          "text": [
            " 21%|██▏       | 2141/10000 [1:00:41<3:43:33,  1.71s/ episodes]"
          ]
        },
        {
          "name": "stdout",
          "output_type": "stream",
          "text": [
            "Episode 2140 - Avg. Reward over the last 10 episodes 602.8 epsilon 0.02 steps 201.7 total steps 405870\n"
          ]
        },
        {
          "name": "stderr",
          "output_type": "stream",
          "text": [
            " 22%|██▏       | 2151/10000 [1:00:57<2:45:07,  1.26s/ episodes]"
          ]
        },
        {
          "name": "stdout",
          "output_type": "stream",
          "text": [
            "Episode 2150 - Avg. Reward over the last 10 episodes 549.8 epsilon 0.02 steps 184.0 total steps 407710\n"
          ]
        },
        {
          "name": "stderr",
          "output_type": "stream",
          "text": [
            " 22%|██▏       | 2161/10000 [1:01:13<2:58:35,  1.37s/ episodes]"
          ]
        },
        {
          "name": "stdout",
          "output_type": "stream",
          "text": [
            "Episode 2160 - Avg. Reward over the last 10 episodes 684.6 epsilon 0.02 steps 197.7 total steps 409687\n"
          ]
        },
        {
          "name": "stderr",
          "output_type": "stream",
          "text": [
            " 22%|██▏       | 2171/10000 [1:01:51<7:51:36,  3.61s/ episodes] "
          ]
        },
        {
          "name": "stdout",
          "output_type": "stream",
          "text": [
            "Episode 2170 - Avg. Reward over the last 10 episodes 657.0 epsilon 0.02 steps 443.3 total steps 414120\n"
          ]
        },
        {
          "name": "stderr",
          "output_type": "stream",
          "text": [
            " 22%|██▏       | 2181/10000 [1:02:09<8:41:27,  4.00s/ episodes]"
          ]
        },
        {
          "name": "stdout",
          "output_type": "stream",
          "text": [
            "Episode 2180 - Avg. Reward over the last 10 episodes 429.9 epsilon 0.02 steps 194.0 total steps 416060\n"
          ]
        },
        {
          "name": "stderr",
          "output_type": "stream",
          "text": [
            " 22%|██▏       | 2191/10000 [1:02:22<2:30:45,  1.16s/ episodes]"
          ]
        },
        {
          "name": "stdout",
          "output_type": "stream",
          "text": [
            "Episode 2190 - Avg. Reward over the last 10 episodes 632.3 epsilon 0.02 steps 147.9 total steps 417539\n"
          ]
        },
        {
          "name": "stderr",
          "output_type": "stream",
          "text": [
            " 22%|██▏       | 2201/10000 [1:02:49<6:53:46,  3.18s/ episodes]"
          ]
        },
        {
          "name": "stdout",
          "output_type": "stream",
          "text": [
            "Episode 2200 - Avg. Reward over the last 10 episodes 648.0 epsilon 0.02 steps 289.8 total steps 420437\n"
          ]
        },
        {
          "name": "stderr",
          "output_type": "stream",
          "text": [
            " 22%|██▏       | 2211/10000 [1:03:08<4:18:09,  1.99s/ episodes]"
          ]
        },
        {
          "name": "stdout",
          "output_type": "stream",
          "text": [
            "Episode 2210 - Avg. Reward over the last 10 episodes 640.1 epsilon 0.02 steps 209.4 total steps 422531\n"
          ]
        },
        {
          "name": "stderr",
          "output_type": "stream",
          "text": [
            " 22%|██▏       | 2221/10000 [1:03:28<4:17:23,  1.99s/ episodes]"
          ]
        },
        {
          "name": "stdout",
          "output_type": "stream",
          "text": [
            "Episode 2220 - Avg. Reward over the last 10 episodes 702.4 epsilon 0.02 steps 215.5 total steps 424686\n"
          ]
        },
        {
          "name": "stderr",
          "output_type": "stream",
          "text": [
            " 22%|██▏       | 2231/10000 [1:03:35<1:29:50,  1.44 episodes/s]"
          ]
        },
        {
          "name": "stdout",
          "output_type": "stream",
          "text": [
            "Episode 2230 - Avg. Reward over the last 10 episodes 423.6 epsilon 0.02 steps 83.6 total steps 425522\n"
          ]
        },
        {
          "name": "stderr",
          "output_type": "stream",
          "text": [
            " 22%|██▏       | 2241/10000 [1:03:53<3:50:24,  1.78s/ episodes]"
          ]
        },
        {
          "name": "stdout",
          "output_type": "stream",
          "text": [
            "Episode 2240 - Avg. Reward over the last 10 episodes 658.8 epsilon 0.02 steps 187.9 total steps 427401\n"
          ]
        },
        {
          "name": "stderr",
          "output_type": "stream",
          "text": [
            " 23%|██▎       | 2251/10000 [1:04:04<2:05:35,  1.03 episodes/s]"
          ]
        },
        {
          "name": "stdout",
          "output_type": "stream",
          "text": [
            "Episode 2250 - Avg. Reward over the last 10 episodes 522.6 epsilon 0.02 steps 124.9 total steps 428650\n"
          ]
        },
        {
          "name": "stderr",
          "output_type": "stream",
          "text": [
            " 23%|██▎       | 2261/10000 [1:04:20<4:21:04,  2.02s/ episodes]"
          ]
        },
        {
          "name": "stdout",
          "output_type": "stream",
          "text": [
            "Episode 2260 - Avg. Reward over the last 10 episodes 663.0 epsilon 0.02 steps 170.6 total steps 430356\n"
          ]
        },
        {
          "name": "stderr",
          "output_type": "stream",
          "text": [
            " 23%|██▎       | 2271/10000 [1:04:36<4:59:56,  2.33s/ episodes]"
          ]
        },
        {
          "name": "stdout",
          "output_type": "stream",
          "text": [
            "Episode 2270 - Avg. Reward over the last 10 episodes 585.7 epsilon 0.02 steps 186.7 total steps 432223\n"
          ]
        },
        {
          "name": "stderr",
          "output_type": "stream",
          "text": [
            " 23%|██▎       | 2281/10000 [1:04:53<4:01:05,  1.87s/ episodes]"
          ]
        },
        {
          "name": "stdout",
          "output_type": "stream",
          "text": [
            "Episode 2280 - Avg. Reward over the last 10 episodes 595.3 epsilon 0.02 steps 186.6 total steps 434089\n"
          ]
        },
        {
          "name": "stderr",
          "output_type": "stream",
          "text": [
            " 23%|██▎       | 2291/10000 [1:05:03<1:50:30,  1.16 episodes/s]"
          ]
        },
        {
          "name": "stdout",
          "output_type": "stream",
          "text": [
            "Episode 2290 - Avg. Reward over the last 10 episodes 352.9 epsilon 0.02 steps 109.0 total steps 435179\n"
          ]
        },
        {
          "name": "stderr",
          "output_type": "stream",
          "text": [
            " 23%|██▎       | 2301/10000 [1:05:28<6:49:27,  3.19s/ episodes]"
          ]
        },
        {
          "name": "stdout",
          "output_type": "stream",
          "text": [
            "Episode 2300 - Avg. Reward over the last 10 episodes 588.3 epsilon 0.02 steps 258.4 total steps 437763\n"
          ]
        },
        {
          "name": "stderr",
          "output_type": "stream",
          "text": [
            " 23%|██▎       | 2311/10000 [1:06:02<7:20:34,  3.44s/ episodes] "
          ]
        },
        {
          "name": "stdout",
          "output_type": "stream",
          "text": [
            "Episode 2310 - Avg. Reward over the last 10 episodes 724.6 epsilon 0.02 steps 376.3 total steps 441526\n"
          ]
        },
        {
          "name": "stderr",
          "output_type": "stream",
          "text": [
            " 23%|██▎       | 2321/10000 [1:06:20<4:06:36,  1.93s/ episodes]"
          ]
        },
        {
          "name": "stdout",
          "output_type": "stream",
          "text": [
            "Episode 2320 - Avg. Reward over the last 10 episodes 649.5 epsilon 0.02 steps 192.6 total steps 443452\n"
          ]
        },
        {
          "name": "stderr",
          "output_type": "stream",
          "text": [
            " 23%|██▎       | 2331/10000 [1:06:38<3:53:19,  1.83s/ episodes]"
          ]
        },
        {
          "name": "stdout",
          "output_type": "stream",
          "text": [
            "Episode 2330 - Avg. Reward over the last 10 episodes 702.6 epsilon 0.02 steps 193.5 total steps 445387\n"
          ]
        },
        {
          "name": "stderr",
          "output_type": "stream",
          "text": [
            " 23%|██▎       | 2341/10000 [1:07:04<4:38:22,  2.18s/ episodes]"
          ]
        },
        {
          "name": "stdout",
          "output_type": "stream",
          "text": [
            "Episode 2340 - Avg. Reward over the last 10 episodes 666.4 epsilon 0.02 steps 282.5 total steps 448212\n"
          ]
        },
        {
          "name": "stderr",
          "output_type": "stream",
          "text": [
            " 24%|██▎       | 2351/10000 [1:07:18<3:16:27,  1.54s/ episodes]"
          ]
        },
        {
          "name": "stdout",
          "output_type": "stream",
          "text": [
            "Episode 2350 - Avg. Reward over the last 10 episodes 718.4 epsilon 0.02 steps 153.6 total steps 449748\n"
          ]
        },
        {
          "name": "stderr",
          "output_type": "stream",
          "text": [
            " 24%|██▎       | 2361/10000 [1:07:39<5:46:44,  2.72s/ episodes]"
          ]
        },
        {
          "name": "stdout",
          "output_type": "stream",
          "text": [
            "Episode 2360 - Avg. Reward over the last 10 episodes 751.4 epsilon 0.02 steps 252.8 total steps 452276\n"
          ]
        },
        {
          "name": "stderr",
          "output_type": "stream",
          "text": [
            " 24%|██▎       | 2371/10000 [1:07:51<2:23:16,  1.13s/ episodes]"
          ]
        },
        {
          "name": "stdout",
          "output_type": "stream",
          "text": [
            "Episode 2370 - Avg. Reward over the last 10 episodes 587.0 epsilon 0.02 steps 137.9 total steps 453655\n"
          ]
        },
        {
          "name": "stderr",
          "output_type": "stream",
          "text": [
            " 24%|██▍       | 2381/10000 [1:08:06<3:07:49,  1.48s/ episodes]"
          ]
        },
        {
          "name": "stdout",
          "output_type": "stream",
          "text": [
            "Episode 2380 - Avg. Reward over the last 10 episodes 709.9 epsilon 0.02 steps 193.0 total steps 455585\n"
          ]
        },
        {
          "name": "stderr",
          "output_type": "stream",
          "text": [
            " 24%|██▍       | 2391/10000 [1:08:20<3:43:49,  1.76s/ episodes]"
          ]
        },
        {
          "name": "stdout",
          "output_type": "stream",
          "text": [
            "Episode 2390 - Avg. Reward over the last 10 episodes 647.4 epsilon 0.02 steps 156.3 total steps 457148\n"
          ]
        },
        {
          "name": "stderr",
          "output_type": "stream",
          "text": [
            " 24%|██▍       | 2401/10000 [1:08:30<2:36:29,  1.24s/ episodes]"
          ]
        },
        {
          "name": "stdout",
          "output_type": "stream",
          "text": [
            "Episode 2400 - Avg. Reward over the last 10 episodes 512.2 epsilon 0.02 steps 126.8 total steps 458416\n"
          ]
        },
        {
          "name": "stderr",
          "output_type": "stream",
          "text": [
            " 24%|██▍       | 2411/10000 [1:08:52<4:22:06,  2.07s/ episodes]"
          ]
        },
        {
          "name": "stdout",
          "output_type": "stream",
          "text": [
            "Episode 2410 - Avg. Reward over the last 10 episodes 592.8 epsilon 0.02 steps 257.5 total steps 460991\n"
          ]
        },
        {
          "name": "stderr",
          "output_type": "stream",
          "text": [
            " 24%|██▍       | 2421/10000 [1:09:15<3:06:43,  1.48s/ episodes]"
          ]
        },
        {
          "name": "stdout",
          "output_type": "stream",
          "text": [
            "Episode 2420 - Avg. Reward over the last 10 episodes 860.0 epsilon 0.02 steps 276.1 total steps 463752\n"
          ]
        },
        {
          "name": "stderr",
          "output_type": "stream",
          "text": [
            " 24%|██▍       | 2431/10000 [1:09:25<1:52:33,  1.12 episodes/s]"
          ]
        },
        {
          "name": "stdout",
          "output_type": "stream",
          "text": [
            "Episode 2430 - Avg. Reward over the last 10 episodes 534.8 epsilon 0.02 steps 117.8 total steps 464930\n"
          ]
        },
        {
          "name": "stderr",
          "output_type": "stream",
          "text": [
            " 24%|██▍       | 2441/10000 [1:09:40<3:54:01,  1.86s/ episodes]"
          ]
        },
        {
          "name": "stdout",
          "output_type": "stream",
          "text": [
            "Episode 2440 - Avg. Reward over the last 10 episodes 586.1 epsilon 0.02 steps 176.9 total steps 466699\n"
          ]
        },
        {
          "name": "stderr",
          "output_type": "stream",
          "text": [
            " 25%|██▍       | 2451/10000 [1:09:52<2:15:46,  1.08s/ episodes]"
          ]
        },
        {
          "name": "stdout",
          "output_type": "stream",
          "text": [
            "Episode 2450 - Avg. Reward over the last 10 episodes 556.7 epsilon 0.02 steps 135.8 total steps 468057\n"
          ]
        },
        {
          "name": "stderr",
          "output_type": "stream",
          "text": [
            " 25%|██▍       | 2461/10000 [1:10:00<1:56:44,  1.08 episodes/s]"
          ]
        },
        {
          "name": "stdout",
          "output_type": "stream",
          "text": [
            "Episode 2460 - Avg. Reward over the last 10 episodes 393.6 epsilon 0.02 steps 100.6 total steps 469063\n"
          ]
        },
        {
          "name": "stderr",
          "output_type": "stream",
          "text": [
            " 25%|██▍       | 2471/10000 [1:10:11<2:26:41,  1.17s/ episodes]"
          ]
        },
        {
          "name": "stdout",
          "output_type": "stream",
          "text": [
            "Episode 2470 - Avg. Reward over the last 10 episodes 562.0 epsilon 0.02 steps 133.7 total steps 470400\n"
          ]
        },
        {
          "name": "stderr",
          "output_type": "stream",
          "text": [
            " 25%|██▍       | 2481/10000 [1:10:27<3:24:32,  1.63s/ episodes]"
          ]
        },
        {
          "name": "stdout",
          "output_type": "stream",
          "text": [
            "Episode 2480 - Avg. Reward over the last 10 episodes 676.6 epsilon 0.02 steps 184.1 total steps 472241\n"
          ]
        },
        {
          "name": "stderr",
          "output_type": "stream",
          "text": [
            " 25%|██▍       | 2491/10000 [1:10:41<2:46:07,  1.33s/ episodes]"
          ]
        },
        {
          "name": "stdout",
          "output_type": "stream",
          "text": [
            "Episode 2490 - Avg. Reward over the last 10 episodes 677.5 epsilon 0.02 steps 172.2 total steps 473963\n"
          ]
        },
        {
          "name": "stderr",
          "output_type": "stream",
          "text": [
            " 25%|██▌       | 2501/10000 [1:10:53<1:58:42,  1.05 episodes/s]"
          ]
        },
        {
          "name": "stdout",
          "output_type": "stream",
          "text": [
            "Episode 2500 - Avg. Reward over the last 10 episodes 440.5 epsilon 0.02 steps 128.3 total steps 475246\n"
          ]
        },
        {
          "name": "stderr",
          "output_type": "stream",
          "text": [
            " 25%|██▌       | 2511/10000 [1:11:09<5:03:02,  2.43s/ episodes]"
          ]
        },
        {
          "name": "stdout",
          "output_type": "stream",
          "text": [
            "Episode 2510 - Avg. Reward over the last 10 episodes 739.8 epsilon 0.02 steps 203.9 total steps 477285\n"
          ]
        },
        {
          "name": "stderr",
          "output_type": "stream",
          "text": [
            " 25%|██▌       | 2521/10000 [1:11:22<2:02:00,  1.02 episodes/s]"
          ]
        },
        {
          "name": "stdout",
          "output_type": "stream",
          "text": [
            "Episode 2520 - Avg. Reward over the last 10 episodes 617.4 epsilon 0.02 steps 157.5 total steps 478860\n"
          ]
        },
        {
          "name": "stderr",
          "output_type": "stream",
          "text": [
            " 25%|██▌       | 2531/10000 [1:11:37<3:02:45,  1.47s/ episodes]"
          ]
        },
        {
          "name": "stdout",
          "output_type": "stream",
          "text": [
            "Episode 2530 - Avg. Reward over the last 10 episodes 594.3 epsilon 0.02 steps 173.0 total steps 480590\n"
          ]
        },
        {
          "name": "stderr",
          "output_type": "stream",
          "text": [
            " 25%|██▌       | 2541/10000 [1:11:49<3:34:15,  1.72s/ episodes]"
          ]
        },
        {
          "name": "stdout",
          "output_type": "stream",
          "text": [
            "Episode 2540 - Avg. Reward over the last 10 episodes 446.8 epsilon 0.02 steps 148.3 total steps 482073\n"
          ]
        },
        {
          "name": "stderr",
          "output_type": "stream",
          "text": [
            " 26%|██▌       | 2551/10000 [1:12:02<3:11:54,  1.55s/ episodes]"
          ]
        },
        {
          "name": "stdout",
          "output_type": "stream",
          "text": [
            "Episode 2550 - Avg. Reward over the last 10 episodes 495.7 epsilon 0.02 steps 154.8 total steps 483621\n"
          ]
        },
        {
          "name": "stderr",
          "output_type": "stream",
          "text": [
            " 26%|██▌       | 2561/10000 [1:12:14<2:13:16,  1.07s/ episodes]"
          ]
        },
        {
          "name": "stdout",
          "output_type": "stream",
          "text": [
            "Episode 2560 - Avg. Reward over the last 10 episodes 592.2 epsilon 0.02 steps 141.7 total steps 485038\n"
          ]
        },
        {
          "name": "stderr",
          "output_type": "stream",
          "text": [
            " 26%|██▌       | 2571/10000 [1:12:31<5:38:47,  2.74s/ episodes]"
          ]
        },
        {
          "name": "stdout",
          "output_type": "stream",
          "text": [
            "Episode 2570 - Avg. Reward over the last 10 episodes 676.3 epsilon 0.02 steps 206.0 total steps 487098\n"
          ]
        },
        {
          "name": "stderr",
          "output_type": "stream",
          "text": [
            " 26%|██▌       | 2581/10000 [1:12:43<2:13:53,  1.08s/ episodes]"
          ]
        },
        {
          "name": "stdout",
          "output_type": "stream",
          "text": [
            "Episode 2580 - Avg. Reward over the last 10 episodes 712.0 epsilon 0.02 steps 138.5 total steps 488483\n"
          ]
        },
        {
          "name": "stderr",
          "output_type": "stream",
          "text": [
            " 26%|██▌       | 2591/10000 [1:13:07<4:40:29,  2.27s/ episodes]"
          ]
        },
        {
          "name": "stdout",
          "output_type": "stream",
          "text": [
            "Episode 2590 - Avg. Reward over the last 10 episodes 948.0 epsilon 0.02 steps 291.3 total steps 491396\n"
          ]
        },
        {
          "name": "stderr",
          "output_type": "stream",
          "text": [
            " 26%|██▌       | 2601/10000 [1:13:26<3:37:56,  1.77s/ episodes]"
          ]
        },
        {
          "name": "stdout",
          "output_type": "stream",
          "text": [
            "Episode 2600 - Avg. Reward over the last 10 episodes 753.8 epsilon 0.02 steps 216.0 total steps 493556\n"
          ]
        },
        {
          "name": "stderr",
          "output_type": "stream",
          "text": [
            " 26%|██▌       | 2611/10000 [1:13:46<3:07:07,  1.52s/ episodes]"
          ]
        },
        {
          "name": "stdout",
          "output_type": "stream",
          "text": [
            "Episode 2610 - Avg. Reward over the last 10 episodes 684.8 epsilon 0.02 steps 245.3 total steps 496009\n"
          ]
        },
        {
          "name": "stderr",
          "output_type": "stream",
          "text": [
            " 26%|██▌       | 2621/10000 [1:14:04<4:02:43,  1.97s/ episodes]"
          ]
        },
        {
          "name": "stdout",
          "output_type": "stream",
          "text": [
            "Episode 2620 - Avg. Reward over the last 10 episodes 719.2 epsilon 0.02 steps 199.6 total steps 498005\n"
          ]
        },
        {
          "name": "stderr",
          "output_type": "stream",
          "text": [
            " 26%|██▋       | 2631/10000 [1:14:18<1:58:02,  1.04 episodes/s]"
          ]
        },
        {
          "name": "stdout",
          "output_type": "stream",
          "text": [
            "Episode 2630 - Avg. Reward over the last 10 episodes 634.9 epsilon 0.02 steps 150.9 total steps 499514\n"
          ]
        },
        {
          "name": "stderr",
          "output_type": "stream",
          "text": [
            " 26%|██▋       | 2641/10000 [1:14:36<3:23:41,  1.66s/ episodes]"
          ]
        },
        {
          "name": "stdout",
          "output_type": "stream",
          "text": [
            "Episode 2640 - Avg. Reward over the last 10 episodes 885.7 epsilon 0.02 steps 199.3 total steps 501507\n"
          ]
        },
        {
          "name": "stderr",
          "output_type": "stream",
          "text": [
            " 27%|██▋       | 2651/10000 [1:14:51<2:42:42,  1.33s/ episodes]"
          ]
        },
        {
          "name": "stdout",
          "output_type": "stream",
          "text": [
            "Episode 2650 - Avg. Reward over the last 10 episodes 700.2 epsilon 0.02 steps 159.7 total steps 503104\n"
          ]
        },
        {
          "name": "stderr",
          "output_type": "stream",
          "text": [
            " 27%|██▋       | 2661/10000 [1:15:09<3:59:32,  1.96s/ episodes]"
          ]
        },
        {
          "name": "stdout",
          "output_type": "stream",
          "text": [
            "Episode 2660 - Avg. Reward over the last 10 episodes 917.0 epsilon 0.02 steps 196.2 total steps 505066\n"
          ]
        },
        {
          "name": "stderr",
          "output_type": "stream",
          "text": [
            " 27%|██▋       | 2671/10000 [1:15:27<4:23:29,  2.16s/ episodes]"
          ]
        },
        {
          "name": "stdout",
          "output_type": "stream",
          "text": [
            "Episode 2670 - Avg. Reward over the last 10 episodes 785.1 epsilon 0.02 steps 189.3 total steps 506959\n"
          ]
        },
        {
          "name": "stderr",
          "output_type": "stream",
          "text": [
            " 27%|██▋       | 2681/10000 [1:15:36<1:27:00,  1.40 episodes/s]"
          ]
        },
        {
          "name": "stdout",
          "output_type": "stream",
          "text": [
            "Episode 2680 - Avg. Reward over the last 10 episodes 432.9 epsilon 0.02 steps 93.5 total steps 507894\n"
          ]
        },
        {
          "name": "stderr",
          "output_type": "stream",
          "text": [
            " 27%|██▋       | 2691/10000 [1:15:52<2:42:49,  1.34s/ episodes]"
          ]
        },
        {
          "name": "stdout",
          "output_type": "stream",
          "text": [
            "Episode 2690 - Avg. Reward over the last 10 episodes 794.2 epsilon 0.02 steps 172.5 total steps 509619\n"
          ]
        },
        {
          "name": "stderr",
          "output_type": "stream",
          "text": [
            " 27%|██▋       | 2701/10000 [1:16:03<1:17:32,  1.57 episodes/s]"
          ]
        },
        {
          "name": "stdout",
          "output_type": "stream",
          "text": [
            "Episode 2700 - Avg. Reward over the last 10 episodes 480.2 epsilon 0.02 steps 106.5 total steps 510684\n"
          ]
        },
        {
          "name": "stderr",
          "output_type": "stream",
          "text": [
            " 27%|██▋       | 2711/10000 [1:16:20<3:14:41,  1.60s/ episodes]"
          ]
        },
        {
          "name": "stdout",
          "output_type": "stream",
          "text": [
            "Episode 2710 - Avg. Reward over the last 10 episodes 730.6 epsilon 0.02 steps 184.7 total steps 512531\n"
          ]
        },
        {
          "name": "stderr",
          "output_type": "stream",
          "text": [
            " 27%|██▋       | 2721/10000 [1:16:32<2:22:59,  1.18s/ episodes]"
          ]
        },
        {
          "name": "stdout",
          "output_type": "stream",
          "text": [
            "Episode 2720 - Avg. Reward over the last 10 episodes 589.2 epsilon 0.02 steps 132.8 total steps 513859\n"
          ]
        },
        {
          "name": "stderr",
          "output_type": "stream",
          "text": [
            " 27%|██▋       | 2731/10000 [1:16:40<1:34:07,  1.29 episodes/s]"
          ]
        },
        {
          "name": "stdout",
          "output_type": "stream",
          "text": [
            "Episode 2730 - Avg. Reward over the last 10 episodes 423.2 epsilon 0.02 steps 81.5 total steps 514674\n"
          ]
        },
        {
          "name": "stderr",
          "output_type": "stream",
          "text": [
            " 27%|██▋       | 2741/10000 [1:16:56<4:47:23,  2.38s/ episodes]"
          ]
        },
        {
          "name": "stdout",
          "output_type": "stream",
          "text": [
            "Episode 2740 - Avg. Reward over the last 10 episodes 625.2 epsilon 0.02 steps 180.2 total steps 516476\n"
          ]
        },
        {
          "name": "stderr",
          "output_type": "stream",
          "text": [
            " 28%|██▊       | 2751/10000 [1:17:12<3:11:18,  1.58s/ episodes]"
          ]
        },
        {
          "name": "stdout",
          "output_type": "stream",
          "text": [
            "Episode 2750 - Avg. Reward over the last 10 episodes 607.6 epsilon 0.02 steps 167.2 total steps 518148\n"
          ]
        },
        {
          "name": "stderr",
          "output_type": "stream",
          "text": [
            " 28%|██▊       | 2761/10000 [1:17:26<2:28:12,  1.23s/ episodes]"
          ]
        },
        {
          "name": "stdout",
          "output_type": "stream",
          "text": [
            "Episode 2760 - Avg. Reward over the last 10 episodes 546.5 epsilon 0.02 steps 151.4 total steps 519662\n"
          ]
        },
        {
          "name": "stderr",
          "output_type": "stream",
          "text": [
            " 28%|██▊       | 2771/10000 [1:17:54<5:47:39,  2.89s/ episodes]"
          ]
        },
        {
          "name": "stdout",
          "output_type": "stream",
          "text": [
            "Episode 2770 - Avg. Reward over the last 10 episodes 798.6 epsilon 0.02 steps 297.1 total steps 522633\n"
          ]
        },
        {
          "name": "stderr",
          "output_type": "stream",
          "text": [
            " 28%|██▊       | 2781/10000 [1:18:26<6:42:39,  3.35s/ episodes]"
          ]
        },
        {
          "name": "stdout",
          "output_type": "stream",
          "text": [
            "Episode 2780 - Avg. Reward over the last 10 episodes 873.9 epsilon 0.02 steps 338.1 total steps 526014\n"
          ]
        },
        {
          "name": "stderr",
          "output_type": "stream",
          "text": [
            " 28%|██▊       | 2791/10000 [1:18:44<3:32:44,  1.77s/ episodes]"
          ]
        },
        {
          "name": "stdout",
          "output_type": "stream",
          "text": [
            "Episode 2790 - Avg. Reward over the last 10 episodes 585.9 epsilon 0.02 steps 189.6 total steps 527910\n"
          ]
        },
        {
          "name": "stderr",
          "output_type": "stream",
          "text": [
            " 28%|██▊       | 2801/10000 [1:19:04<2:04:36,  1.04s/ episodes]"
          ]
        },
        {
          "name": "stdout",
          "output_type": "stream",
          "text": [
            "Episode 2800 - Avg. Reward over the last 10 episodes 791.8 epsilon 0.02 steps 219.1 total steps 530101\n"
          ]
        },
        {
          "name": "stderr",
          "output_type": "stream",
          "text": [
            " 28%|██▊       | 2811/10000 [1:19:34<5:22:37,  2.69s/ episodes]"
          ]
        },
        {
          "name": "stdout",
          "output_type": "stream",
          "text": [
            "Episode 2810 - Avg. Reward over the last 10 episodes 811.2 epsilon 0.02 steps 342.9 total steps 533530\n"
          ]
        },
        {
          "name": "stderr",
          "output_type": "stream",
          "text": [
            " 28%|██▊       | 2821/10000 [1:19:47<2:11:56,  1.10s/ episodes]"
          ]
        },
        {
          "name": "stdout",
          "output_type": "stream",
          "text": [
            "Episode 2820 - Avg. Reward over the last 10 episodes 588.3 epsilon 0.02 steps 155.6 total steps 535086\n"
          ]
        },
        {
          "name": "stderr",
          "output_type": "stream",
          "text": [
            " 28%|██▊       | 2831/10000 [1:20:01<2:01:51,  1.02s/ episodes]"
          ]
        },
        {
          "name": "stdout",
          "output_type": "stream",
          "text": [
            "Episode 2830 - Avg. Reward over the last 10 episodes 669.6 epsilon 0.02 steps 163.6 total steps 536722\n"
          ]
        },
        {
          "name": "stderr",
          "output_type": "stream",
          "text": [
            " 28%|██▊       | 2841/10000 [1:20:25<8:08:05,  4.09s/ episodes]"
          ]
        },
        {
          "name": "stdout",
          "output_type": "stream",
          "text": [
            "Episode 2840 - Avg. Reward over the last 10 episodes 795.1 epsilon 0.02 steps 284.1 total steps 539563\n"
          ]
        },
        {
          "name": "stderr",
          "output_type": "stream",
          "text": [
            " 29%|██▊       | 2851/10000 [1:20:44<3:13:04,  1.62s/ episodes]"
          ]
        },
        {
          "name": "stdout",
          "output_type": "stream",
          "text": [
            "Episode 2850 - Avg. Reward over the last 10 episodes 798.4 epsilon 0.02 steps 230.5 total steps 541868\n"
          ]
        },
        {
          "name": "stderr",
          "output_type": "stream",
          "text": [
            " 29%|██▊       | 2861/10000 [1:21:10<6:03:03,  3.05s/ episodes]"
          ]
        },
        {
          "name": "stdout",
          "output_type": "stream",
          "text": [
            "Episode 2860 - Avg. Reward over the last 10 episodes 909.8 epsilon 0.02 steps 310.3 total steps 544971\n"
          ]
        },
        {
          "name": "stderr",
          "output_type": "stream",
          "text": [
            " 29%|██▊       | 2871/10000 [1:21:27<1:46:26,  1.12 episodes/s]"
          ]
        },
        {
          "name": "stdout",
          "output_type": "stream",
          "text": [
            "Episode 2870 - Avg. Reward over the last 10 episodes 587.7 epsilon 0.02 steps 203.5 total steps 547006\n"
          ]
        },
        {
          "name": "stderr",
          "output_type": "stream",
          "text": [
            " 29%|██▉       | 2881/10000 [1:21:45<4:11:18,  2.12s/ episodes]"
          ]
        },
        {
          "name": "stdout",
          "output_type": "stream",
          "text": [
            "Episode 2880 - Avg. Reward over the last 10 episodes 742.9 epsilon 0.02 steps 205.0 total steps 549056\n"
          ]
        },
        {
          "name": "stderr",
          "output_type": "stream",
          "text": [
            " 29%|██▉       | 2891/10000 [1:22:00<2:44:58,  1.39s/ episodes]"
          ]
        },
        {
          "name": "stdout",
          "output_type": "stream",
          "text": [
            "Episode 2890 - Avg. Reward over the last 10 episodes 750.5 epsilon 0.02 steps 175.0 total steps 550806\n"
          ]
        },
        {
          "name": "stderr",
          "output_type": "stream",
          "text": [
            " 29%|██▉       | 2901/10000 [1:22:24<4:10:56,  2.12s/ episodes]"
          ]
        },
        {
          "name": "stdout",
          "output_type": "stream",
          "text": [
            "Episode 2900 - Avg. Reward over the last 10 episodes 967.6 epsilon 0.02 steps 282.2 total steps 553628\n"
          ]
        },
        {
          "name": "stderr",
          "output_type": "stream",
          "text": [
            " 29%|██▉       | 2911/10000 [1:22:41<3:17:28,  1.67s/ episodes]"
          ]
        },
        {
          "name": "stdout",
          "output_type": "stream",
          "text": [
            "Episode 2910 - Avg. Reward over the last 10 episodes 723.3 epsilon 0.02 steps 206.4 total steps 555692\n"
          ]
        },
        {
          "name": "stderr",
          "output_type": "stream",
          "text": [
            " 29%|██▉       | 2921/10000 [1:22:57<2:44:58,  1.40s/ episodes]"
          ]
        },
        {
          "name": "stdout",
          "output_type": "stream",
          "text": [
            "Episode 2920 - Avg. Reward over the last 10 episodes 715.5 epsilon 0.02 steps 198.0 total steps 557672\n"
          ]
        },
        {
          "name": "stderr",
          "output_type": "stream",
          "text": [
            " 29%|██▉       | 2931/10000 [1:23:07<1:38:59,  1.19 episodes/s]"
          ]
        },
        {
          "name": "stdout",
          "output_type": "stream",
          "text": [
            "Episode 2930 - Avg. Reward over the last 10 episodes 517.6 epsilon 0.02 steps 107.3 total steps 558745\n"
          ]
        },
        {
          "name": "stderr",
          "output_type": "stream",
          "text": [
            " 29%|██▉       | 2941/10000 [1:23:18<1:42:09,  1.15 episodes/s]"
          ]
        },
        {
          "name": "stdout",
          "output_type": "stream",
          "text": [
            "Episode 2940 - Avg. Reward over the last 10 episodes 561.9 epsilon 0.02 steps 135.5 total steps 560100\n"
          ]
        },
        {
          "name": "stderr",
          "output_type": "stream",
          "text": [
            " 30%|██▉       | 2951/10000 [1:23:29<2:13:42,  1.14s/ episodes]"
          ]
        },
        {
          "name": "stdout",
          "output_type": "stream",
          "text": [
            "Episode 2950 - Avg. Reward over the last 10 episodes 638.3 epsilon 0.02 steps 133.1 total steps 561431\n"
          ]
        },
        {
          "name": "stderr",
          "output_type": "stream",
          "text": [
            " 30%|██▉       | 2961/10000 [1:23:46<2:44:07,  1.40s/ episodes]"
          ]
        },
        {
          "name": "stdout",
          "output_type": "stream",
          "text": [
            "Episode 2960 - Avg. Reward over the last 10 episodes 589.8 epsilon 0.02 steps 198.3 total steps 563414\n"
          ]
        },
        {
          "name": "stderr",
          "output_type": "stream",
          "text": [
            " 30%|██▉       | 2971/10000 [1:23:56<2:07:17,  1.09s/ episodes]"
          ]
        },
        {
          "name": "stdout",
          "output_type": "stream",
          "text": [
            "Episode 2970 - Avg. Reward over the last 10 episodes 536.2 epsilon 0.02 steps 123.2 total steps 564646\n"
          ]
        },
        {
          "name": "stderr",
          "output_type": "stream",
          "text": [
            " 30%|██▉       | 2981/10000 [1:24:12<4:40:26,  2.40s/ episodes]"
          ]
        },
        {
          "name": "stdout",
          "output_type": "stream",
          "text": [
            "Episode 2980 - Avg. Reward over the last 10 episodes 549.3 epsilon 0.02 steps 183.1 total steps 566477\n"
          ]
        },
        {
          "name": "stderr",
          "output_type": "stream",
          "text": [
            " 30%|██▉       | 2991/10000 [1:24:33<4:18:38,  2.21s/ episodes]"
          ]
        },
        {
          "name": "stdout",
          "output_type": "stream",
          "text": [
            "Episode 2990 - Avg. Reward over the last 10 episodes 759.4 epsilon 0.02 steps 251.5 total steps 568992\n"
          ]
        },
        {
          "name": "stderr",
          "output_type": "stream",
          "text": [
            " 30%|███       | 3001/10000 [1:24:51<3:15:52,  1.68s/ episodes]"
          ]
        },
        {
          "name": "stdout",
          "output_type": "stream",
          "text": [
            "Episode 3000 - Avg. Reward over the last 10 episodes 854.9 epsilon 0.02 steps 213.3 total steps 571125\n"
          ]
        },
        {
          "name": "stderr",
          "output_type": "stream",
          "text": [
            " 30%|███       | 3011/10000 [1:25:08<4:20:58,  2.24s/ episodes]"
          ]
        },
        {
          "name": "stdout",
          "output_type": "stream",
          "text": [
            "Episode 3010 - Avg. Reward over the last 10 episodes 897.3 epsilon 0.02 steps 206.5 total steps 573190\n"
          ]
        },
        {
          "name": "stderr",
          "output_type": "stream",
          "text": [
            " 30%|███       | 3021/10000 [1:25:31<4:35:33,  2.37s/ episodes]"
          ]
        },
        {
          "name": "stdout",
          "output_type": "stream",
          "text": [
            "Episode 3020 - Avg. Reward over the last 10 episodes 1088.7 epsilon 0.02 steps 260.4 total steps 575794\n"
          ]
        },
        {
          "name": "stderr",
          "output_type": "stream",
          "text": [
            " 30%|███       | 3031/10000 [1:25:53<4:57:01,  2.56s/ episodes]"
          ]
        },
        {
          "name": "stdout",
          "output_type": "stream",
          "text": [
            "Episode 3030 - Avg. Reward over the last 10 episodes 1076.0 epsilon 0.02 steps 234.6 total steps 578140\n"
          ]
        },
        {
          "name": "stderr",
          "output_type": "stream",
          "text": [
            " 30%|███       | 3041/10000 [1:26:14<3:36:04,  1.86s/ episodes]"
          ]
        },
        {
          "name": "stdout",
          "output_type": "stream",
          "text": [
            "Episode 3040 - Avg. Reward over the last 10 episodes 882.6 epsilon 0.02 steps 218.0 total steps 580320\n"
          ]
        },
        {
          "name": "stderr",
          "output_type": "stream",
          "text": [
            " 31%|███       | 3051/10000 [1:26:29<3:17:31,  1.71s/ episodes]"
          ]
        },
        {
          "name": "stdout",
          "output_type": "stream",
          "text": [
            "Episode 3050 - Avg. Reward over the last 10 episodes 764.3 epsilon 0.02 steps 171.8 total steps 582038\n"
          ]
        },
        {
          "name": "stderr",
          "output_type": "stream",
          "text": [
            " 31%|███       | 3061/10000 [1:26:42<2:09:58,  1.12s/ episodes]"
          ]
        },
        {
          "name": "stdout",
          "output_type": "stream",
          "text": [
            "Episode 3060 - Avg. Reward over the last 10 episodes 612.2 epsilon 0.02 steps 133.6 total steps 583374\n"
          ]
        },
        {
          "name": "stderr",
          "output_type": "stream",
          "text": [
            " 31%|███       | 3071/10000 [1:26:56<2:39:10,  1.38s/ episodes]"
          ]
        },
        {
          "name": "stdout",
          "output_type": "stream",
          "text": [
            "Episode 3070 - Avg. Reward over the last 10 episodes 667.5 epsilon 0.02 steps 139.4 total steps 584768\n"
          ]
        },
        {
          "name": "stderr",
          "output_type": "stream",
          "text": [
            " 31%|███       | 3081/10000 [1:27:13<2:31:32,  1.31s/ episodes]"
          ]
        },
        {
          "name": "stdout",
          "output_type": "stream",
          "text": [
            "Episode 3080 - Avg. Reward over the last 10 episodes 721.2 epsilon 0.02 steps 176.5 total steps 586533\n"
          ]
        },
        {
          "name": "stderr",
          "output_type": "stream",
          "text": [
            " 31%|███       | 3091/10000 [1:27:38<3:26:09,  1.79s/ episodes]"
          ]
        },
        {
          "name": "stdout",
          "output_type": "stream",
          "text": [
            "Episode 3090 - Avg. Reward over the last 10 episodes 833.7 epsilon 0.02 steps 263.4 total steps 589167\n"
          ]
        },
        {
          "name": "stderr",
          "output_type": "stream",
          "text": [
            " 31%|███       | 3101/10000 [1:28:03<4:18:53,  2.25s/ episodes]"
          ]
        },
        {
          "name": "stdout",
          "output_type": "stream",
          "text": [
            "Episode 3100 - Avg. Reward over the last 10 episodes 989.0 epsilon 0.02 steps 261.0 total steps 591777\n"
          ]
        },
        {
          "name": "stderr",
          "output_type": "stream",
          "text": [
            " 31%|███       | 3111/10000 [1:28:23<2:58:44,  1.56s/ episodes]"
          ]
        },
        {
          "name": "stdout",
          "output_type": "stream",
          "text": [
            "Episode 3110 - Avg. Reward over the last 10 episodes 856.0 epsilon 0.02 steps 216.7 total steps 593944\n"
          ]
        },
        {
          "name": "stderr",
          "output_type": "stream",
          "text": [
            " 31%|███       | 3121/10000 [1:28:46<4:39:51,  2.44s/ episodes]"
          ]
        },
        {
          "name": "stdout",
          "output_type": "stream",
          "text": [
            "Episode 3120 - Avg. Reward over the last 10 episodes 988.0 epsilon 0.02 steps 243.9 total steps 596383\n"
          ]
        },
        {
          "name": "stderr",
          "output_type": "stream",
          "text": [
            " 31%|███▏      | 3131/10000 [1:29:12<4:40:57,  2.45s/ episodes]"
          ]
        },
        {
          "name": "stdout",
          "output_type": "stream",
          "text": [
            "Episode 3130 - Avg. Reward over the last 10 episodes 1320.9 epsilon 0.02 steps 291.4 total steps 599297\n"
          ]
        },
        {
          "name": "stderr",
          "output_type": "stream",
          "text": [
            " 31%|███▏      | 3141/10000 [1:29:39<5:20:37,  2.80s/ episodes]"
          ]
        },
        {
          "name": "stdout",
          "output_type": "stream",
          "text": [
            "Episode 3140 - Avg. Reward over the last 10 episodes 1041.0 epsilon 0.02 steps 293.2 total steps 602229\n"
          ]
        },
        {
          "name": "stderr",
          "output_type": "stream",
          "text": [
            " 32%|███▏      | 3151/10000 [1:29:55<3:02:26,  1.60s/ episodes]"
          ]
        },
        {
          "name": "stdout",
          "output_type": "stream",
          "text": [
            "Episode 3150 - Avg. Reward over the last 10 episodes 750.1 epsilon 0.02 steps 166.8 total steps 603897\n"
          ]
        },
        {
          "name": "stderr",
          "output_type": "stream",
          "text": [
            " 32%|███▏      | 3161/10000 [1:30:25<4:29:28,  2.36s/ episodes] "
          ]
        },
        {
          "name": "stdout",
          "output_type": "stream",
          "text": [
            "Episode 3160 - Avg. Reward over the last 10 episodes 852.4 epsilon 0.02 steps 318.1 total steps 607078\n"
          ]
        },
        {
          "name": "stderr",
          "output_type": "stream",
          "text": [
            " 32%|███▏      | 3171/10000 [1:30:47<3:35:01,  1.89s/ episodes]"
          ]
        },
        {
          "name": "stdout",
          "output_type": "stream",
          "text": [
            "Episode 3170 - Avg. Reward over the last 10 episodes 965.6 epsilon 0.02 steps 246.6 total steps 609544\n"
          ]
        },
        {
          "name": "stderr",
          "output_type": "stream",
          "text": [
            " 32%|███▏      | 3181/10000 [1:31:06<4:43:42,  2.50s/ episodes]"
          ]
        },
        {
          "name": "stdout",
          "output_type": "stream",
          "text": [
            "Episode 3180 - Avg. Reward over the last 10 episodes 764.0 epsilon 0.02 steps 222.4 total steps 611768\n"
          ]
        },
        {
          "name": "stderr",
          "output_type": "stream",
          "text": [
            " 32%|███▏      | 3191/10000 [1:31:23<2:32:33,  1.34s/ episodes]"
          ]
        },
        {
          "name": "stdout",
          "output_type": "stream",
          "text": [
            "Episode 3190 - Avg. Reward over the last 10 episodes 730.4 epsilon 0.02 steps 202.8 total steps 613796\n"
          ]
        },
        {
          "name": "stderr",
          "output_type": "stream",
          "text": [
            " 32%|███▏      | 3201/10000 [1:31:41<3:40:21,  1.94s/ episodes]"
          ]
        },
        {
          "name": "stdout",
          "output_type": "stream",
          "text": [
            "Episode 3200 - Avg. Reward over the last 10 episodes 852.5 epsilon 0.02 steps 218.2 total steps 615978\n"
          ]
        },
        {
          "name": "stderr",
          "output_type": "stream",
          "text": [
            " 32%|███▏      | 3211/10000 [1:31:59<3:17:22,  1.74s/ episodes]"
          ]
        },
        {
          "name": "stdout",
          "output_type": "stream",
          "text": [
            "Episode 3210 - Avg. Reward over the last 10 episodes 811.9 epsilon 0.02 steps 217.6 total steps 618154\n"
          ]
        },
        {
          "name": "stderr",
          "output_type": "stream",
          "text": [
            " 32%|███▏      | 3221/10000 [1:32:28<5:44:42,  3.05s/ episodes]"
          ]
        },
        {
          "name": "stdout",
          "output_type": "stream",
          "text": [
            "Episode 3220 - Avg. Reward over the last 10 episodes 1203.4 epsilon 0.02 steps 343.2 total steps 621586\n"
          ]
        },
        {
          "name": "stderr",
          "output_type": "stream",
          "text": [
            " 32%|███▏      | 3231/10000 [1:32:49<4:12:34,  2.24s/ episodes]"
          ]
        },
        {
          "name": "stdout",
          "output_type": "stream",
          "text": [
            "Episode 3230 - Avg. Reward over the last 10 episodes 879.2 epsilon 0.02 steps 244.0 total steps 624026\n"
          ]
        },
        {
          "name": "stderr",
          "output_type": "stream",
          "text": [
            " 32%|███▏      | 3241/10000 [1:33:06<3:14:39,  1.73s/ episodes]"
          ]
        },
        {
          "name": "stdout",
          "output_type": "stream",
          "text": [
            "Episode 3240 - Avg. Reward over the last 10 episodes 875.1 epsilon 0.02 steps 203.5 total steps 626061\n"
          ]
        },
        {
          "name": "stderr",
          "output_type": "stream",
          "text": [
            " 33%|███▎      | 3251/10000 [1:33:28<5:26:14,  2.90s/ episodes]"
          ]
        },
        {
          "name": "stdout",
          "output_type": "stream",
          "text": [
            "Episode 3250 - Avg. Reward over the last 10 episodes 817.8 epsilon 0.02 steps 262.0 total steps 628681\n"
          ]
        },
        {
          "name": "stderr",
          "output_type": "stream",
          "text": [
            " 33%|███▎      | 3261/10000 [1:33:45<2:58:43,  1.59s/ episodes]"
          ]
        },
        {
          "name": "stdout",
          "output_type": "stream",
          "text": [
            "Episode 3260 - Avg. Reward over the last 10 episodes 863.5 epsilon 0.02 steps 198.6 total steps 630667\n"
          ]
        },
        {
          "name": "stderr",
          "output_type": "stream",
          "text": [
            " 33%|███▎      | 3271/10000 [1:34:14<4:02:43,  2.16s/ episodes]"
          ]
        },
        {
          "name": "stdout",
          "output_type": "stream",
          "text": [
            "Episode 3270 - Avg. Reward over the last 10 episodes 968.9 epsilon 0.02 steps 341.9 total steps 634086\n"
          ]
        },
        {
          "name": "stderr",
          "output_type": "stream",
          "text": [
            " 33%|███▎      | 3281/10000 [1:34:39<5:19:30,  2.85s/ episodes]"
          ]
        },
        {
          "name": "stdout",
          "output_type": "stream",
          "text": [
            "Episode 3280 - Avg. Reward over the last 10 episodes 1061.9 epsilon 0.02 steps 305.4 total steps 637140\n"
          ]
        },
        {
          "name": "stderr",
          "output_type": "stream",
          "text": [
            " 33%|███▎      | 3291/10000 [1:35:09<5:02:45,  2.71s/ episodes]"
          ]
        },
        {
          "name": "stdout",
          "output_type": "stream",
          "text": [
            "Episode 3290 - Avg. Reward over the last 10 episodes 1222.2 epsilon 0.02 steps 352.9 total steps 640669\n"
          ]
        },
        {
          "name": "stderr",
          "output_type": "stream",
          "text": [
            " 33%|███▎      | 3301/10000 [1:35:36<4:20:10,  2.33s/ episodes]"
          ]
        },
        {
          "name": "stdout",
          "output_type": "stream",
          "text": [
            "Episode 3300 - Avg. Reward over the last 10 episodes 1164.8 epsilon 0.02 steps 317.7 total steps 643846\n"
          ]
        },
        {
          "name": "stderr",
          "output_type": "stream",
          "text": [
            " 33%|███▎      | 3311/10000 [1:36:10<5:37:51,  3.03s/ episodes]"
          ]
        },
        {
          "name": "stdout",
          "output_type": "stream",
          "text": [
            "Episode 3310 - Avg. Reward over the last 10 episodes 1081.1 epsilon 0.02 steps 403.2 total steps 647878\n"
          ]
        },
        {
          "name": "stderr",
          "output_type": "stream",
          "text": [
            " 33%|███▎      | 3321/10000 [1:36:26<2:32:31,  1.37s/ episodes]"
          ]
        },
        {
          "name": "stdout",
          "output_type": "stream",
          "text": [
            "Episode 3320 - Avg. Reward over the last 10 episodes 844.5 epsilon 0.02 steps 192.2 total steps 649800\n"
          ]
        },
        {
          "name": "stderr",
          "output_type": "stream",
          "text": [
            " 33%|███▎      | 3331/10000 [1:36:41<3:21:21,  1.81s/ episodes]"
          ]
        },
        {
          "name": "stdout",
          "output_type": "stream",
          "text": [
            "Episode 3330 - Avg. Reward over the last 10 episodes 739.1 epsilon 0.02 steps 175.5 total steps 651555\n"
          ]
        },
        {
          "name": "stderr",
          "output_type": "stream",
          "text": [
            " 33%|███▎      | 3341/10000 [1:36:59<3:25:01,  1.85s/ episodes]"
          ]
        },
        {
          "name": "stdout",
          "output_type": "stream",
          "text": [
            "Episode 3340 - Avg. Reward over the last 10 episodes 898.1 epsilon 0.02 steps 208.5 total steps 653640\n"
          ]
        },
        {
          "name": "stderr",
          "output_type": "stream",
          "text": [
            " 34%|███▎      | 3351/10000 [1:37:17<3:32:31,  1.92s/ episodes]"
          ]
        },
        {
          "name": "stdout",
          "output_type": "stream",
          "text": [
            "Episode 3350 - Avg. Reward over the last 10 episodes 878.5 epsilon 0.02 steps 216.2 total steps 655802\n"
          ]
        },
        {
          "name": "stderr",
          "output_type": "stream",
          "text": [
            " 34%|███▎      | 3361/10000 [1:37:33<3:22:37,  1.83s/ episodes]"
          ]
        },
        {
          "name": "stdout",
          "output_type": "stream",
          "text": [
            "Episode 3360 - Avg. Reward over the last 10 episodes 779.7 epsilon 0.02 steps 186.9 total steps 657671\n"
          ]
        },
        {
          "name": "stderr",
          "output_type": "stream",
          "text": [
            " 34%|███▎      | 3371/10000 [1:37:53<3:12:08,  1.74s/ episodes]"
          ]
        },
        {
          "name": "stdout",
          "output_type": "stream",
          "text": [
            "Episode 3370 - Avg. Reward over the last 10 episodes 852.1 epsilon 0.02 steps 247.4 total steps 660145\n"
          ]
        },
        {
          "name": "stderr",
          "output_type": "stream",
          "text": [
            " 34%|███▍      | 3381/10000 [1:38:12<2:42:44,  1.48s/ episodes]"
          ]
        },
        {
          "name": "stdout",
          "output_type": "stream",
          "text": [
            "Episode 3380 - Avg. Reward over the last 10 episodes 701.2 epsilon 0.02 steps 212.6 total steps 662271\n"
          ]
        },
        {
          "name": "stderr",
          "output_type": "stream",
          "text": [
            " 34%|███▍      | 3391/10000 [1:38:30<3:45:56,  2.05s/ episodes]"
          ]
        },
        {
          "name": "stdout",
          "output_type": "stream",
          "text": [
            "Episode 3390 - Avg. Reward over the last 10 episodes 989.8 epsilon 0.02 steps 214.1 total steps 664412\n"
          ]
        },
        {
          "name": "stderr",
          "output_type": "stream",
          "text": [
            " 34%|███▍      | 3401/10000 [1:38:47<3:23:12,  1.85s/ episodes]"
          ]
        },
        {
          "name": "stdout",
          "output_type": "stream",
          "text": [
            "Episode 3400 - Avg. Reward over the last 10 episodes 876.4 epsilon 0.02 steps 211.7 total steps 666529\n"
          ]
        },
        {
          "name": "stderr",
          "output_type": "stream",
          "text": [
            " 34%|███▍      | 3411/10000 [1:39:09<3:23:49,  1.86s/ episodes]"
          ]
        },
        {
          "name": "stdout",
          "output_type": "stream",
          "text": [
            "Episode 3410 - Avg. Reward over the last 10 episodes 979.6 epsilon 0.02 steps 253.7 total steps 669066\n"
          ]
        },
        {
          "name": "stderr",
          "output_type": "stream",
          "text": [
            " 34%|███▍      | 3421/10000 [1:39:31<3:44:29,  2.05s/ episodes]"
          ]
        },
        {
          "name": "stdout",
          "output_type": "stream",
          "text": [
            "Episode 3420 - Avg. Reward over the last 10 episodes 1021.9 epsilon 0.02 steps 263.4 total steps 671700\n"
          ]
        },
        {
          "name": "stderr",
          "output_type": "stream",
          "text": [
            " 34%|███▍      | 3431/10000 [1:39:52<3:51:49,  2.12s/ episodes]"
          ]
        },
        {
          "name": "stdout",
          "output_type": "stream",
          "text": [
            "Episode 3430 - Avg. Reward over the last 10 episodes 1036.1 epsilon 0.02 steps 241.0 total steps 674110\n"
          ]
        },
        {
          "name": "stderr",
          "output_type": "stream",
          "text": [
            " 34%|███▍      | 3441/10000 [1:40:10<3:18:22,  1.81s/ episodes]"
          ]
        },
        {
          "name": "stdout",
          "output_type": "stream",
          "text": [
            "Episode 3440 - Avg. Reward over the last 10 episodes 966.0 epsilon 0.02 steps 215.1 total steps 676261\n"
          ]
        },
        {
          "name": "stderr",
          "output_type": "stream",
          "text": [
            " 35%|███▍      | 3451/10000 [1:40:27<3:12:35,  1.76s/ episodes]"
          ]
        },
        {
          "name": "stdout",
          "output_type": "stream",
          "text": [
            "Episode 3450 - Avg. Reward over the last 10 episodes 765.0 epsilon 0.02 steps 203.7 total steps 678298\n"
          ]
        },
        {
          "name": "stderr",
          "output_type": "stream",
          "text": [
            " 35%|███▍      | 3461/10000 [1:40:42<3:04:54,  1.70s/ episodes]"
          ]
        },
        {
          "name": "stdout",
          "output_type": "stream",
          "text": [
            "Episode 3460 - Avg. Reward over the last 10 episodes 804.2 epsilon 0.02 steps 177.1 total steps 680069\n"
          ]
        },
        {
          "name": "stderr",
          "output_type": "stream",
          "text": [
            " 35%|███▍      | 3471/10000 [1:40:56<3:03:34,  1.69s/ episodes]"
          ]
        },
        {
          "name": "stdout",
          "output_type": "stream",
          "text": [
            "Episode 3470 - Avg. Reward over the last 10 episodes 869.8 epsilon 0.02 steps 171.9 total steps 681788\n"
          ]
        },
        {
          "name": "stderr",
          "output_type": "stream",
          "text": [
            " 35%|███▍      | 3481/10000 [1:41:10<2:33:05,  1.41s/ episodes]"
          ]
        },
        {
          "name": "stdout",
          "output_type": "stream",
          "text": [
            "Episode 3480 - Avg. Reward over the last 10 episodes 874.8 epsilon 0.02 steps 174.8 total steps 683536\n"
          ]
        },
        {
          "name": "stderr",
          "output_type": "stream",
          "text": [
            " 35%|███▍      | 3491/10000 [1:41:28<3:22:42,  1.87s/ episodes]"
          ]
        },
        {
          "name": "stdout",
          "output_type": "stream",
          "text": [
            "Episode 3490 - Avg. Reward over the last 10 episodes 986.3 epsilon 0.02 steps 210.9 total steps 685645\n"
          ]
        },
        {
          "name": "stderr",
          "output_type": "stream",
          "text": [
            " 35%|███▌      | 3501/10000 [1:41:45<2:50:16,  1.57s/ episodes]"
          ]
        },
        {
          "name": "stdout",
          "output_type": "stream",
          "text": [
            "Episode 3500 - Avg. Reward over the last 10 episodes 971.0 epsilon 0.02 steps 200.2 total steps 687647\n"
          ]
        },
        {
          "name": "stderr",
          "output_type": "stream",
          "text": [
            " 35%|███▌      | 3511/10000 [1:42:07<3:59:54,  2.22s/ episodes]"
          ]
        },
        {
          "name": "stdout",
          "output_type": "stream",
          "text": [
            "Episode 3510 - Avg. Reward over the last 10 episodes 945.6 epsilon 0.02 steps 260.6 total steps 690253\n"
          ]
        },
        {
          "name": "stderr",
          "output_type": "stream",
          "text": [
            " 35%|███▌      | 3521/10000 [1:42:24<2:46:03,  1.54s/ episodes]"
          ]
        },
        {
          "name": "stdout",
          "output_type": "stream",
          "text": [
            "Episode 3520 - Avg. Reward over the last 10 episodes 785.3 epsilon 0.02 steps 208.9 total steps 692342\n"
          ]
        },
        {
          "name": "stderr",
          "output_type": "stream",
          "text": [
            " 35%|███▌      | 3531/10000 [1:42:36<2:09:39,  1.20s/ episodes]"
          ]
        },
        {
          "name": "stdout",
          "output_type": "stream",
          "text": [
            "Episode 3530 - Avg. Reward over the last 10 episodes 679.5 epsilon 0.02 steps 146.4 total steps 693806\n"
          ]
        },
        {
          "name": "stderr",
          "output_type": "stream",
          "text": [
            " 35%|███▌      | 3541/10000 [1:42:55<3:15:18,  1.81s/ episodes]"
          ]
        },
        {
          "name": "stdout",
          "output_type": "stream",
          "text": [
            "Episode 3540 - Avg. Reward over the last 10 episodes 885.0 epsilon 0.02 steps 219.5 total steps 696001\n"
          ]
        },
        {
          "name": "stderr",
          "output_type": "stream",
          "text": [
            " 36%|███▌      | 3551/10000 [1:43:08<2:13:56,  1.25s/ episodes]"
          ]
        },
        {
          "name": "stdout",
          "output_type": "stream",
          "text": [
            "Episode 3550 - Avg. Reward over the last 10 episodes 643.1 epsilon 0.02 steps 152.7 total steps 697528\n"
          ]
        },
        {
          "name": "stderr",
          "output_type": "stream",
          "text": [
            " 36%|███▌      | 3561/10000 [1:43:22<2:13:18,  1.24s/ episodes]"
          ]
        },
        {
          "name": "stdout",
          "output_type": "stream",
          "text": [
            "Episode 3560 - Avg. Reward over the last 10 episodes 727.5 epsilon 0.02 steps 168.4 total steps 699212\n"
          ]
        },
        {
          "name": "stderr",
          "output_type": "stream",
          "text": [
            " 36%|███▌      | 3571/10000 [1:43:38<3:10:56,  1.78s/ episodes]"
          ]
        },
        {
          "name": "stdout",
          "output_type": "stream",
          "text": [
            "Episode 3570 - Avg. Reward over the last 10 episodes 639.6 epsilon 0.02 steps 194.4 total steps 701156\n"
          ]
        },
        {
          "name": "stderr",
          "output_type": "stream",
          "text": [
            " 36%|███▌      | 3581/10000 [1:43:54<3:07:17,  1.75s/ episodes]"
          ]
        },
        {
          "name": "stdout",
          "output_type": "stream",
          "text": [
            "Episode 3580 - Avg. Reward over the last 10 episodes 731.9 epsilon 0.02 steps 185.9 total steps 703015\n"
          ]
        },
        {
          "name": "stderr",
          "output_type": "stream",
          "text": [
            " 36%|███▌      | 3591/10000 [1:44:12<2:39:33,  1.49s/ episodes]"
          ]
        },
        {
          "name": "stdout",
          "output_type": "stream",
          "text": [
            "Episode 3590 - Avg. Reward over the last 10 episodes 790.3 epsilon 0.02 steps 213.9 total steps 705154\n"
          ]
        },
        {
          "name": "stderr",
          "output_type": "stream",
          "text": [
            " 36%|███▌      | 3601/10000 [1:44:27<2:55:01,  1.64s/ episodes]"
          ]
        },
        {
          "name": "stdout",
          "output_type": "stream",
          "text": [
            "Episode 3600 - Avg. Reward over the last 10 episodes 705.1 epsilon 0.02 steps 176.1 total steps 706915\n"
          ]
        },
        {
          "name": "stderr",
          "output_type": "stream",
          "text": [
            " 36%|███▌      | 3611/10000 [1:44:56<9:36:28,  5.41s/ episodes]"
          ]
        },
        {
          "name": "stdout",
          "output_type": "stream",
          "text": [
            "Episode 3610 - Avg. Reward over the last 10 episodes 788.2 epsilon 0.02 steps 351.5 total steps 710430\n"
          ]
        },
        {
          "name": "stderr",
          "output_type": "stream",
          "text": [
            " 36%|███▌      | 3621/10000 [1:45:13<3:14:23,  1.83s/ episodes]"
          ]
        },
        {
          "name": "stdout",
          "output_type": "stream",
          "text": [
            "Episode 3620 - Avg. Reward over the last 10 episodes 933.8 epsilon 0.02 steps 196.6 total steps 712396\n"
          ]
        },
        {
          "name": "stderr",
          "output_type": "stream",
          "text": [
            " 36%|███▋      | 3631/10000 [1:45:32<3:26:23,  1.94s/ episodes]"
          ]
        },
        {
          "name": "stdout",
          "output_type": "stream",
          "text": [
            "Episode 3630 - Avg. Reward over the last 10 episodes 798.0 epsilon 0.02 steps 228.8 total steps 714684\n"
          ]
        },
        {
          "name": "stderr",
          "output_type": "stream",
          "text": [
            " 36%|███▋      | 3641/10000 [1:46:08<4:17:23,  2.43s/ episodes]"
          ]
        },
        {
          "name": "stdout",
          "output_type": "stream",
          "text": [
            "Episode 3640 - Avg. Reward over the last 10 episodes 751.0 epsilon 0.02 steps 430.2 total steps 718986\n"
          ]
        },
        {
          "name": "stderr",
          "output_type": "stream",
          "text": [
            " 37%|███▋      | 3651/10000 [1:46:28<3:18:29,  1.88s/ episodes]"
          ]
        },
        {
          "name": "stdout",
          "output_type": "stream",
          "text": [
            "Episode 3650 - Avg. Reward over the last 10 episodes 741.9 epsilon 0.02 steps 236.7 total steps 721353\n"
          ]
        },
        {
          "name": "stderr",
          "output_type": "stream",
          "text": [
            " 37%|███▋      | 3661/10000 [1:46:46<3:35:07,  2.04s/ episodes]"
          ]
        },
        {
          "name": "stdout",
          "output_type": "stream",
          "text": [
            "Episode 3660 - Avg. Reward over the last 10 episodes 730.3 epsilon 0.02 steps 204.6 total steps 723399\n"
          ]
        },
        {
          "name": "stderr",
          "output_type": "stream",
          "text": [
            " 37%|███▋      | 3671/10000 [1:47:04<3:15:18,  1.85s/ episodes]"
          ]
        },
        {
          "name": "stdout",
          "output_type": "stream",
          "text": [
            "Episode 3670 - Avg. Reward over the last 10 episodes 714.8 epsilon 0.02 steps 218.3 total steps 725582\n"
          ]
        },
        {
          "name": "stderr",
          "output_type": "stream",
          "text": [
            " 37%|███▋      | 3681/10000 [1:47:27<3:42:54,  2.12s/ episodes]"
          ]
        },
        {
          "name": "stdout",
          "output_type": "stream",
          "text": [
            "Episode 3680 - Avg. Reward over the last 10 episodes 867.6 epsilon 0.02 steps 278.2 total steps 728364\n"
          ]
        },
        {
          "name": "stderr",
          "output_type": "stream",
          "text": [
            " 37%|███▋      | 3691/10000 [1:47:43<3:24:53,  1.95s/ episodes]"
          ]
        },
        {
          "name": "stdout",
          "output_type": "stream",
          "text": [
            "Episode 3690 - Avg. Reward over the last 10 episodes 775.8 epsilon 0.02 steps 182.2 total steps 730186\n"
          ]
        },
        {
          "name": "stderr",
          "output_type": "stream",
          "text": [
            " 37%|███▋      | 3701/10000 [1:48:00<2:33:09,  1.46s/ episodes]"
          ]
        },
        {
          "name": "stdout",
          "output_type": "stream",
          "text": [
            "Episode 3700 - Avg. Reward over the last 10 episodes 833.9 epsilon 0.02 steps 210.4 total steps 732290\n"
          ]
        },
        {
          "name": "stderr",
          "output_type": "stream",
          "text": [
            " 37%|███▋      | 3711/10000 [1:48:15<2:47:52,  1.60s/ episodes]"
          ]
        },
        {
          "name": "stdout",
          "output_type": "stream",
          "text": [
            "Episode 3710 - Avg. Reward over the last 10 episodes 757.6 epsilon 0.02 steps 176.4 total steps 734054\n"
          ]
        },
        {
          "name": "stderr",
          "output_type": "stream",
          "text": [
            " 37%|███▋      | 3721/10000 [1:48:29<2:19:21,  1.33s/ episodes]"
          ]
        },
        {
          "name": "stdout",
          "output_type": "stream",
          "text": [
            "Episode 3720 - Avg. Reward over the last 10 episodes 747.6 epsilon 0.02 steps 165.2 total steps 735706\n"
          ]
        },
        {
          "name": "stderr",
          "output_type": "stream",
          "text": [
            " 37%|███▋      | 3731/10000 [1:48:48<3:13:20,  1.85s/ episodes]"
          ]
        },
        {
          "name": "stdout",
          "output_type": "stream",
          "text": [
            "Episode 3730 - Avg. Reward over the last 10 episodes 883.1 epsilon 0.02 steps 217.2 total steps 737878\n"
          ]
        },
        {
          "name": "stderr",
          "output_type": "stream",
          "text": [
            " 37%|███▋      | 3741/10000 [1:49:05<2:43:06,  1.56s/ episodes]"
          ]
        },
        {
          "name": "stdout",
          "output_type": "stream",
          "text": [
            "Episode 3740 - Avg. Reward over the last 10 episodes 780.9 epsilon 0.02 steps 196.8 total steps 739846\n"
          ]
        },
        {
          "name": "stderr",
          "output_type": "stream",
          "text": [
            " 38%|███▊      | 3751/10000 [1:49:20<2:45:51,  1.59s/ episodes]"
          ]
        },
        {
          "name": "stdout",
          "output_type": "stream",
          "text": [
            "Episode 3750 - Avg. Reward over the last 10 episodes 783.2 epsilon 0.02 steps 182.1 total steps 741667\n"
          ]
        },
        {
          "name": "stderr",
          "output_type": "stream",
          "text": [
            " 38%|███▊      | 3761/10000 [1:49:41<4:24:55,  2.55s/ episodes]"
          ]
        },
        {
          "name": "stdout",
          "output_type": "stream",
          "text": [
            "Episode 3760 - Avg. Reward over the last 10 episodes 1049.5 epsilon 0.02 steps 251.7 total steps 744184\n"
          ]
        },
        {
          "name": "stderr",
          "output_type": "stream",
          "text": [
            " 38%|███▊      | 3771/10000 [1:49:59<3:05:05,  1.78s/ episodes]"
          ]
        },
        {
          "name": "stdout",
          "output_type": "stream",
          "text": [
            "Episode 3770 - Avg. Reward over the last 10 episodes 898.1 epsilon 0.02 steps 211.8 total steps 746302\n"
          ]
        },
        {
          "name": "stderr",
          "output_type": "stream",
          "text": [
            " 38%|███▊      | 3781/10000 [1:50:19<2:53:26,  1.67s/ episodes]"
          ]
        },
        {
          "name": "stdout",
          "output_type": "stream",
          "text": [
            "Episode 3780 - Avg. Reward over the last 10 episodes 1048.8 epsilon 0.02 steps 238.1 total steps 748683\n"
          ]
        },
        {
          "name": "stderr",
          "output_type": "stream",
          "text": [
            " 38%|███▊      | 3791/10000 [1:50:37<3:03:24,  1.77s/ episodes]"
          ]
        },
        {
          "name": "stdout",
          "output_type": "stream",
          "text": [
            "Episode 3790 - Avg. Reward over the last 10 episodes 1139.6 epsilon 0.02 steps 221.5 total steps 750898\n"
          ]
        },
        {
          "name": "stderr",
          "output_type": "stream",
          "text": [
            " 38%|███▊      | 3801/10000 [1:50:55<2:42:46,  1.58s/ episodes]"
          ]
        },
        {
          "name": "stdout",
          "output_type": "stream",
          "text": [
            "Episode 3800 - Avg. Reward over the last 10 episodes 817.5 epsilon 0.02 steps 210.0 total steps 752998\n"
          ]
        },
        {
          "name": "stderr",
          "output_type": "stream",
          "text": [
            " 38%|███▊      | 3811/10000 [1:51:13<2:53:27,  1.68s/ episodes]"
          ]
        },
        {
          "name": "stdout",
          "output_type": "stream",
          "text": [
            "Episode 3810 - Avg. Reward over the last 10 episodes 923.7 epsilon 0.02 steps 222.4 total steps 755222\n"
          ]
        },
        {
          "name": "stderr",
          "output_type": "stream",
          "text": [
            " 38%|███▊      | 3821/10000 [1:51:30<2:04:02,  1.20s/ episodes]"
          ]
        },
        {
          "name": "stdout",
          "output_type": "stream",
          "text": [
            "Episode 3820 - Avg. Reward over the last 10 episodes 921.4 epsilon 0.02 steps 195.8 total steps 757180\n"
          ]
        },
        {
          "name": "stderr",
          "output_type": "stream",
          "text": [
            " 38%|███▊      | 3831/10000 [1:51:55<4:56:04,  2.88s/ episodes]"
          ]
        },
        {
          "name": "stdout",
          "output_type": "stream",
          "text": [
            "Episode 3830 - Avg. Reward over the last 10 episodes 1224.7 epsilon 0.02 steps 298.2 total steps 760162\n"
          ]
        },
        {
          "name": "stderr",
          "output_type": "stream",
          "text": [
            " 38%|███▊      | 3841/10000 [1:52:17<3:21:05,  1.96s/ episodes]"
          ]
        },
        {
          "name": "stdout",
          "output_type": "stream",
          "text": [
            "Episode 3840 - Avg. Reward over the last 10 episodes 1097.6 epsilon 0.02 steps 266.5 total steps 762827\n"
          ]
        },
        {
          "name": "stderr",
          "output_type": "stream",
          "text": [
            " 39%|███▊      | 3851/10000 [1:52:34<3:11:08,  1.87s/ episodes]"
          ]
        },
        {
          "name": "stdout",
          "output_type": "stream",
          "text": [
            "Episode 3850 - Avg. Reward over the last 10 episodes 856.8 epsilon 0.02 steps 203.4 total steps 764861\n"
          ]
        },
        {
          "name": "stderr",
          "output_type": "stream",
          "text": [
            " 39%|███▊      | 3861/10000 [1:52:51<2:10:47,  1.28s/ episodes]"
          ]
        },
        {
          "name": "stdout",
          "output_type": "stream",
          "text": [
            "Episode 3860 - Avg. Reward over the last 10 episodes 918.0 epsilon 0.02 steps 203.1 total steps 766892\n"
          ]
        },
        {
          "name": "stderr",
          "output_type": "stream",
          "text": [
            " 39%|███▊      | 3871/10000 [1:53:04<2:02:41,  1.20s/ episodes]"
          ]
        },
        {
          "name": "stdout",
          "output_type": "stream",
          "text": [
            "Episode 3870 - Avg. Reward over the last 10 episodes 815.1 epsilon 0.02 steps 151.9 total steps 768411\n"
          ]
        },
        {
          "name": "stderr",
          "output_type": "stream",
          "text": [
            " 39%|███▉      | 3881/10000 [1:53:26<2:57:00,  1.74s/ episodes]"
          ]
        },
        {
          "name": "stdout",
          "output_type": "stream",
          "text": [
            "Episode 3880 - Avg. Reward over the last 10 episodes 914.4 epsilon 0.02 steps 258.5 total steps 770996\n"
          ]
        },
        {
          "name": "stderr",
          "output_type": "stream",
          "text": [
            " 39%|███▉      | 3891/10000 [1:54:01<4:43:14,  2.78s/ episodes] "
          ]
        },
        {
          "name": "stdout",
          "output_type": "stream",
          "text": [
            "Episode 3890 - Avg. Reward over the last 10 episodes 1063.6 epsilon 0.02 steps 399.8 total steps 774994\n"
          ]
        },
        {
          "name": "stderr",
          "output_type": "stream",
          "text": [
            " 39%|███▉      | 3901/10000 [1:54:34<5:42:10,  3.37s/ episodes]"
          ]
        },
        {
          "name": "stdout",
          "output_type": "stream",
          "text": [
            "Episode 3900 - Avg. Reward over the last 10 episodes 1018.1 epsilon 0.02 steps 349.6 total steps 778490\n"
          ]
        },
        {
          "name": "stderr",
          "output_type": "stream",
          "text": [
            " 39%|███▉      | 3911/10000 [1:54:55<3:38:01,  2.15s/ episodes]"
          ]
        },
        {
          "name": "stdout",
          "output_type": "stream",
          "text": [
            "Episode 3910 - Avg. Reward over the last 10 episodes 985.9 epsilon 0.02 steps 223.7 total steps 780727\n"
          ]
        },
        {
          "name": "stderr",
          "output_type": "stream",
          "text": [
            " 39%|███▉      | 3921/10000 [1:55:15<3:24:51,  2.02s/ episodes]"
          ]
        },
        {
          "name": "stdout",
          "output_type": "stream",
          "text": [
            "Episode 3920 - Avg. Reward over the last 10 episodes 994.7 epsilon 0.02 steps 215.4 total steps 782881\n"
          ]
        },
        {
          "name": "stderr",
          "output_type": "stream",
          "text": [
            " 39%|███▉      | 3931/10000 [1:55:32<2:22:49,  1.41s/ episodes]"
          ]
        },
        {
          "name": "stdout",
          "output_type": "stream",
          "text": [
            "Episode 3930 - Avg. Reward over the last 10 episodes 804.5 epsilon 0.02 steps 182.2 total steps 784703\n"
          ]
        },
        {
          "name": "stderr",
          "output_type": "stream",
          "text": [
            " 39%|███▉      | 3941/10000 [1:55:48<2:25:25,  1.44s/ episodes]"
          ]
        },
        {
          "name": "stdout",
          "output_type": "stream",
          "text": [
            "Episode 3940 - Avg. Reward over the last 10 episodes 886.9 epsilon 0.02 steps 166.8 total steps 786371\n"
          ]
        },
        {
          "name": "stderr",
          "output_type": "stream",
          "text": [
            " 40%|███▉      | 3951/10000 [1:56:09<3:22:49,  2.01s/ episodes]"
          ]
        },
        {
          "name": "stdout",
          "output_type": "stream",
          "text": [
            "Episode 3950 - Avg. Reward over the last 10 episodes 1116.6 epsilon 0.02 steps 233.4 total steps 788705\n"
          ]
        },
        {
          "name": "stderr",
          "output_type": "stream",
          "text": [
            " 40%|███▉      | 3961/10000 [1:56:30<3:38:06,  2.17s/ episodes]"
          ]
        },
        {
          "name": "stdout",
          "output_type": "stream",
          "text": [
            "Episode 3960 - Avg. Reward over the last 10 episodes 820.7 epsilon 0.02 steps 230.9 total steps 791014\n"
          ]
        },
        {
          "name": "stderr",
          "output_type": "stream",
          "text": [
            " 40%|███▉      | 3971/10000 [1:56:49<3:25:22,  2.04s/ episodes]"
          ]
        },
        {
          "name": "stdout",
          "output_type": "stream",
          "text": [
            "Episode 3970 - Avg. Reward over the last 10 episodes 1016.6 epsilon 0.02 steps 201.5 total steps 793029\n"
          ]
        },
        {
          "name": "stderr",
          "output_type": "stream",
          "text": [
            " 40%|███▉      | 3981/10000 [1:57:07<3:17:15,  1.97s/ episodes]"
          ]
        },
        {
          "name": "stdout",
          "output_type": "stream",
          "text": [
            "Episode 3980 - Avg. Reward over the last 10 episodes 809.6 epsilon 0.02 steps 187.9 total steps 794908\n"
          ]
        },
        {
          "name": "stderr",
          "output_type": "stream",
          "text": [
            " 40%|███▉      | 3991/10000 [1:57:31<4:34:20,  2.74s/ episodes]"
          ]
        },
        {
          "name": "stdout",
          "output_type": "stream",
          "text": [
            "Episode 3990 - Avg. Reward over the last 10 episodes 1054.9 epsilon 0.02 steps 260.0 total steps 797508\n"
          ]
        },
        {
          "name": "stderr",
          "output_type": "stream",
          "text": [
            " 40%|████      | 4001/10000 [1:57:54<3:54:43,  2.35s/ episodes]"
          ]
        },
        {
          "name": "stdout",
          "output_type": "stream",
          "text": [
            "Episode 4000 - Avg. Reward over the last 10 episodes 1082.2 epsilon 0.02 steps 246.2 total steps 799970\n"
          ]
        },
        {
          "name": "stderr",
          "output_type": "stream",
          "text": [
            " 40%|████      | 4011/10000 [1:58:16<2:57:06,  1.77s/ episodes]"
          ]
        },
        {
          "name": "stdout",
          "output_type": "stream",
          "text": [
            "Episode 4010 - Avg. Reward over the last 10 episodes 910.7 epsilon 0.02 steps 232.4 total steps 802294\n"
          ]
        },
        {
          "name": "stderr",
          "output_type": "stream",
          "text": [
            " 40%|████      | 4021/10000 [1:58:41<3:03:52,  1.85s/ episodes]"
          ]
        },
        {
          "name": "stdout",
          "output_type": "stream",
          "text": [
            "Episode 4020 - Avg. Reward over the last 10 episodes 878.2 epsilon 0.02 steps 274.0 total steps 805034\n"
          ]
        },
        {
          "name": "stderr",
          "output_type": "stream",
          "text": [
            " 40%|████      | 4031/10000 [1:59:00<2:49:54,  1.71s/ episodes]"
          ]
        },
        {
          "name": "stdout",
          "output_type": "stream",
          "text": [
            "Episode 4030 - Avg. Reward over the last 10 episodes 814.6 epsilon 0.02 steps 200.6 total steps 807040\n"
          ]
        },
        {
          "name": "stderr",
          "output_type": "stream",
          "text": [
            " 40%|████      | 4041/10000 [1:59:20<4:00:04,  2.42s/ episodes]"
          ]
        },
        {
          "name": "stdout",
          "output_type": "stream",
          "text": [
            "Episode 4040 - Avg. Reward over the last 10 episodes 868.0 epsilon 0.02 steps 218.1 total steps 809221\n"
          ]
        },
        {
          "name": "stderr",
          "output_type": "stream",
          "text": [
            " 41%|████      | 4051/10000 [1:59:42<3:08:00,  1.90s/ episodes]"
          ]
        },
        {
          "name": "stdout",
          "output_type": "stream",
          "text": [
            "Episode 4050 - Avg. Reward over the last 10 episodes 927.2 epsilon 0.02 steps 225.2 total steps 811473\n"
          ]
        },
        {
          "name": "stderr",
          "output_type": "stream",
          "text": [
            " 41%|████      | 4061/10000 [2:00:02<2:36:24,  1.58s/ episodes]"
          ]
        },
        {
          "name": "stdout",
          "output_type": "stream",
          "text": [
            "Episode 4060 - Avg. Reward over the last 10 episodes 869.0 epsilon 0.02 steps 225.6 total steps 813729\n"
          ]
        },
        {
          "name": "stderr",
          "output_type": "stream",
          "text": [
            " 41%|████      | 4071/10000 [2:00:18<2:14:34,  1.36s/ episodes]"
          ]
        },
        {
          "name": "stdout",
          "output_type": "stream",
          "text": [
            "Episode 4070 - Avg. Reward over the last 10 episodes 791.5 epsilon 0.02 steps 170.6 total steps 815435\n"
          ]
        },
        {
          "name": "stderr",
          "output_type": "stream",
          "text": [
            " 41%|████      | 4081/10000 [2:00:36<3:04:26,  1.87s/ episodes]"
          ]
        },
        {
          "name": "stdout",
          "output_type": "stream",
          "text": [
            "Episode 4080 - Avg. Reward over the last 10 episodes 767.5 epsilon 0.02 steps 193.6 total steps 817371\n"
          ]
        },
        {
          "name": "stderr",
          "output_type": "stream",
          "text": [
            " 41%|████      | 4091/10000 [2:00:53<2:24:36,  1.47s/ episodes]"
          ]
        },
        {
          "name": "stdout",
          "output_type": "stream",
          "text": [
            "Episode 4090 - Avg. Reward over the last 10 episodes 715.9 epsilon 0.02 steps 177.1 total steps 819142\n"
          ]
        },
        {
          "name": "stderr",
          "output_type": "stream",
          "text": [
            " 41%|████      | 4101/10000 [2:01:06<2:13:04,  1.35s/ episodes]"
          ]
        },
        {
          "name": "stdout",
          "output_type": "stream",
          "text": [
            "Episode 4100 - Avg. Reward over the last 10 episodes 677.0 epsilon 0.02 steps 144.5 total steps 820587\n"
          ]
        },
        {
          "name": "stderr",
          "output_type": "stream",
          "text": [
            " 41%|████      | 4111/10000 [2:01:25<3:11:00,  1.95s/ episodes]"
          ]
        },
        {
          "name": "stdout",
          "output_type": "stream",
          "text": [
            "Episode 4110 - Avg. Reward over the last 10 episodes 817.0 epsilon 0.02 steps 197.2 total steps 822559\n"
          ]
        },
        {
          "name": "stderr",
          "output_type": "stream",
          "text": [
            " 41%|████      | 4121/10000 [2:01:45<3:15:36,  2.00s/ episodes]"
          ]
        },
        {
          "name": "stdout",
          "output_type": "stream",
          "text": [
            "Episode 4120 - Avg. Reward over the last 10 episodes 946.4 epsilon 0.02 steps 210.6 total steps 824665\n"
          ]
        },
        {
          "name": "stderr",
          "output_type": "stream",
          "text": [
            " 41%|████▏     | 4131/10000 [2:02:04<2:43:35,  1.67s/ episodes]"
          ]
        },
        {
          "name": "stdout",
          "output_type": "stream",
          "text": [
            "Episode 4130 - Avg. Reward over the last 10 episodes 877.1 epsilon 0.02 steps 202.5 total steps 826690\n"
          ]
        },
        {
          "name": "stderr",
          "output_type": "stream",
          "text": [
            " 41%|████▏     | 4141/10000 [2:02:22<2:15:49,  1.39s/ episodes]"
          ]
        },
        {
          "name": "stdout",
          "output_type": "stream",
          "text": [
            "Episode 4140 - Avg. Reward over the last 10 episodes 893.4 epsilon 0.02 steps 195.9 total steps 828649\n"
          ]
        },
        {
          "name": "stderr",
          "output_type": "stream",
          "text": [
            " 42%|████▏     | 4151/10000 [2:02:43<4:06:51,  2.53s/ episodes]"
          ]
        },
        {
          "name": "stdout",
          "output_type": "stream",
          "text": [
            "Episode 4150 - Avg. Reward over the last 10 episodes 964.6 epsilon 0.02 steps 219.6 total steps 830845\n"
          ]
        },
        {
          "name": "stderr",
          "output_type": "stream",
          "text": [
            " 42%|████▏     | 4161/10000 [2:02:58<2:51:57,  1.77s/ episodes]"
          ]
        },
        {
          "name": "stdout",
          "output_type": "stream",
          "text": [
            "Episode 4160 - Avg. Reward over the last 10 episodes 798.5 epsilon 0.02 steps 165.7 total steps 832502\n"
          ]
        },
        {
          "name": "stderr",
          "output_type": "stream",
          "text": [
            " 42%|████▏     | 4171/10000 [2:03:19<3:21:42,  2.08s/ episodes]"
          ]
        },
        {
          "name": "stdout",
          "output_type": "stream",
          "text": [
            "Episode 4170 - Avg. Reward over the last 10 episodes 895.1 epsilon 0.02 steps 237.1 total steps 834873\n"
          ]
        },
        {
          "name": "stderr",
          "output_type": "stream",
          "text": [
            " 42%|████▏     | 4181/10000 [2:03:44<3:44:29,  2.31s/ episodes]"
          ]
        },
        {
          "name": "stdout",
          "output_type": "stream",
          "text": [
            "Episode 4180 - Avg. Reward over the last 10 episodes 1117.3 epsilon 0.02 steps 294.3 total steps 837816\n"
          ]
        },
        {
          "name": "stderr",
          "output_type": "stream",
          "text": [
            " 42%|████▏     | 4191/10000 [2:04:04<2:48:06,  1.74s/ episodes]"
          ]
        },
        {
          "name": "stdout",
          "output_type": "stream",
          "text": [
            "Episode 4190 - Avg. Reward over the last 10 episodes 738.0 epsilon 0.02 steps 242.0 total steps 840236\n"
          ]
        },
        {
          "name": "stderr",
          "output_type": "stream",
          "text": [
            " 42%|████▏     | 4201/10000 [2:04:22<2:30:09,  1.55s/ episodes]"
          ]
        },
        {
          "name": "stdout",
          "output_type": "stream",
          "text": [
            "Episode 4200 - Avg. Reward over the last 10 episodes 977.8 epsilon 0.02 steps 220.9 total steps 842445\n"
          ]
        },
        {
          "name": "stderr",
          "output_type": "stream",
          "text": [
            " 42%|████▏     | 4211/10000 [2:04:40<2:54:12,  1.81s/ episodes]"
          ]
        },
        {
          "name": "stdout",
          "output_type": "stream",
          "text": [
            "Episode 4210 - Avg. Reward over the last 10 episodes 960.9 epsilon 0.02 steps 211.7 total steps 844562\n"
          ]
        },
        {
          "name": "stderr",
          "output_type": "stream",
          "text": [
            " 42%|████▏     | 4221/10000 [2:04:59<2:57:02,  1.84s/ episodes]"
          ]
        },
        {
          "name": "stdout",
          "output_type": "stream",
          "text": [
            "Episode 4220 - Avg. Reward over the last 10 episodes 958.3 epsilon 0.02 steps 217.5 total steps 846737\n"
          ]
        },
        {
          "name": "stderr",
          "output_type": "stream",
          "text": [
            " 42%|████▏     | 4231/10000 [2:05:15<3:02:04,  1.89s/ episodes]"
          ]
        },
        {
          "name": "stdout",
          "output_type": "stream",
          "text": [
            "Episode 4230 - Avg. Reward over the last 10 episodes 806.9 epsilon 0.02 steps 200.0 total steps 848737\n"
          ]
        },
        {
          "name": "stderr",
          "output_type": "stream",
          "text": [
            " 42%|████▏     | 4241/10000 [2:05:36<2:59:17,  1.87s/ episodes]"
          ]
        },
        {
          "name": "stdout",
          "output_type": "stream",
          "text": [
            "Episode 4240 - Avg. Reward over the last 10 episodes 954.6 epsilon 0.02 steps 241.1 total steps 851148\n"
          ]
        },
        {
          "name": "stderr",
          "output_type": "stream",
          "text": [
            " 43%|████▎     | 4251/10000 [2:05:55<3:02:43,  1.91s/ episodes]"
          ]
        },
        {
          "name": "stdout",
          "output_type": "stream",
          "text": [
            "Episode 4250 - Avg. Reward over the last 10 episodes 913.7 epsilon 0.02 steps 225.3 total steps 853401\n"
          ]
        },
        {
          "name": "stderr",
          "output_type": "stream",
          "text": [
            " 43%|████▎     | 4261/10000 [2:06:17<2:50:55,  1.79s/ episodes]"
          ]
        },
        {
          "name": "stdout",
          "output_type": "stream",
          "text": [
            "Episode 4260 - Avg. Reward over the last 10 episodes 880.6 epsilon 0.02 steps 263.0 total steps 856031\n"
          ]
        },
        {
          "name": "stderr",
          "output_type": "stream",
          "text": [
            " 43%|████▎     | 4271/10000 [2:06:33<2:49:36,  1.78s/ episodes]"
          ]
        },
        {
          "name": "stdout",
          "output_type": "stream",
          "text": [
            "Episode 4270 - Avg. Reward over the last 10 episodes 683.1 epsilon 0.02 steps 180.6 total steps 857837\n"
          ]
        },
        {
          "name": "stderr",
          "output_type": "stream",
          "text": [
            " 43%|████▎     | 4281/10000 [2:06:50<2:46:31,  1.75s/ episodes]"
          ]
        },
        {
          "name": "stdout",
          "output_type": "stream",
          "text": [
            "Episode 4280 - Avg. Reward over the last 10 episodes 880.4 epsilon 0.02 steps 204.0 total steps 859877\n"
          ]
        },
        {
          "name": "stderr",
          "output_type": "stream",
          "text": [
            " 43%|████▎     | 4291/10000 [2:07:07<2:32:13,  1.60s/ episodes]"
          ]
        },
        {
          "name": "stdout",
          "output_type": "stream",
          "text": [
            "Episode 4290 - Avg. Reward over the last 10 episodes 885.2 epsilon 0.02 steps 200.7 total steps 861884\n"
          ]
        },
        {
          "name": "stderr",
          "output_type": "stream",
          "text": [
            " 43%|████▎     | 4301/10000 [2:07:26<2:59:59,  1.89s/ episodes]"
          ]
        },
        {
          "name": "stdout",
          "output_type": "stream",
          "text": [
            "Episode 4300 - Avg. Reward over the last 10 episodes 850.0 epsilon 0.02 steps 223.2 total steps 864116\n"
          ]
        },
        {
          "name": "stderr",
          "output_type": "stream",
          "text": [
            " 43%|████▎     | 4311/10000 [2:07:46<3:11:40,  2.02s/ episodes]"
          ]
        },
        {
          "name": "stdout",
          "output_type": "stream",
          "text": [
            "Episode 4310 - Avg. Reward over the last 10 episodes 1108.5 epsilon 0.02 steps 243.7 total steps 866553\n"
          ]
        },
        {
          "name": "stderr",
          "output_type": "stream",
          "text": [
            " 43%|████▎     | 4321/10000 [2:08:04<3:02:55,  1.93s/ episodes]"
          ]
        },
        {
          "name": "stdout",
          "output_type": "stream",
          "text": [
            "Episode 4320 - Avg. Reward over the last 10 episodes 837.8 epsilon 0.02 steps 205.2 total steps 868605\n"
          ]
        },
        {
          "name": "stderr",
          "output_type": "stream",
          "text": [
            " 43%|████▎     | 4331/10000 [2:08:28<3:18:44,  2.10s/ episodes]"
          ]
        },
        {
          "name": "stdout",
          "output_type": "stream",
          "text": [
            "Episode 4330 - Avg. Reward over the last 10 episodes 850.3 epsilon 0.02 steps 248.4 total steps 871089\n"
          ]
        },
        {
          "name": "stderr",
          "output_type": "stream",
          "text": [
            " 43%|████▎     | 4341/10000 [2:08:48<2:54:25,  1.85s/ episodes]"
          ]
        },
        {
          "name": "stdout",
          "output_type": "stream",
          "text": [
            "Episode 4340 - Avg. Reward over the last 10 episodes 912.0 epsilon 0.02 steps 221.8 total steps 873307\n"
          ]
        },
        {
          "name": "stderr",
          "output_type": "stream",
          "text": [
            " 44%|████▎     | 4351/10000 [2:09:05<2:20:49,  1.50s/ episodes]"
          ]
        },
        {
          "name": "stdout",
          "output_type": "stream",
          "text": [
            "Episode 4350 - Avg. Reward over the last 10 episodes 774.9 epsilon 0.02 steps 180.9 total steps 875116\n"
          ]
        },
        {
          "name": "stderr",
          "output_type": "stream",
          "text": [
            " 44%|████▎     | 4361/10000 [2:09:26<3:03:07,  1.95s/ episodes]"
          ]
        },
        {
          "name": "stdout",
          "output_type": "stream",
          "text": [
            "Episode 4360 - Avg. Reward over the last 10 episodes 952.4 epsilon 0.02 steps 221.3 total steps 877329\n"
          ]
        },
        {
          "name": "stderr",
          "output_type": "stream",
          "text": [
            " 44%|████▎     | 4371/10000 [2:09:47<3:22:24,  2.16s/ episodes]"
          ]
        },
        {
          "name": "stdout",
          "output_type": "stream",
          "text": [
            "Episode 4370 - Avg. Reward over the last 10 episodes 962.6 epsilon 0.02 steps 222.1 total steps 879550\n"
          ]
        },
        {
          "name": "stderr",
          "output_type": "stream",
          "text": [
            " 44%|████▍     | 4381/10000 [2:10:04<2:48:10,  1.80s/ episodes]"
          ]
        },
        {
          "name": "stdout",
          "output_type": "stream",
          "text": [
            "Episode 4380 - Avg. Reward over the last 10 episodes 915.7 epsilon 0.02 steps 182.7 total steps 881377\n"
          ]
        },
        {
          "name": "stderr",
          "output_type": "stream",
          "text": [
            " 44%|████▍     | 4391/10000 [2:10:19<2:47:33,  1.79s/ episodes]"
          ]
        },
        {
          "name": "stdout",
          "output_type": "stream",
          "text": [
            "Episode 4390 - Avg. Reward over the last 10 episodes 767.7 epsilon 0.02 steps 164.3 total steps 883020\n"
          ]
        },
        {
          "name": "stderr",
          "output_type": "stream",
          "text": [
            " 44%|████▍     | 4401/10000 [2:10:38<2:48:58,  1.81s/ episodes]"
          ]
        },
        {
          "name": "stdout",
          "output_type": "stream",
          "text": [
            "Episode 4400 - Avg. Reward over the last 10 episodes 949.9 epsilon 0.02 steps 199.4 total steps 885014\n"
          ]
        },
        {
          "name": "stderr",
          "output_type": "stream",
          "text": [
            " 44%|████▍     | 4411/10000 [2:10:59<3:49:49,  2.47s/ episodes]"
          ]
        },
        {
          "name": "stdout",
          "output_type": "stream",
          "text": [
            "Episode 4410 - Avg. Reward over the last 10 episodes 837.8 epsilon 0.02 steps 226.3 total steps 887277\n"
          ]
        },
        {
          "name": "stderr",
          "output_type": "stream",
          "text": [
            " 44%|████▍     | 4421/10000 [2:11:17<2:52:20,  1.85s/ episodes]"
          ]
        },
        {
          "name": "stdout",
          "output_type": "stream",
          "text": [
            "Episode 4420 - Avg. Reward over the last 10 episodes 889.4 epsilon 0.02 steps 189.2 total steps 889169\n"
          ]
        },
        {
          "name": "stderr",
          "output_type": "stream",
          "text": [
            " 44%|████▍     | 4431/10000 [2:11:41<4:14:50,  2.75s/ episodes]"
          ]
        },
        {
          "name": "stdout",
          "output_type": "stream",
          "text": [
            "Episode 4430 - Avg. Reward over the last 10 episodes 1133.3 epsilon 0.02 steps 246.4 total steps 891633\n"
          ]
        },
        {
          "name": "stderr",
          "output_type": "stream",
          "text": [
            " 44%|████▍     | 4441/10000 [2:12:01<2:58:27,  1.93s/ episodes]"
          ]
        },
        {
          "name": "stdout",
          "output_type": "stream",
          "text": [
            "Episode 4440 - Avg. Reward over the last 10 episodes 955.3 epsilon 0.02 steps 213.7 total steps 893770\n"
          ]
        },
        {
          "name": "stderr",
          "output_type": "stream",
          "text": [
            " 45%|████▍     | 4451/10000 [2:12:20<3:01:24,  1.96s/ episodes]"
          ]
        },
        {
          "name": "stdout",
          "output_type": "stream",
          "text": [
            "Episode 4450 - Avg. Reward over the last 10 episodes 902.6 epsilon 0.02 steps 201.7 total steps 895787\n"
          ]
        },
        {
          "name": "stderr",
          "output_type": "stream",
          "text": [
            " 45%|████▍     | 4461/10000 [2:12:40<3:29:59,  2.27s/ episodes]"
          ]
        },
        {
          "name": "stdout",
          "output_type": "stream",
          "text": [
            "Episode 4460 - Avg. Reward over the last 10 episodes 940.9 epsilon 0.02 steps 213.7 total steps 897924\n"
          ]
        },
        {
          "name": "stderr",
          "output_type": "stream",
          "text": [
            " 45%|████▍     | 4471/10000 [2:12:59<2:53:33,  1.88s/ episodes]"
          ]
        },
        {
          "name": "stdout",
          "output_type": "stream",
          "text": [
            "Episode 4470 - Avg. Reward over the last 10 episodes 904.0 epsilon 0.02 steps 210.7 total steps 900031\n"
          ]
        },
        {
          "name": "stderr",
          "output_type": "stream",
          "text": [
            " 45%|████▍     | 4481/10000 [2:13:36<8:27:56,  5.52s/ episodes] "
          ]
        },
        {
          "name": "stdout",
          "output_type": "stream",
          "text": [
            "Episode 4480 - Avg. Reward over the last 10 episodes 870.1 epsilon 0.02 steps 393.5 total steps 903966\n"
          ]
        },
        {
          "name": "stderr",
          "output_type": "stream",
          "text": [
            " 45%|████▍     | 4491/10000 [2:14:00<3:49:07,  2.50s/ episodes]"
          ]
        },
        {
          "name": "stdout",
          "output_type": "stream",
          "text": [
            "Episode 4490 - Avg. Reward over the last 10 episodes 1236.5 epsilon 0.02 steps 262.5 total steps 906591\n"
          ]
        },
        {
          "name": "stderr",
          "output_type": "stream",
          "text": [
            " 45%|████▌     | 4501/10000 [2:14:21<2:56:49,  1.93s/ episodes]"
          ]
        },
        {
          "name": "stdout",
          "output_type": "stream",
          "text": [
            "Episode 4500 - Avg. Reward over the last 10 episodes 1075.8 epsilon 0.02 steps 220.3 total steps 908794\n"
          ]
        },
        {
          "name": "stderr",
          "output_type": "stream",
          "text": [
            " 45%|████▌     | 4511/10000 [2:14:46<3:44:28,  2.45s/ episodes]"
          ]
        },
        {
          "name": "stdout",
          "output_type": "stream",
          "text": [
            "Episode 4510 - Avg. Reward over the last 10 episodes 1038.7 epsilon 0.02 steps 263.6 total steps 911430\n"
          ]
        },
        {
          "name": "stderr",
          "output_type": "stream",
          "text": [
            " 45%|████▌     | 4521/10000 [2:15:08<3:35:37,  2.36s/ episodes]"
          ]
        },
        {
          "name": "stdout",
          "output_type": "stream",
          "text": [
            "Episode 4520 - Avg. Reward over the last 10 episodes 967.8 epsilon 0.02 steps 238.4 total steps 913814\n"
          ]
        },
        {
          "name": "stderr",
          "output_type": "stream",
          "text": [
            " 45%|████▌     | 4531/10000 [2:15:26<2:56:01,  1.93s/ episodes]"
          ]
        },
        {
          "name": "stdout",
          "output_type": "stream",
          "text": [
            "Episode 4530 - Avg. Reward over the last 10 episodes 945.6 epsilon 0.02 steps 200.9 total steps 915823\n"
          ]
        },
        {
          "name": "stderr",
          "output_type": "stream",
          "text": [
            " 45%|████▌     | 4541/10000 [2:15:48<2:33:26,  1.69s/ episodes]"
          ]
        },
        {
          "name": "stdout",
          "output_type": "stream",
          "text": [
            "Episode 4540 - Avg. Reward over the last 10 episodes 1059.6 epsilon 0.02 steps 223.9 total steps 918062\n"
          ]
        },
        {
          "name": "stderr",
          "output_type": "stream",
          "text": [
            " 46%|████▌     | 4551/10000 [2:16:08<3:30:48,  2.32s/ episodes]"
          ]
        },
        {
          "name": "stdout",
          "output_type": "stream",
          "text": [
            "Episode 4550 - Avg. Reward over the last 10 episodes 1022.0 epsilon 0.02 steps 207.4 total steps 920136\n"
          ]
        },
        {
          "name": "stderr",
          "output_type": "stream",
          "text": [
            " 46%|████▌     | 4561/10000 [2:16:28<3:27:45,  2.29s/ episodes]"
          ]
        },
        {
          "name": "stdout",
          "output_type": "stream",
          "text": [
            "Episode 4560 - Avg. Reward over the last 10 episodes 1016.4 epsilon 0.02 steps 209.4 total steps 922230\n"
          ]
        },
        {
          "name": "stderr",
          "output_type": "stream",
          "text": [
            " 46%|████▌     | 4571/10000 [2:16:52<3:14:36,  2.15s/ episodes]"
          ]
        },
        {
          "name": "stdout",
          "output_type": "stream",
          "text": [
            "Episode 4570 - Avg. Reward over the last 10 episodes 1041.8 epsilon 0.02 steps 264.6 total steps 924876\n"
          ]
        },
        {
          "name": "stderr",
          "output_type": "stream",
          "text": [
            " 46%|████▌     | 4581/10000 [2:17:09<2:39:03,  1.76s/ episodes]"
          ]
        },
        {
          "name": "stdout",
          "output_type": "stream",
          "text": [
            "Episode 4580 - Avg. Reward over the last 10 episodes 903.5 epsilon 0.02 steps 178.6 total steps 926662\n"
          ]
        },
        {
          "name": "stderr",
          "output_type": "stream",
          "text": [
            " 46%|████▌     | 4591/10000 [2:17:27<2:13:00,  1.48s/ episodes]"
          ]
        },
        {
          "name": "stdout",
          "output_type": "stream",
          "text": [
            "Episode 4590 - Avg. Reward over the last 10 episodes 940.8 epsilon 0.02 steps 195.7 total steps 928619\n"
          ]
        },
        {
          "name": "stderr",
          "output_type": "stream",
          "text": [
            " 46%|████▌     | 4601/10000 [2:17:43<2:30:12,  1.67s/ episodes]"
          ]
        },
        {
          "name": "stdout",
          "output_type": "stream",
          "text": [
            "Episode 4600 - Avg. Reward over the last 10 episodes 731.8 epsilon 0.02 steps 168.5 total steps 930304\n"
          ]
        },
        {
          "name": "stderr",
          "output_type": "stream",
          "text": [
            " 46%|████▌     | 4611/10000 [2:18:01<2:15:20,  1.51s/ episodes]"
          ]
        },
        {
          "name": "stdout",
          "output_type": "stream",
          "text": [
            "Episode 4610 - Avg. Reward over the last 10 episodes 985.1 epsilon 0.02 steps 200.2 total steps 932306\n"
          ]
        },
        {
          "name": "stderr",
          "output_type": "stream",
          "text": [
            " 46%|████▌     | 4621/10000 [2:18:17<2:30:24,  1.68s/ episodes]"
          ]
        },
        {
          "name": "stdout",
          "output_type": "stream",
          "text": [
            "Episode 4620 - Avg. Reward over the last 10 episodes 782.9 epsilon 0.02 steps 159.1 total steps 933897\n"
          ]
        },
        {
          "name": "stderr",
          "output_type": "stream",
          "text": [
            " 46%|████▋     | 4631/10000 [2:18:34<2:20:44,  1.57s/ episodes]"
          ]
        },
        {
          "name": "stdout",
          "output_type": "stream",
          "text": [
            "Episode 4630 - Avg. Reward over the last 10 episodes 863.8 epsilon 0.02 steps 183.1 total steps 935728\n"
          ]
        },
        {
          "name": "stderr",
          "output_type": "stream",
          "text": [
            " 46%|████▋     | 4641/10000 [2:18:52<2:52:54,  1.94s/ episodes]"
          ]
        },
        {
          "name": "stdout",
          "output_type": "stream",
          "text": [
            "Episode 4640 - Avg. Reward over the last 10 episodes 754.4 epsilon 0.02 steps 184.1 total steps 937569\n"
          ]
        },
        {
          "name": "stderr",
          "output_type": "stream",
          "text": [
            " 47%|████▋     | 4651/10000 [2:19:08<1:38:55,  1.11s/ episodes]"
          ]
        },
        {
          "name": "stdout",
          "output_type": "stream",
          "text": [
            "Episode 4650 - Avg. Reward over the last 10 episodes 799.4 epsilon 0.02 steps 175.8 total steps 939327\n"
          ]
        },
        {
          "name": "stderr",
          "output_type": "stream",
          "text": [
            " 47%|████▋     | 4661/10000 [2:19:26<3:25:54,  2.31s/ episodes]"
          ]
        },
        {
          "name": "stdout",
          "output_type": "stream",
          "text": [
            "Episode 4660 - Avg. Reward over the last 10 episodes 947.5 epsilon 0.02 steps 187.7 total steps 941204\n"
          ]
        },
        {
          "name": "stderr",
          "output_type": "stream",
          "text": [
            " 47%|████▋     | 4671/10000 [2:19:44<3:04:43,  2.08s/ episodes]"
          ]
        },
        {
          "name": "stdout",
          "output_type": "stream",
          "text": [
            "Episode 4670 - Avg. Reward over the last 10 episodes 865.2 epsilon 0.02 steps 188.1 total steps 943085\n"
          ]
        },
        {
          "name": "stderr",
          "output_type": "stream",
          "text": [
            " 47%|████▋     | 4681/10000 [2:20:00<2:15:49,  1.53s/ episodes]"
          ]
        },
        {
          "name": "stdout",
          "output_type": "stream",
          "text": [
            "Episode 4680 - Avg. Reward over the last 10 episodes 811.9 epsilon 0.02 steps 168.1 total steps 944766\n"
          ]
        },
        {
          "name": "stderr",
          "output_type": "stream",
          "text": [
            " 47%|████▋     | 4691/10000 [2:20:21<2:58:07,  2.01s/ episodes]"
          ]
        },
        {
          "name": "stdout",
          "output_type": "stream",
          "text": [
            "Episode 4690 - Avg. Reward over the last 10 episodes 1077.8 epsilon 0.02 steps 228.4 total steps 947050\n"
          ]
        },
        {
          "name": "stderr",
          "output_type": "stream",
          "text": [
            " 47%|████▋     | 4701/10000 [2:20:41<2:58:49,  2.02s/ episodes]"
          ]
        },
        {
          "name": "stdout",
          "output_type": "stream",
          "text": [
            "Episode 4700 - Avg. Reward over the last 10 episodes 953.3 epsilon 0.02 steps 223.1 total steps 949281\n"
          ]
        },
        {
          "name": "stderr",
          "output_type": "stream",
          "text": [
            " 47%|████▋     | 4711/10000 [2:21:13<6:56:56,  4.73s/ episodes]"
          ]
        },
        {
          "name": "stdout",
          "output_type": "stream",
          "text": [
            "Episode 4710 - Avg. Reward over the last 10 episodes 1042.8 epsilon 0.02 steps 346.2 total steps 952743\n"
          ]
        },
        {
          "name": "stderr",
          "output_type": "stream",
          "text": [
            " 47%|████▋     | 4721/10000 [2:21:44<3:46:25,  2.57s/ episodes]"
          ]
        },
        {
          "name": "stdout",
          "output_type": "stream",
          "text": [
            "Episode 4720 - Avg. Reward over the last 10 episodes 1070.3 epsilon 0.02 steps 332.3 total steps 956066\n"
          ]
        },
        {
          "name": "stderr",
          "output_type": "stream",
          "text": [
            " 47%|████▋     | 4731/10000 [2:22:02<2:43:09,  1.86s/ episodes]"
          ]
        },
        {
          "name": "stdout",
          "output_type": "stream",
          "text": [
            "Episode 4730 - Avg. Reward over the last 10 episodes 892.7 epsilon 0.02 steps 192.2 total steps 957988\n"
          ]
        },
        {
          "name": "stderr",
          "output_type": "stream",
          "text": [
            " 47%|████▋     | 4741/10000 [2:22:33<6:08:13,  4.20s/ episodes]"
          ]
        },
        {
          "name": "stdout",
          "output_type": "stream",
          "text": [
            "Episode 4740 - Avg. Reward over the last 10 episodes 1016.2 epsilon 0.02 steps 340.4 total steps 961392\n"
          ]
        },
        {
          "name": "stderr",
          "output_type": "stream",
          "text": [
            " 48%|████▊     | 4751/10000 [2:22:55<3:21:14,  2.30s/ episodes]"
          ]
        },
        {
          "name": "stdout",
          "output_type": "stream",
          "text": [
            "Episode 4750 - Avg. Reward over the last 10 episodes 1172.6 epsilon 0.02 steps 234.6 total steps 963738\n"
          ]
        },
        {
          "name": "stderr",
          "output_type": "stream",
          "text": [
            " 48%|████▊     | 4761/10000 [2:23:17<3:03:55,  2.11s/ episodes]"
          ]
        },
        {
          "name": "stdout",
          "output_type": "stream",
          "text": [
            "Episode 4760 - Avg. Reward over the last 10 episodes 1019.5 epsilon 0.02 steps 235.1 total steps 966089\n"
          ]
        },
        {
          "name": "stderr",
          "output_type": "stream",
          "text": [
            " 48%|████▊     | 4771/10000 [2:23:37<2:27:01,  1.69s/ episodes]"
          ]
        },
        {
          "name": "stdout",
          "output_type": "stream",
          "text": [
            "Episode 4770 - Avg. Reward over the last 10 episodes 1027.1 epsilon 0.02 steps 211.8 total steps 968207\n"
          ]
        },
        {
          "name": "stderr",
          "output_type": "stream",
          "text": [
            " 48%|████▊     | 4781/10000 [2:23:59<2:15:18,  1.56s/ episodes]"
          ]
        },
        {
          "name": "stdout",
          "output_type": "stream",
          "text": [
            "Episode 4780 - Avg. Reward over the last 10 episodes 1056.8 epsilon 0.02 steps 231.3 total steps 970520\n"
          ]
        },
        {
          "name": "stderr",
          "output_type": "stream",
          "text": [
            " 48%|████▊     | 4791/10000 [2:24:19<2:09:00,  1.49s/ episodes]"
          ]
        },
        {
          "name": "stdout",
          "output_type": "stream",
          "text": [
            "Episode 4790 - Avg. Reward over the last 10 episodes 1012.3 epsilon 0.02 steps 211.3 total steps 972633\n"
          ]
        },
        {
          "name": "stderr",
          "output_type": "stream",
          "text": [
            " 48%|████▊     | 4801/10000 [2:24:42<3:45:39,  2.60s/ episodes]"
          ]
        },
        {
          "name": "stdout",
          "output_type": "stream",
          "text": [
            "Episode 4800 - Avg. Reward over the last 10 episodes 1135.4 epsilon 0.02 steps 248.9 total steps 975122\n"
          ]
        },
        {
          "name": "stderr",
          "output_type": "stream",
          "text": [
            " 48%|████▊     | 4811/10000 [2:25:03<3:05:13,  2.14s/ episodes]"
          ]
        },
        {
          "name": "stdout",
          "output_type": "stream",
          "text": [
            "Episode 4810 - Avg. Reward over the last 10 episodes 971.3 epsilon 0.02 steps 226.5 total steps 977387\n"
          ]
        },
        {
          "name": "stderr",
          "output_type": "stream",
          "text": [
            " 48%|████▊     | 4821/10000 [2:25:27<2:56:26,  2.04s/ episodes]"
          ]
        },
        {
          "name": "stdout",
          "output_type": "stream",
          "text": [
            "Episode 4820 - Avg. Reward over the last 10 episodes 1059.6 epsilon 0.02 steps 249.9 total steps 979886\n"
          ]
        },
        {
          "name": "stderr",
          "output_type": "stream",
          "text": [
            " 48%|████▊     | 4831/10000 [2:25:47<2:51:57,  2.00s/ episodes]"
          ]
        },
        {
          "name": "stdout",
          "output_type": "stream",
          "text": [
            "Episode 4830 - Avg. Reward over the last 10 episodes 929.9 epsilon 0.02 steps 206.6 total steps 981952\n"
          ]
        },
        {
          "name": "stderr",
          "output_type": "stream",
          "text": [
            " 48%|████▊     | 4841/10000 [2:26:08<2:54:56,  2.03s/ episodes]"
          ]
        },
        {
          "name": "stdout",
          "output_type": "stream",
          "text": [
            "Episode 4840 - Avg. Reward over the last 10 episodes 973.3 epsilon 0.02 steps 225.8 total steps 984210\n"
          ]
        },
        {
          "name": "stderr",
          "output_type": "stream",
          "text": [
            " 49%|████▊     | 4851/10000 [2:26:27<2:36:32,  1.82s/ episodes]"
          ]
        },
        {
          "name": "stdout",
          "output_type": "stream",
          "text": [
            "Episode 4850 - Avg. Reward over the last 10 episodes 839.3 epsilon 0.02 steps 203.5 total steps 986245\n"
          ]
        },
        {
          "name": "stderr",
          "output_type": "stream",
          "text": [
            " 49%|████▊     | 4861/10000 [2:27:07<9:17:39,  6.51s/ episodes]"
          ]
        },
        {
          "name": "stdout",
          "output_type": "stream",
          "text": [
            "Episode 4860 - Avg. Reward over the last 10 episodes 1238.5 epsilon 0.02 steps 433.6 total steps 990581\n"
          ]
        },
        {
          "name": "stderr",
          "output_type": "stream",
          "text": [
            " 49%|████▊     | 4871/10000 [2:27:27<2:36:10,  1.83s/ episodes]"
          ]
        },
        {
          "name": "stdout",
          "output_type": "stream",
          "text": [
            "Episode 4870 - Avg. Reward over the last 10 episodes 961.8 epsilon 0.02 steps 205.3 total steps 992634\n"
          ]
        },
        {
          "name": "stderr",
          "output_type": "stream",
          "text": [
            " 49%|████▉     | 4881/10000 [2:27:53<3:33:14,  2.50s/ episodes]"
          ]
        },
        {
          "name": "stdout",
          "output_type": "stream",
          "text": [
            "Episode 4880 - Avg. Reward over the last 10 episodes 1326.4 epsilon 0.02 steps 268.7 total steps 995321\n"
          ]
        },
        {
          "name": "stderr",
          "output_type": "stream",
          "text": [
            " 49%|████▉     | 4891/10000 [2:28:13<3:07:51,  2.21s/ episodes]"
          ]
        },
        {
          "name": "stdout",
          "output_type": "stream",
          "text": [
            "Episode 4890 - Avg. Reward over the last 10 episodes 1035.1 epsilon 0.02 steps 222.6 total steps 997547\n"
          ]
        },
        {
          "name": "stderr",
          "output_type": "stream",
          "text": [
            " 49%|████▉     | 4901/10000 [2:28:36<2:34:37,  1.82s/ episodes]"
          ]
        },
        {
          "name": "stdout",
          "output_type": "stream",
          "text": [
            "Episode 4900 - Avg. Reward over the last 10 episodes 988.5 epsilon 0.02 steps 253.0 total steps 1000077\n",
            "Episode 4902 - Avg. Reward over the last 10 episodes 988.5 epsilon 0.02 total steps 1000077\n"
          ]
        },
        {
          "name": "stderr",
          "output_type": "stream",
          "text": [
            "\n"
          ]
        }
      ],
      "source": [
        "from dqn_agent import DQNAgent\n",
        "\n",
        "MODEL_NAME = \"DQN_\" + ENV_NAME + \"_\" + str(EPISODES)\n",
        "MODEL_PATH = \"models/\" + MODEL_NAME + \".pt\"\n",
        "env = mario_utils.make_env(ENV_NAME)\n",
        "\n",
        "# Cada vez que hacemos un experimento reseteamos la semilla para tener reproducibilidad\n",
        "env.seed(42)\n",
        "random.seed(42)\n",
        "np.random.seed(42)\n",
        "torch.manual_seed(42)\n",
        "torch.backends.cudnn.deterministic = True\n",
        "\n",
        "net = DQN_CNN_Model(env.observation_space.shape, env.action_space.n).to(DEVICE)\n",
        "\n",
        "\n",
        "#gym_env, model, obs_processing_func, memory_buffer_size, batch_size, learning_rate, gamma, epsilon_i, epsilon_f, epsilon_anneal_time\n",
        "agent = DQNAgent(env, net, process_state, BUFFER_SIZE, BATCH_SIZE, LEARNING_RATE, GAMMA, epsilon_i= EPSILON_INI, epsilon_f=EPSILON_MIN, epsilon_anneal_time=EPSILON_TIME, epsilon_decay = EPSILON_DECAY, episode_block = EPISODE_BLOCK)\n",
        "\n",
        "agent.train(EPISODES, STEPS, TOTAL_STEPS, writer_name = MODEL_NAME)\n",
        "agent.save_model(MODEL_PATH)\n",
        "# agent.load_model(MODEL_PATH)"
      ]
    },
    {
      "cell_type": "code",
      "execution_count": 21,
      "metadata": {
        "id": "et1TEQJ3t9I-",
        "pycharm": {
          "name": "#%%\n"
        }
      },
      "outputs": [
        {
          "data": {
            "text/html": [
              "\n",
              "      <iframe id=\"tensorboard-frame-826f67420693c9f5\" width=\"100%\" height=\"800\" frameborder=\"0\">\n",
              "      </iframe>\n",
              "      <script>\n",
              "        (function() {\n",
              "          const frame = document.getElementById(\"tensorboard-frame-826f67420693c9f5\");\n",
              "          const url = new URL(\"http://localhost\");\n",
              "          const port = 6006;\n",
              "          if (port) {\n",
              "            url.port = port;\n",
              "          }\n",
              "          frame.src = url;\n",
              "        })();\n",
              "      </script>\n",
              "    "
            ],
            "text/plain": [
              "<IPython.core.display.HTML object>"
            ]
          },
          "metadata": {},
          "output_type": "display_data"
        }
      ],
      "source": [
        "tensorboard --logdir=runs"
      ]
    },
    {
      "attachments": {},
      "cell_type": "markdown",
      "metadata": {
        "id": "t5H88XXxuLVn",
        "pycharm": {
          "name": "#%% md\n"
        }
      },
      "source": [
        "# Videos\n",
        "\n",
        "Para grabar los videos hacemos uso de la funcion `record_test_episode`  definida en nuestro agente.\n",
        "\n",
        "Dejamos un ejemplo de como hacerlo:"
      ]
    },
    {
      "cell_type": "code",
      "execution_count": null,
      "metadata": {},
      "outputs": [],
      "source": []
    },
    {
      "cell_type": "code",
      "execution_count": 22,
      "metadata": {
        "id": "pMZrPTlTuMCj",
        "pycharm": {
          "name": "#%%\n"
        }
      },
      "outputs": [
        {
          "name": "stdout",
          "output_type": "stream",
          "text": [
            "Step 0 - Action 1 - Reward 0.0\n",
            "Step 1 - Action 3 - Reward 1.0\n",
            "Step 2 - Action 3 - Reward 2.0\n",
            "Step 3 - Action 2 - Reward 1.0\n",
            "Step 4 - Action 3 - Reward 1.0\n",
            "Step 5 - Action 2 - Reward 3.0\n",
            "Step 6 - Action 2 - Reward 4.0\n",
            "Step 7 - Action 3 - Reward 4.0\n",
            "Step 8 - Action 3 - Reward 4.0\n",
            "Step 9 - Action 1 - Reward 4.0\n",
            "Step 10 - Action 2 - Reward 5.0\n",
            "Step 11 - Action 2 - Reward 7.0\n",
            "Step 12 - Action 3 - Reward 7.0\n",
            "Step 13 - Action 3 - Reward 5.0\n",
            "Step 14 - Action 2 - Reward 5.0\n",
            "Step 15 - Action 1 - Reward 6.0\n",
            "Step 16 - Action 1 - Reward 7.0\n",
            "Step 17 - Action 2 - Reward 7.0\n",
            "Step 18 - Action 2 - Reward 7.0\n",
            "Step 19 - Action 3 - Reward 6.0\n",
            "Step 20 - Action 3 - Reward 7.0\n",
            "Step 21 - Action 3 - Reward 7.0\n",
            "Step 22 - Action 3 - Reward 7.0\n",
            "Step 23 - Action 1 - Reward 7.0\n",
            "Step 24 - Action 1 - Reward 6.0\n",
            "Step 25 - Action 2 - Reward 7.0\n",
            "Step 26 - Action 2 - Reward 7.0\n",
            "Step 27 - Action 1 - Reward 7.0\n",
            "Step 28 - Action 2 - Reward 7.0\n",
            "Step 29 - Action 2 - Reward 6.0\n",
            "Step 30 - Action 3 - Reward 7.0\n",
            "Step 31 - Action 1 - Reward 7.0\n",
            "Step 32 - Action 1 - Reward 7.0\n",
            "Step 33 - Action 1 - Reward 7.0\n",
            "Step 34 - Action 3 - Reward 6.0\n",
            "Step 35 - Action 0 - Reward 7.0\n",
            "Step 36 - Action 2 - Reward 7.0\n",
            "Step 37 - Action 1 - Reward 7.0\n",
            "Step 38 - Action 1 - Reward 7.0\n",
            "Step 39 - Action 1 - Reward 6.0\n",
            "Step 40 - Action 0 - Reward 7.0\n",
            "Step 41 - Action 2 - Reward 6.0\n",
            "Step 42 - Action 3 - Reward 7.0\n",
            "Step 43 - Action 1 - Reward 7.0\n",
            "Step 44 - Action 1 - Reward 6.0\n",
            "Step 45 - Action 1 - Reward 2.0\n",
            "Step 46 - Action 3 - Reward 0.0\n",
            "Step 47 - Action 2 - Reward 0.0\n",
            "Step 48 - Action 1 - Reward 2.0\n",
            "Step 49 - Action 2 - Reward 2.0\n",
            "Step 50 - Action 0 - Reward 3.0\n",
            "Step 51 - Action 3 - Reward 3.0\n",
            "Step 52 - Action 0 - Reward 3.0\n",
            "Step 53 - Action 1 - Reward 4.0\n",
            "Step 54 - Action 1 - Reward 4.0\n",
            "Step 55 - Action 3 - Reward 5.0\n",
            "Step 56 - Action 3 - Reward 5.0\n",
            "Step 57 - Action 1 - Reward 6.0\n",
            "Step 58 - Action 1 - Reward 6.0\n",
            "Step 59 - Action 1 - Reward 6.0\n",
            "Step 60 - Action 2 - Reward 7.0\n",
            "Step 61 - Action 2 - Reward 7.0\n",
            "Step 62 - Action 2 - Reward 7.0\n",
            "Step 63 - Action 2 - Reward 7.0\n",
            "Step 64 - Action 2 - Reward 6.0\n",
            "Step 65 - Action 2 - Reward 7.0\n",
            "Step 66 - Action 2 - Reward 7.0\n",
            "Step 67 - Action 3 - Reward 7.0\n",
            "Step 68 - Action 3 - Reward 6.0\n",
            "Step 69 - Action 3 - Reward 3.0\n",
            "Step 70 - Action 3 - Reward 4.0\n",
            "Step 71 - Action 3 - Reward 3.0\n",
            "Step 72 - Action 3 - Reward 1.0\n",
            "Step 73 - Action 3 - Reward 1.0\n",
            "Step 74 - Action 3 - Reward -1.0\n",
            "Step 75 - Action 3 - Reward 0.0\n",
            "Step 76 - Action 3 - Reward 0.0\n",
            "Step 77 - Action 3 - Reward 0.0\n",
            "Step 78 - Action 1 - Reward 0.0\n",
            "Step 79 - Action 3 - Reward 0.0\n",
            "Step 80 - Action 3 - Reward 0.0\n",
            "Step 81 - Action 3 - Reward 0.0\n",
            "Step 82 - Action 3 - Reward 0.0\n",
            "Step 83 - Action 3 - Reward 0.0\n",
            "Step 84 - Action 3 - Reward -1.0\n",
            "Step 85 - Action 1 - Reward 0.0\n",
            "Step 86 - Action 1 - Reward 1.0\n",
            "Step 87 - Action 3 - Reward 2.0\n",
            "Step 88 - Action 3 - Reward 2.0\n",
            "Step 89 - Action 3 - Reward 0.0\n",
            "Step 90 - Action 1 - Reward 0.0\n",
            "Step 91 - Action 2 - Reward 1.0\n",
            "Step 92 - Action 3 - Reward 2.0\n",
            "Step 93 - Action 2 - Reward 3.0\n",
            "Step 94 - Action 1 - Reward 2.0\n",
            "Step 95 - Action 1 - Reward 5.0\n",
            "Step 96 - Action 1 - Reward 5.0\n",
            "Step 97 - Action 3 - Reward 6.0\n",
            "Step 98 - Action 3 - Reward 6.0\n",
            "Step 99 - Action 3 - Reward 4.0\n",
            "Step 100 - Action 1 - Reward 5.0\n",
            "Step 101 - Action 1 - Reward 7.0\n",
            "Step 102 - Action 3 - Reward 6.0\n",
            "Step 103 - Action 1 - Reward 7.0\n",
            "Step 104 - Action 3 - Reward 6.0\n",
            "Step 105 - Action 2 - Reward 7.0\n",
            "Step 106 - Action 2 - Reward 7.0\n",
            "Step 107 - Action 3 - Reward 7.0\n",
            "Step 108 - Action 0 - Reward 7.0\n",
            "Step 109 - Action 2 - Reward 6.0\n",
            "Step 110 - Action 3 - Reward 7.0\n",
            "Step 111 - Action 3 - Reward 7.0\n",
            "Step 112 - Action 0 - Reward 7.0\n",
            "Step 113 - Action 3 - Reward 7.0\n",
            "Step 114 - Action 0 - Reward 5.0\n",
            "Step 115 - Action 3 - Reward 5.0\n",
            "Step 116 - Action 2 - Reward 6.0\n",
            "Step 117 - Action 2 - Reward 6.0\n",
            "Step 118 - Action 2 - Reward 7.0\n",
            "Step 119 - Action 1 - Reward 6.0\n",
            "Step 120 - Action 1 - Reward 7.0\n",
            "Step 121 - Action 1 - Reward 7.0\n",
            "Step 122 - Action 2 - Reward 7.0\n",
            "Step 123 - Action 0 - Reward 7.0\n",
            "Step 124 - Action 3 - Reward 6.0\n",
            "Step 125 - Action 0 - Reward 7.0\n",
            "Step 126 - Action 1 - Reward 7.0\n",
            "Step 127 - Action 0 - Reward 7.0\n",
            "Step 128 - Action 2 - Reward 7.0\n",
            "Step 129 - Action 1 - Reward 6.0\n",
            "Step 130 - Action 0 - Reward 7.0\n",
            "Step 131 - Action 3 - Reward 6.0\n",
            "Step 132 - Action 3 - Reward 7.0\n",
            "Step 133 - Action 0 - Reward 6.0\n",
            "Step 134 - Action 1 - Reward 6.0\n",
            "Step 135 - Action 1 - Reward 7.0\n",
            "Step 136 - Action 0 - Reward 4.0\n",
            "Step 137 - Action 1 - Reward 0.0\n",
            "Step 138 - Action 3 - Reward 0.0\n",
            "Step 139 - Action 3 - Reward -1.0\n",
            "Step 140 - Action 3 - Reward 0.0\n",
            "Step 141 - Action 3 - Reward 0.0\n",
            "Step 142 - Action 3 - Reward 0.0\n",
            "Step 143 - Action 3 - Reward 0.0\n",
            "Step 144 - Action 3 - Reward -1.0\n",
            "Step 145 - Action 3 - Reward 0.0\n",
            "Step 146 - Action 3 - Reward 0.0\n",
            "Step 147 - Action 2 - Reward 0.0\n",
            "Step 148 - Action 3 - Reward 0.0\n",
            "Step 149 - Action 2 - Reward -1.0\n",
            "Step 150 - Action 2 - Reward 0.0\n",
            "Step 151 - Action 3 - Reward 0.0\n",
            "Step 152 - Action 3 - Reward 0.0\n",
            "Step 153 - Action 3 - Reward 0.0\n",
            "Step 154 - Action 3 - Reward -1.0\n",
            "Step 155 - Action 2 - Reward 0.0\n",
            "Step 156 - Action 3 - Reward 0.0\n",
            "Step 157 - Action 3 - Reward 0.0\n",
            "Step 158 - Action 3 - Reward 0.0\n",
            "Step 159 - Action 3 - Reward -1.0\n",
            "Step 160 - Action 3 - Reward 0.0\n",
            "Step 161 - Action 3 - Reward 0.0\n",
            "Step 162 - Action 3 - Reward 0.0\n",
            "Step 163 - Action 2 - Reward 0.0\n",
            "Step 164 - Action 2 - Reward -1.0\n",
            "Step 165 - Action 3 - Reward 0.0\n",
            "Step 166 - Action 3 - Reward 0.0\n",
            "Step 167 - Action 3 - Reward 0.0\n",
            "Step 168 - Action 3 - Reward 0.0\n",
            "Step 169 - Action 3 - Reward -1.0\n",
            "Step 170 - Action 2 - Reward 0.0\n",
            "Step 171 - Action 3 - Reward 0.0\n",
            "Step 172 - Action 3 - Reward 0.0\n",
            "Step 173 - Action 2 - Reward 0.0\n",
            "Step 174 - Action 3 - Reward -1.0\n",
            "Step 175 - Action 3 - Reward 0.0\n",
            "Step 176 - Action 2 - Reward 0.0\n",
            "Step 177 - Action 3 - Reward 0.0\n",
            "Step 178 - Action 3 - Reward 0.0\n",
            "Step 179 - Action 3 - Reward -1.0\n",
            "Step 180 - Action 3 - Reward 0.0\n",
            "Step 181 - Action 3 - Reward 0.0\n",
            "Step 182 - Action 3 - Reward 0.0\n",
            "Step 183 - Action 3 - Reward 0.0\n",
            "Step 184 - Action 2 - Reward -1.0\n",
            "Step 185 - Action 2 - Reward 0.0\n",
            "Step 186 - Action 2 - Reward 0.0\n",
            "Step 187 - Action 2 - Reward 0.0\n",
            "Step 188 - Action 2 - Reward 0.0\n",
            "Step 189 - Action 2 - Reward -15.0\n"
          ]
        },
        {
          "data": {
            "text/html": [
              "<video alt=\"test\" autoplay \n",
              "                    loop controls style=\"height: 400px;\">\n",
              "                    <source src=\"data:video/mp4;base64,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\" type=\"video/mp4\" />\n",
              "                 </video>"
            ],
            "text/plain": [
              "<IPython.core.display.HTML object>"
            ]
          },
          "metadata": {},
          "output_type": "display_data"
        }
      ],
      "source": [
        "wrapped_env = mario_utils.wrap_env(env)\n",
        "agent.record_test_episode(wrapped_env)"
      ]
    },
    {
      "attachments": {},
      "cell_type": "markdown",
      "metadata": {
        "id": "QETh1K7pt9I_"
      },
      "source": [
        "# Double Deep Q Learning\n",
        "\n",
        "Una variante del clásico algoritmo Q Learning, es Double Q Learning, este surge como solución al problema de sesgo de maximización. Esta variante fue rápidamente adaptada con tecnicás de optimización por decenso de gradientes (https://arxiv.org/pdf/1509.06461.pdf). Recomendamos leer el algoritmo del libro de Sutton y Barto para maximizar su entendimiento del mismo.\n",
        "\n",
        "***\n",
        "\n",
        "Vamos a utilizar el mismo modelo de red neuronal creado para el problema anterior y la misma implementación de memoria, dejamos un esqueleto de un agente de Double Deep Q learning para completar en el archivo **double_dqn_agent.py**"
      ]
    },
    {
      "cell_type": "code",
      "execution_count": null,
      "metadata": {
        "id": "kDNkAtdMt9I_",
        "pycharm": {
          "name": "#%%\n"
        }
      },
      "outputs": [],
      "source": [
        "env = make_env(ENV_NAME)\n",
        "from double_dqn_agent import DoubleDQNAgent\n",
        "# Cada vez que hacemos un experimento reseteamos la semilla para tener reproducibilidad\n",
        "env.seed(42)\n",
        "random.seed(42)\n",
        "np.random.seed(42)\n",
        "torch.manual_seed(42)\n",
        "torch.backends.cudnn.deterministic = True\n",
        "\n",
        "modelo_a = DQN_CNN_Model(env.observation_space.shape, env.action_space.n).to(DEVICE)\n",
        "modelo_b = DQN_CNN_Model(env.observation_space.shape, env.action_space.n).to(DEVICE)\n",
        "\n",
        "agent = DoubleDQNAgent(env, modelo_a, modelo_b, process_state, BUFFER_SIZE, BATCH_SIZE, LEARNING_RATE, GAMMA, epsilon_i= EPSILON_INI, epsilon_f=EPSILON_MIN, epsilon_anneal_time=EPSILON_TIME, epsilon_decay = EPSILON_DECAY, episode_block = EPISODE_BLOCK)\n",
        "\n",
        "rewards = agent.train(EPISODES, STEPS, TOTAL_STEPS)"
      ]
    },
    {
      "cell_type": "code",
      "execution_count": null,
      "metadata": {
        "id": "KG3Nbclrt9I_",
        "pycharm": {
          "name": "#%%\n"
        }
      },
      "outputs": [],
      "source": [
        "#Hiperparámetros de entrenamiento del agente Doble DQN\n",
        "\n",
        "TOTAL_STEPS =1000000\n",
        "EPISODES = 5\n",
        "STEPS = 100000\n",
        "\n",
        "EPSILON_INI = 1\n",
        "EPSILON_MIN = 0.05\n",
        "EPSILON_DECAY = 0.99998599985\n",
        "EPSILON_TIME = 1000\n",
        "\n",
        "BATCH_SIZE = 64\n",
        "BUFFER_SIZE = 4000\n",
        "\n",
        "GAMMA = 0.99\n",
        "LEARNING_RATE = 1e-4\n"
      ]
    },
    {
      "cell_type": "code",
      "execution_count": null,
      "metadata": {
        "id": "zi7zS7Qht9I_",
        "pycharm": {
          "name": "#%%\n"
        }
      },
      "outputs": [],
      "source": [
        "#initial environment\n",
        "env = mario_utils.make_env(ENV_NAME)\n",
        "wrapped_env = mario_utils.wrap_env(env)\n",
        "agent.record_test_episode(wrapped_env)"
      ]
    },
    {
      "attachments": {},
      "cell_type": "markdown",
      "metadata": {
        "id": "YNNvsKiEt9I_"
      },
      "source": [
        "# Comparaciones, Resultados, Comentarios...\n",
        "De aquí en adelante son libres de presentar como gusten los resultados comparativos de las técnicas."
      ]
    },
    {
      "cell_type": "code",
      "execution_count": null,
      "metadata": {
        "id": "uc4gilhpt9JA"
      },
      "outputs": [],
      "source": []
    }
  ],
  "metadata": {
    "accelerator": "GPU",
    "colab": {
      "provenance": []
    },
    "interpreter": {
      "hash": "81794d4967e6c3204c66dcd87b604927b115b27c00565d3d43f05ba2f3a2cb0d"
    },
    "kernelspec": {
      "display_name": "Python 3",
      "language": "python",
      "name": "python3"
    },
    "language_info": {
      "codemirror_mode": {
        "name": "ipython",
        "version": 3
      },
      "file_extension": ".py",
      "mimetype": "text/x-python",
      "name": "python",
      "nbconvert_exporter": "python",
      "pygments_lexer": "ipython3",
      "version": "3.9.16"
    }
  },
  "nbformat": 4,
  "nbformat_minor": 0
}
